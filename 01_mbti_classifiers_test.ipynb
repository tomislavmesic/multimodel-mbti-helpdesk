{
 "cells": [
  {
   "cell_type": "code",
   "execution_count": 2,
   "metadata": {},
   "outputs": [],
   "source": [
    "import pandas as pd\n",
    "import warnings\n",
    "\n",
    "warnings.filterwarnings(action=\"ignore\", message=r'.*Use subset.*of np.ndarray is not recommended')\n",
    "warnings.filterwarnings('always')  # \"error\", \"ignore\", \"always\", \"default\", \"module\" or \"once\"\n",
    "warnings.filterwarnings(\"ignore\")\n",
    "\n",
    "from imblearn.over_sampling import SMOTE, BorderlineSMOTE, ADASYN, RandomOverSampler\n",
    "from imblearn.under_sampling import RandomUnderSampler\n",
    "from imblearn.combine import SMOTEENN\n",
    "from xgboost import XGBClassifier\n",
    "from lightgbm import LGBMClassifier\n",
    "from sklearn.dummy import DummyClassifier\n",
    "from sklearn.neighbors import KNeighborsClassifier\n",
    "from sklearn.tree import DecisionTreeClassifier\n",
    "from sklearn.ensemble import RandomForestClassifier, AdaBoostClassifier, GradientBoostingClassifier, VotingClassifier\n",
    "from sklearn.svm import SVC\n",
    "from sklearn.naive_bayes import GaussianNB\n",
    "from sklearn.linear_model import LogisticRegression\n",
    "from sklearn.model_selection import train_test_split, cross_val_score\n",
    "from sklearn.metrics import confusion_matrix, f1_score, accuracy_score, roc_auc_score, precision_score, recall_score, average_precision_score, classification_report\n",
    "from sklearn.feature_extraction.text import CountVectorizer, TfidfTransformer\n",
    "from tabulate import tabulate"
   ]
  },
  {
   "cell_type": "code",
   "execution_count": 3,
   "metadata": {},
   "outputs": [
    {
     "data": {
      "text/html": [
       "<div>\n",
       "<style scoped>\n",
       "    .dataframe tbody tr th:only-of-type {\n",
       "        vertical-align: middle;\n",
       "    }\n",
       "\n",
       "    .dataframe tbody tr th {\n",
       "        vertical-align: top;\n",
       "    }\n",
       "\n",
       "    .dataframe thead th {\n",
       "        text-align: right;\n",
       "    }\n",
       "</style>\n",
       "<table border=\"1\" class=\"dataframe\">\n",
       "  <thead>\n",
       "    <tr style=\"text-align: right;\">\n",
       "      <th></th>\n",
       "      <th>type</th>\n",
       "      <th>clean_posts</th>\n",
       "      <th>E_I</th>\n",
       "      <th>S_N</th>\n",
       "      <th>T_F</th>\n",
       "      <th>J_P</th>\n",
       "    </tr>\n",
       "  </thead>\n",
       "  <tbody>\n",
       "    <tr>\n",
       "      <th>0</th>\n",
       "      <td>INFJ</td>\n",
       "      <td>enfp and intj moments sportscenter not top te...</td>\n",
       "      <td>0</td>\n",
       "      <td>0</td>\n",
       "      <td>0</td>\n",
       "      <td>1</td>\n",
       "    </tr>\n",
       "    <tr>\n",
       "      <th>1</th>\n",
       "      <td>ENTP</td>\n",
       "      <td>i m finding the lack of me in these posts ver...</td>\n",
       "      <td>1</td>\n",
       "      <td>0</td>\n",
       "      <td>1</td>\n",
       "      <td>0</td>\n",
       "    </tr>\n",
       "    <tr>\n",
       "      <th>2</th>\n",
       "      <td>INTP</td>\n",
       "      <td>good one of course to which i say i know that...</td>\n",
       "      <td>0</td>\n",
       "      <td>0</td>\n",
       "      <td>1</td>\n",
       "      <td>0</td>\n",
       "    </tr>\n",
       "    <tr>\n",
       "      <th>3</th>\n",
       "      <td>INTJ</td>\n",
       "      <td>dear intp i enjoyed our conversation the othe...</td>\n",
       "      <td>0</td>\n",
       "      <td>0</td>\n",
       "      <td>1</td>\n",
       "      <td>1</td>\n",
       "    </tr>\n",
       "    <tr>\n",
       "      <th>4</th>\n",
       "      <td>ENTJ</td>\n",
       "      <td>you re fired that s another silly misconcepti...</td>\n",
       "      <td>1</td>\n",
       "      <td>0</td>\n",
       "      <td>1</td>\n",
       "      <td>1</td>\n",
       "    </tr>\n",
       "  </tbody>\n",
       "</table>\n",
       "</div>"
      ],
      "text/plain": [
       "   type                                        clean_posts  E_I  S_N  T_F  J_P\n",
       "0  INFJ   enfp and intj moments sportscenter not top te...    0    0    0    1\n",
       "1  ENTP   i m finding the lack of me in these posts ver...    1    0    1    0\n",
       "2  INTP   good one of course to which i say i know that...    0    0    1    0\n",
       "3  INTJ   dear intp i enjoyed our conversation the othe...    0    0    1    1\n",
       "4  ENTJ   you re fired that s another silly misconcepti...    1    0    1    1"
      ]
     },
     "execution_count": 3,
     "metadata": {},
     "output_type": "execute_result"
    }
   ],
   "source": [
    "df = pd.read_csv('input/mbti_data_clean.csv')\n",
    "\n",
    "df.head()"
   ]
  },
  {
   "cell_type": "code",
   "execution_count": 4,
   "metadata": {},
   "outputs": [
    {
     "data": {
      "text/plain": [
       "<8675x886 sparse matrix of type '<class 'numpy.int64'>'\n",
       "\twith 1997107 stored elements in Compressed Sparse Row format>"
      ]
     },
     "execution_count": 4,
     "metadata": {},
     "output_type": "execute_result"
    }
   ],
   "source": [
    "# Build the vocabulary from 1500 words that are not common words or MBTI personalities\n",
    "vectorizer = CountVectorizer(stop_words = ['and','the','to','of','infj','entp','intp','intj','entj','enfj','infp','enfp','isfp','istp','isfj','istj','estp','esfp','estj','esfj','infjs','entps','intps','intjs','entjs','enfjs','infps','enfps','isfps','istps','isfjs','istjs','estps','esfps','estjs','esfjs'], max_features=1500, analyzer='word', max_df=0.8, min_df=0.1)\n",
    "\n",
    "corpus = df['clean_posts'].values.reshape(1,-1).tolist()[0]\n",
    "\n",
    "vectorizer.fit(corpus)\n",
    "\n",
    "X_cnt = vectorizer.fit_transform(corpus)\n",
    "\n",
    "X_cnt"
   ]
  },
  {
   "cell_type": "code",
   "execution_count": 5,
   "metadata": {},
   "outputs": [
    {
     "data": {
      "text/plain": [
       "886"
      ]
     },
     "execution_count": 5,
     "metadata": {},
     "output_type": "execute_result"
    }
   ],
   "source": [
    "# Transform the count matrix to a tf-idf representation\n",
    "tfizer = TfidfTransformer()\n",
    "tfizer.fit(X_cnt)\n",
    "\n",
    "X = tfizer.fit_transform(X_cnt).toarray()\n",
    "\n",
    "all_words = vectorizer.get_feature_names()\n",
    "\n",
    "n_words = len(all_words)\n",
    "\n",
    "n_words"
   ]
  },
  {
   "cell_type": "code",
   "execution_count": 6,
   "metadata": {},
   "outputs": [
    {
     "data": {
      "text/html": [
       "<div>\n",
       "<style scoped>\n",
       "    .dataframe tbody tr th:only-of-type {\n",
       "        vertical-align: middle;\n",
       "    }\n",
       "\n",
       "    .dataframe tbody tr th {\n",
       "        vertical-align: top;\n",
       "    }\n",
       "\n",
       "    .dataframe thead th {\n",
       "        text-align: right;\n",
       "    }\n",
       "</style>\n",
       "<table border=\"1\" class=\"dataframe\">\n",
       "  <thead>\n",
       "    <tr style=\"text-align: right;\">\n",
       "      <th></th>\n",
       "      <th>ability</th>\n",
       "      <th>able</th>\n",
       "      <th>above</th>\n",
       "      <th>absolutely</th>\n",
       "      <th>accept</th>\n",
       "      <th>accurate</th>\n",
       "      <th>across</th>\n",
       "      <th>act</th>\n",
       "      <th>action</th>\n",
       "      <th>actual</th>\n",
       "      <th>...</th>\n",
       "      <th>xd</th>\n",
       "      <th>yeah</th>\n",
       "      <th>year</th>\n",
       "      <th>years</th>\n",
       "      <th>yes</th>\n",
       "      <th>yesterday</th>\n",
       "      <th>yet</th>\n",
       "      <th>young</th>\n",
       "      <th>younger</th>\n",
       "      <th>yourself</th>\n",
       "    </tr>\n",
       "  </thead>\n",
       "  <tbody>\n",
       "    <tr>\n",
       "      <th>0</th>\n",
       "      <td>0.000000</td>\n",
       "      <td>0.000000</td>\n",
       "      <td>0.000000</td>\n",
       "      <td>0.00000</td>\n",
       "      <td>0.0</td>\n",
       "      <td>0.000000</td>\n",
       "      <td>0.000000</td>\n",
       "      <td>0.0</td>\n",
       "      <td>0.000000</td>\n",
       "      <td>0.000000</td>\n",
       "      <td>...</td>\n",
       "      <td>0.000000</td>\n",
       "      <td>0.000000</td>\n",
       "      <td>0.000000</td>\n",
       "      <td>0.049223</td>\n",
       "      <td>0.000000</td>\n",
       "      <td>0.0</td>\n",
       "      <td>0.000000</td>\n",
       "      <td>0.000000</td>\n",
       "      <td>0.000000</td>\n",
       "      <td>0.000000</td>\n",
       "    </tr>\n",
       "    <tr>\n",
       "      <th>1</th>\n",
       "      <td>0.000000</td>\n",
       "      <td>0.042993</td>\n",
       "      <td>0.000000</td>\n",
       "      <td>0.00000</td>\n",
       "      <td>0.0</td>\n",
       "      <td>0.000000</td>\n",
       "      <td>0.000000</td>\n",
       "      <td>0.0</td>\n",
       "      <td>0.000000</td>\n",
       "      <td>0.000000</td>\n",
       "      <td>...</td>\n",
       "      <td>0.000000</td>\n",
       "      <td>0.000000</td>\n",
       "      <td>0.039917</td>\n",
       "      <td>0.000000</td>\n",
       "      <td>0.000000</td>\n",
       "      <td>0.0</td>\n",
       "      <td>0.000000</td>\n",
       "      <td>0.000000</td>\n",
       "      <td>0.000000</td>\n",
       "      <td>0.039886</td>\n",
       "    </tr>\n",
       "    <tr>\n",
       "      <th>2</th>\n",
       "      <td>0.139811</td>\n",
       "      <td>0.048495</td>\n",
       "      <td>0.000000</td>\n",
       "      <td>0.11671</td>\n",
       "      <td>0.0</td>\n",
       "      <td>0.069987</td>\n",
       "      <td>0.000000</td>\n",
       "      <td>0.0</td>\n",
       "      <td>0.000000</td>\n",
       "      <td>0.000000</td>\n",
       "      <td>...</td>\n",
       "      <td>0.000000</td>\n",
       "      <td>0.000000</td>\n",
       "      <td>0.045025</td>\n",
       "      <td>0.148002</td>\n",
       "      <td>0.033104</td>\n",
       "      <td>0.0</td>\n",
       "      <td>0.000000</td>\n",
       "      <td>0.000000</td>\n",
       "      <td>0.000000</td>\n",
       "      <td>0.000000</td>\n",
       "    </tr>\n",
       "    <tr>\n",
       "      <th>3</th>\n",
       "      <td>0.000000</td>\n",
       "      <td>0.079378</td>\n",
       "      <td>0.000000</td>\n",
       "      <td>0.00000</td>\n",
       "      <td>0.0</td>\n",
       "      <td>0.000000</td>\n",
       "      <td>0.000000</td>\n",
       "      <td>0.0</td>\n",
       "      <td>0.062033</td>\n",
       "      <td>0.061423</td>\n",
       "      <td>...</td>\n",
       "      <td>0.000000</td>\n",
       "      <td>0.032595</td>\n",
       "      <td>0.000000</td>\n",
       "      <td>0.000000</td>\n",
       "      <td>0.000000</td>\n",
       "      <td>0.0</td>\n",
       "      <td>0.000000</td>\n",
       "      <td>0.000000</td>\n",
       "      <td>0.000000</td>\n",
       "      <td>0.000000</td>\n",
       "    </tr>\n",
       "    <tr>\n",
       "      <th>4</th>\n",
       "      <td>0.000000</td>\n",
       "      <td>0.000000</td>\n",
       "      <td>0.000000</td>\n",
       "      <td>0.00000</td>\n",
       "      <td>0.0</td>\n",
       "      <td>0.000000</td>\n",
       "      <td>0.000000</td>\n",
       "      <td>0.0</td>\n",
       "      <td>0.000000</td>\n",
       "      <td>0.000000</td>\n",
       "      <td>...</td>\n",
       "      <td>0.061151</td>\n",
       "      <td>0.000000</td>\n",
       "      <td>0.038393</td>\n",
       "      <td>0.000000</td>\n",
       "      <td>0.056455</td>\n",
       "      <td>0.0</td>\n",
       "      <td>0.000000</td>\n",
       "      <td>0.000000</td>\n",
       "      <td>0.000000</td>\n",
       "      <td>0.000000</td>\n",
       "    </tr>\n",
       "    <tr>\n",
       "      <th>...</th>\n",
       "      <td>...</td>\n",
       "      <td>...</td>\n",
       "      <td>...</td>\n",
       "      <td>...</td>\n",
       "      <td>...</td>\n",
       "      <td>...</td>\n",
       "      <td>...</td>\n",
       "      <td>...</td>\n",
       "      <td>...</td>\n",
       "      <td>...</td>\n",
       "      <td>...</td>\n",
       "      <td>...</td>\n",
       "      <td>...</td>\n",
       "      <td>...</td>\n",
       "      <td>...</td>\n",
       "      <td>...</td>\n",
       "      <td>...</td>\n",
       "      <td>...</td>\n",
       "      <td>...</td>\n",
       "      <td>...</td>\n",
       "      <td>...</td>\n",
       "    </tr>\n",
       "    <tr>\n",
       "      <th>8670</th>\n",
       "      <td>0.000000</td>\n",
       "      <td>0.000000</td>\n",
       "      <td>0.058614</td>\n",
       "      <td>0.00000</td>\n",
       "      <td>0.0</td>\n",
       "      <td>0.000000</td>\n",
       "      <td>0.000000</td>\n",
       "      <td>0.0</td>\n",
       "      <td>0.000000</td>\n",
       "      <td>0.000000</td>\n",
       "      <td>...</td>\n",
       "      <td>0.065136</td>\n",
       "      <td>0.000000</td>\n",
       "      <td>0.000000</td>\n",
       "      <td>0.000000</td>\n",
       "      <td>0.000000</td>\n",
       "      <td>0.0</td>\n",
       "      <td>0.042929</td>\n",
       "      <td>0.000000</td>\n",
       "      <td>0.059659</td>\n",
       "      <td>0.000000</td>\n",
       "    </tr>\n",
       "    <tr>\n",
       "      <th>8671</th>\n",
       "      <td>0.000000</td>\n",
       "      <td>0.000000</td>\n",
       "      <td>0.000000</td>\n",
       "      <td>0.00000</td>\n",
       "      <td>0.0</td>\n",
       "      <td>0.000000</td>\n",
       "      <td>0.094753</td>\n",
       "      <td>0.0</td>\n",
       "      <td>0.000000</td>\n",
       "      <td>0.000000</td>\n",
       "      <td>...</td>\n",
       "      <td>0.000000</td>\n",
       "      <td>0.056037</td>\n",
       "      <td>0.000000</td>\n",
       "      <td>0.000000</td>\n",
       "      <td>0.000000</td>\n",
       "      <td>0.0</td>\n",
       "      <td>0.000000</td>\n",
       "      <td>0.000000</td>\n",
       "      <td>0.000000</td>\n",
       "      <td>0.031651</td>\n",
       "    </tr>\n",
       "    <tr>\n",
       "      <th>8672</th>\n",
       "      <td>0.000000</td>\n",
       "      <td>0.000000</td>\n",
       "      <td>0.000000</td>\n",
       "      <td>0.00000</td>\n",
       "      <td>0.0</td>\n",
       "      <td>0.000000</td>\n",
       "      <td>0.000000</td>\n",
       "      <td>0.0</td>\n",
       "      <td>0.000000</td>\n",
       "      <td>0.000000</td>\n",
       "      <td>...</td>\n",
       "      <td>0.000000</td>\n",
       "      <td>0.000000</td>\n",
       "      <td>0.000000</td>\n",
       "      <td>0.137912</td>\n",
       "      <td>0.061694</td>\n",
       "      <td>0.0</td>\n",
       "      <td>0.000000</td>\n",
       "      <td>0.000000</td>\n",
       "      <td>0.000000</td>\n",
       "      <td>0.041923</td>\n",
       "    </tr>\n",
       "    <tr>\n",
       "      <th>8673</th>\n",
       "      <td>0.000000</td>\n",
       "      <td>0.059896</td>\n",
       "      <td>0.000000</td>\n",
       "      <td>0.00000</td>\n",
       "      <td>0.0</td>\n",
       "      <td>0.000000</td>\n",
       "      <td>0.000000</td>\n",
       "      <td>0.0</td>\n",
       "      <td>0.000000</td>\n",
       "      <td>0.046348</td>\n",
       "      <td>...</td>\n",
       "      <td>0.000000</td>\n",
       "      <td>0.073784</td>\n",
       "      <td>0.000000</td>\n",
       "      <td>0.000000</td>\n",
       "      <td>0.000000</td>\n",
       "      <td>0.0</td>\n",
       "      <td>0.000000</td>\n",
       "      <td>0.000000</td>\n",
       "      <td>0.000000</td>\n",
       "      <td>0.000000</td>\n",
       "    </tr>\n",
       "    <tr>\n",
       "      <th>8674</th>\n",
       "      <td>0.000000</td>\n",
       "      <td>0.036437</td>\n",
       "      <td>0.048489</td>\n",
       "      <td>0.00000</td>\n",
       "      <td>0.0</td>\n",
       "      <td>0.000000</td>\n",
       "      <td>0.000000</td>\n",
       "      <td>0.0</td>\n",
       "      <td>0.000000</td>\n",
       "      <td>0.000000</td>\n",
       "      <td>...</td>\n",
       "      <td>0.053884</td>\n",
       "      <td>0.000000</td>\n",
       "      <td>0.000000</td>\n",
       "      <td>0.000000</td>\n",
       "      <td>0.049747</td>\n",
       "      <td>0.0</td>\n",
       "      <td>0.000000</td>\n",
       "      <td>0.049002</td>\n",
       "      <td>0.000000</td>\n",
       "      <td>0.067609</td>\n",
       "    </tr>\n",
       "  </tbody>\n",
       "</table>\n",
       "<p>8675 rows × 886 columns</p>\n",
       "</div>"
      ],
      "text/plain": [
       "       ability      able     above  absolutely  accept  accurate    across  \\\n",
       "0     0.000000  0.000000  0.000000     0.00000     0.0  0.000000  0.000000   \n",
       "1     0.000000  0.042993  0.000000     0.00000     0.0  0.000000  0.000000   \n",
       "2     0.139811  0.048495  0.000000     0.11671     0.0  0.069987  0.000000   \n",
       "3     0.000000  0.079378  0.000000     0.00000     0.0  0.000000  0.000000   \n",
       "4     0.000000  0.000000  0.000000     0.00000     0.0  0.000000  0.000000   \n",
       "...        ...       ...       ...         ...     ...       ...       ...   \n",
       "8670  0.000000  0.000000  0.058614     0.00000     0.0  0.000000  0.000000   \n",
       "8671  0.000000  0.000000  0.000000     0.00000     0.0  0.000000  0.094753   \n",
       "8672  0.000000  0.000000  0.000000     0.00000     0.0  0.000000  0.000000   \n",
       "8673  0.000000  0.059896  0.000000     0.00000     0.0  0.000000  0.000000   \n",
       "8674  0.000000  0.036437  0.048489     0.00000     0.0  0.000000  0.000000   \n",
       "\n",
       "      act    action    actual  ...        xd      yeah      year     years  \\\n",
       "0     0.0  0.000000  0.000000  ...  0.000000  0.000000  0.000000  0.049223   \n",
       "1     0.0  0.000000  0.000000  ...  0.000000  0.000000  0.039917  0.000000   \n",
       "2     0.0  0.000000  0.000000  ...  0.000000  0.000000  0.045025  0.148002   \n",
       "3     0.0  0.062033  0.061423  ...  0.000000  0.032595  0.000000  0.000000   \n",
       "4     0.0  0.000000  0.000000  ...  0.061151  0.000000  0.038393  0.000000   \n",
       "...   ...       ...       ...  ...       ...       ...       ...       ...   \n",
       "8670  0.0  0.000000  0.000000  ...  0.065136  0.000000  0.000000  0.000000   \n",
       "8671  0.0  0.000000  0.000000  ...  0.000000  0.056037  0.000000  0.000000   \n",
       "8672  0.0  0.000000  0.000000  ...  0.000000  0.000000  0.000000  0.137912   \n",
       "8673  0.0  0.000000  0.046348  ...  0.000000  0.073784  0.000000  0.000000   \n",
       "8674  0.0  0.000000  0.000000  ...  0.053884  0.000000  0.000000  0.000000   \n",
       "\n",
       "           yes  yesterday       yet     young   younger  yourself  \n",
       "0     0.000000        0.0  0.000000  0.000000  0.000000  0.000000  \n",
       "1     0.000000        0.0  0.000000  0.000000  0.000000  0.039886  \n",
       "2     0.033104        0.0  0.000000  0.000000  0.000000  0.000000  \n",
       "3     0.000000        0.0  0.000000  0.000000  0.000000  0.000000  \n",
       "4     0.056455        0.0  0.000000  0.000000  0.000000  0.000000  \n",
       "...        ...        ...       ...       ...       ...       ...  \n",
       "8670  0.000000        0.0  0.042929  0.000000  0.059659  0.000000  \n",
       "8671  0.000000        0.0  0.000000  0.000000  0.000000  0.031651  \n",
       "8672  0.061694        0.0  0.000000  0.000000  0.000000  0.041923  \n",
       "8673  0.000000        0.0  0.000000  0.000000  0.000000  0.000000  \n",
       "8674  0.049747        0.0  0.000000  0.049002  0.000000  0.067609  \n",
       "\n",
       "[8675 rows x 886 columns]"
      ]
     },
     "execution_count": 6,
     "metadata": {},
     "output_type": "execute_result"
    }
   ],
   "source": [
    "X_df = pd.DataFrame.from_dict({w: X[:, i] for i, w in enumerate(all_words)})\n",
    "\n",
    "X_df"
   ]
  },
  {
   "cell_type": "code",
   "execution_count": 7,
   "metadata": {},
   "outputs": [],
   "source": [
    "def balance_random_oversample(X_train, y_train):\n",
    "    oversampler = RandomOverSampler(sampling_strategy=0.9, random_state=0)\n",
    "    \n",
    "    X_resampled, y_resampled = oversampler.fit_resample(X_train, y_train)\n",
    "    \n",
    "    return X_resampled, y_resampled\n",
    "\n",
    "def balance_smote_oversample(X_train, y_train):\n",
    "    oversampler = SMOTE(random_state=0)\n",
    "    \n",
    "    X_resampled, y_resampled = oversampler.fit_resample(X_train, y_train)\n",
    "    \n",
    "    return X_resampled, y_resampled\n",
    "\n",
    "def balance_smote_oversample_random_undersample(X_train, y_train):\n",
    "    oversampler = SMOTE(sampling_strategy=0.9, random_state=0) \n",
    "    undersampler = RandomUnderSampler(sampling_strategy=0.9, random_state=0)\n",
    "\n",
    "    # Applying oversampler to oversample the minority class\n",
    "    X_resampled, y_resampled = oversampler.fit_resample(X_train, y_train)\n",
    "\n",
    "    # Applying undersampler to reduce the majority class\n",
    "    X_resampled, y_resampled = undersampler.fit_resample(X_resampled, y_resampled)\n",
    "\n",
    "    return X_resampled, y_resampled\n",
    "\n",
    "def balance_borderlinesmote_oversample(X_train, y_train):\n",
    "    oversampler = BorderlineSMOTE(random_state=0)\n",
    "    \n",
    "    X_resampled, y_resampled = oversampler.fit_resample(X_train, y_train)\n",
    "    \n",
    "    return X_resampled, y_resampled\n",
    "\n",
    "def balance_smoteenn_oversample_random_undersample(X_train, y_train):\n",
    "    oversampler = SMOTEENN(sampling_strategy='auto', random_state=42)\n",
    "    undersampler = RandomUnderSampler(sampling_strategy=0.7, random_state=0)\n",
    "    \n",
    "    # Apply SMOTEENN (combination of SMOTE and ENN)\n",
    "    X_resampled, y_resampled = oversampler.fit_resample(X_train, y_train)\n",
    "\n",
    "    # Apply random undersampling\n",
    "    X_resampled, y_resampled = undersampler.fit_resample(X_resampled, y_resampled)\n",
    "\n",
    "    return X_resampled, y_resampled\n",
    "\n",
    "def balance_smoteen_adasyn_oversample_random_undersample(X_train, y_train):\n",
    "    oversampler_1 = SMOTEENN(sampling_strategy='auto', random_state=42)\n",
    "    oversampler_2 = ADASYN(sampling_strategy=0.6, random_state=0, n_neighbors=5)\n",
    "    undersampler = RandomUnderSampler(sampling_strategy=0.7, random_state=0)\n",
    "\n",
    "    # Balance the dataset using a combination of SMOTE and ENN\n",
    "    X_resampled, y_resampled = oversampler_1.fit_resample(X_train, y_train)\n",
    "\n",
    "    # Apply ADASYN for additional oversampling\n",
    "    X_resampled, y_resampled = oversampler_2.fit_resample(X_resampled, y_resampled)\n",
    "\n",
    "    # Apply additional undersampling to reduce the majority class size\n",
    "    X_resampled, y_resampled = undersampler.fit_resample(X_resampled, y_resampled)\n",
    "\n",
    "    return X_resampled, y_resampled"
   ]
  },
  {
   "cell_type": "code",
   "execution_count": 8,
   "metadata": {},
   "outputs": [],
   "source": [
    "# Define the features and target variables\n",
    "y_EI = df['E_I']\n",
    "y_SN = df['S_N']\n",
    "y_TF = df['T_F']\n",
    "y_JP = df['J_P']"
   ]
  },
  {
   "cell_type": "code",
   "execution_count": 42,
   "metadata": {},
   "outputs": [
    {
     "name": "stdout",
     "output_type": "stream",
     "text": [
      "0    6676\n",
      "1    1999\n",
      "Name: E_I, dtype: int64\n"
     ]
    }
   ],
   "source": [
    "# Check class distribution\n",
    "print(y_EI.value_counts())"
   ]
  },
  {
   "cell_type": "code",
   "execution_count": 43,
   "metadata": {},
   "outputs": [
    {
     "name": "stdout",
     "output_type": "stream",
     "text": [
      "0    7478\n",
      "1    1197\n",
      "Name: S_N, dtype: int64\n"
     ]
    }
   ],
   "source": [
    "print(y_SN.value_counts())"
   ]
  },
  {
   "cell_type": "code",
   "execution_count": 44,
   "metadata": {},
   "outputs": [
    {
     "name": "stdout",
     "output_type": "stream",
     "text": [
      "0    4694\n",
      "1    3981\n",
      "Name: T_F, dtype: int64\n"
     ]
    }
   ],
   "source": [
    "print(y_TF.value_counts())"
   ]
  },
  {
   "cell_type": "code",
   "execution_count": 45,
   "metadata": {},
   "outputs": [
    {
     "name": "stdout",
     "output_type": "stream",
     "text": [
      "0    5241\n",
      "1    3434\n",
      "Name: J_P, dtype: int64\n"
     ]
    }
   ],
   "source": [
    "print(y_JP.value_counts())"
   ]
  },
  {
   "cell_type": "code",
   "execution_count": 9,
   "metadata": {},
   "outputs": [],
   "source": [
    "classifiers = {\n",
    "    'Dummy': lambda: DummyClassifier(strategy='most_frequent', random_state=42),\n",
    "    'SVM': lambda: SVC(probability=True, random_state=42),\n",
    "    'LGBM': lambda: LGBMClassifier(random_state=42),\n",
    "    'KNeighbors': lambda: KNeighborsClassifier(),    \n",
    "    'DecisionTree': lambda: DecisionTreeClassifier(random_state=42),\n",
    "    'RandomForest': lambda: RandomForestClassifier(random_state=42),\n",
    "    'AdaBoost': lambda: AdaBoostClassifier(),\n",
    "    'GradientBoosting': lambda: GradientBoostingClassifier(),\n",
    "    'GaussianNB': lambda: GaussianNB(),\n",
    "    'LogisticRegression': lambda: LogisticRegression(random_state=42),\n",
    "    'XGB': lambda: XGBClassifier(use_label_encoder=False, eval_metric='logloss', random_state=42),\n",
    "    'VotingClassifier': lambda: VotingClassifier(estimators=[\n",
    "        ('SVM', SVC(probability=True, random_state=42)),\n",
    "        ('LGBM', LGBMClassifier(random_state=42)),\n",
    "        ('RandomForest', RandomForestClassifier(random_state=42)),\n",
    "        ('LogisticRegression', LogisticRegression(random_state=42)),\n",
    "        ('XGB', XGBClassifier(use_label_encoder=False, eval_metric='logloss', random_state=42)),\n",
    "    ], voting='soft')\n",
    "}"
   ]
  },
  {
   "cell_type": "code",
   "execution_count": 10,
   "metadata": {},
   "outputs": [],
   "source": [
    "resamplers = {\n",
    "  'RandomOverSampler': 'balance_random_oversample',\n",
    "  'SMOTE': 'balance_smote_oversample',\n",
    "  'SMOTE + RandomUnderSampler': 'balance_smote_oversample_random_undersample',\n",
    "  'BorderlineSMOTE': 'balance_borderlinesmote_oversample',\n",
    "  'SMOTEENN + RandomUnderSampler': 'balance_smoteenn_oversample_random_undersample',\n",
    "  'SMOTEENN & ADASYN + RandomUnderSampler': 'balance_smoteen_adasyn_oversample_random_undersample'\n",
    "}"
   ]
  },
  {
   "cell_type": "code",
   "execution_count": 11,
   "metadata": {},
   "outputs": [],
   "source": [
    "def train_test_split_data(class_name, resampler=None):\n",
    "  y_df = df[class_name]\n",
    "  \n",
    "  if resampler == None:\n",
    "    X_cl = X_df\n",
    "    y_cl = y_df\n",
    "  else:\n",
    "    rs = resamplers[resampler]\n",
    "\n",
    "    X_cl, y_cl = globals()[rs](X_df, y_df)\n",
    "\n",
    "  X_cl_train, X_cl_test, y_cl_train, y_cl_test = train_test_split(X_cl, y_cl, test_size=0.2, random_state=42, stratify=y_cl)\n",
    "\n",
    "  return X_cl_train, X_cl_test, y_cl_train, y_cl_test"
   ]
  },
  {
   "cell_type": "code",
   "execution_count": 12,
   "metadata": {},
   "outputs": [],
   "source": [
    "def classifier_report(classifier_name, y_test, y_pred):\n",
    "    tn, fp, fn, tp = confusion_matrix(y_test, y_pred).ravel()\n",
    "    accuracy = accuracy_score(y_test, y_pred)\n",
    "    precision = precision_score(y_test, y_pred)\n",
    "    recall = recall_score(y_test, y_pred)\n",
    "    f1 = f1_score(y_test, y_pred)\n",
    "    roc_auc = roc_auc_score(y_test, y_pred)\n",
    "    avg_pre = average_precision_score(y_test, y_pred)\n",
    "    \n",
    "    report = {\n",
    "        'Classifier': classifier_name,\n",
    "        'TP': tp,\n",
    "        'TN': tn,\n",
    "        'FP': fp,\n",
    "        'FN': fn,\n",
    "        'Correct': tp + tn,\n",
    "        'Incorrect': fp + fn,\n",
    "        'Accuracy': round(accuracy, 3),\n",
    "        'Precision': round(precision, 3),\n",
    "        'Recall': round(recall, 3),\n",
    "        'F1': round(f1, 3),\n",
    "        'ROC AUC': round(roc_auc, 3),\n",
    "        'Avg Precision': round(avg_pre, 3)\n",
    "    }\n",
    "    return report"
   ]
  },
  {
   "cell_type": "code",
   "execution_count": 13,
   "metadata": {},
   "outputs": [],
   "source": [
    "# Display the class classificators report\n",
    "def class_report(X_train, X_test, y_train, y_test, resampler=None):\n",
    "    reports = []\n",
    "    \n",
    "    for clf_name, clf in classifiers.items():\n",
    "\n",
    "        classifier = clf()\n",
    "\n",
    "        if resampler == None:\n",
    "            X_tr = X_train\n",
    "            y_tr = y_train\n",
    "        else:\n",
    "            X_tr, y_tr = globals()[resampler](X_train, y_train)\n",
    "\n",
    "        classifier.fit(X_tr, y_tr)\n",
    "        y_pred = classifier.predict(X_test)\n",
    "\n",
    "        reports.append(classifier_report(clf_name, y_test, y_pred))\n",
    "    \n",
    "    df_reports = pd.DataFrame(reports)\n",
    "    \n",
    "    return df_reports"
   ]
  },
  {
   "cell_type": "code",
   "execution_count": 14,
   "metadata": {},
   "outputs": [],
   "source": [
    "# Display class classifiers report\n",
    "def class_classifiers_report(class_name, resampler=None):\n",
    "    reports = []\n",
    "\n",
    "    X_train, X_test, y_train, y_test = train_test_split_data(class_name, resampler)\n",
    "    \n",
    "    for clf_name, clf in classifiers.items():\n",
    "\n",
    "        classifier = clf()\n",
    "\n",
    "        classifier.fit(X_train, y_train)\n",
    "        y_pred = classifier.predict(X_test)\n",
    "\n",
    "        reports.append(classifier_report(clf_name, y_test, y_pred))\n",
    "    \n",
    "    df_reports = pd.DataFrame(reports)\n",
    "    \n",
    "    return df_reports"
   ]
  },
  {
   "cell_type": "code",
   "execution_count": 15,
   "metadata": {},
   "outputs": [],
   "source": [
    "# Display none resampled class classifiers report\n",
    "def noneresampled_class_classifiers_report(class_name):    \n",
    "    cl_clf_report = class_classifiers_report(class_name)\n",
    "    \n",
    "    print('{:s} Classifiers Report'.format(class_name))\n",
    "\n",
    "    print(tabulate(cl_clf_report, headers=cl_clf_report.columns, tablefmt=\"grid\"))"
   ]
  },
  {
   "cell_type": "code",
   "execution_count": 16,
   "metadata": {},
   "outputs": [],
   "source": [
    "# Display resampled class classifiers report\n",
    "def resampled_class_classifiers_report(class_name, resampler):    \n",
    "    cl_clf_report = class_classifiers_report(class_name, resampler)\n",
    "    \n",
    "    print('{:s} Classifiers Report with resampling: {:s}'.format(class_name, resampler))\n",
    "\n",
    "    print(tabulate(cl_clf_report, headers=cl_clf_report.columns, tablefmt=\"grid\"))"
   ]
  },
  {
   "cell_type": "code",
   "execution_count": 121,
   "metadata": {},
   "outputs": [],
   "source": [
    "##############\n",
    "# E_I ########\n",
    "##############"
   ]
  },
  {
   "cell_type": "code",
   "execution_count": 32,
   "metadata": {},
   "outputs": [
    {
     "name": "stdout",
     "output_type": "stream",
     "text": [
      "E_I Classifiers Report: RandomOverSampler\n",
      "+----+--------------------+------+------+------+------+-----------+-------------+------------+-------------+----------+-------+-----------+-----------------+\n",
      "|    | Classifier         |   TP |   TN |   FP |   FN |   Correct |   Incorrect |   Accuracy |   Precision |   Recall |    F1 |   ROC AUC |   Avg Precision |\n",
      "+====+====================+======+======+======+======+===========+=============+============+=============+==========+=======+===========+=================+\n",
      "|  0 | Dummy              |    0 | 1335 |    0 | 1202 |      1335 |        1202 |      0.526 |       0     |    0     | 0     |     0.5   |           0.474 |\n",
      "+----+--------------------+------+------+------+------+-----------+-------------+------------+-------------+----------+-------+-----------+-----------------+\n",
      "|  1 | SVM                | 1080 | 1162 |  173 |  122 |      2242 |         295 |      0.884 |       0.862 |    0.899 | 0.88  |     0.884 |           0.823 |\n",
      "+----+--------------------+------+------+------+------+-----------+-------------+------------+-------------+----------+-------+-----------+-----------------+\n",
      "|  2 | LGBM               | 1093 | 1161 |  174 |  109 |      2254 |         283 |      0.888 |       0.863 |    0.909 | 0.885 |     0.889 |           0.827 |\n",
      "+----+--------------------+------+------+------+------+-----------+-------------+------------+-------------+----------+-------+-----------+-----------------+\n",
      "|  3 | KNeighbors         |  821 |  904 |  431 |  381 |      1725 |         812 |      0.68  |       0.656 |    0.683 | 0.669 |     0.68  |           0.598 |\n",
      "+----+--------------------+------+------+------+------+-----------+-------------+------------+-------------+----------+-------+-----------+-----------------+\n",
      "|  4 | DecisionTree       | 1135 |  992 |  343 |   67 |      2127 |         410 |      0.838 |       0.768 |    0.944 | 0.847 |     0.844 |           0.752 |\n",
      "+----+--------------------+------+------+------+------+-----------+-------------+------------+-------------+----------+-------+-----------+-----------------+\n",
      "|  5 | RandomForest       | 1109 | 1319 |   16 |   93 |      2428 |         109 |      0.957 |       0.986 |    0.923 | 0.953 |     0.955 |           0.946 |\n",
      "+----+--------------------+------+------+------+------+-----------+-------------+------------+-------------+----------+-------+-----------+-----------------+\n",
      "|  6 | AdaBoost           |  739 |  934 |  401 |  463 |      1673 |         864 |      0.659 |       0.648 |    0.615 | 0.631 |     0.657 |           0.581 |\n",
      "+----+--------------------+------+------+------+------+-----------+-------------+------------+-------------+----------+-------+-----------+-----------------+\n",
      "|  7 | GradientBoosting   |  836 | 1057 |  278 |  366 |      1893 |         644 |      0.746 |       0.75  |    0.696 | 0.722 |     0.744 |           0.666 |\n",
      "+----+--------------------+------+------+------+------+-----------+-------------+------------+-------------+----------+-------+-----------+-----------------+\n",
      "|  8 | GaussianNB         |  787 |  915 |  420 |  415 |      1702 |         835 |      0.671 |       0.652 |    0.655 | 0.653 |     0.67  |           0.59  |\n",
      "+----+--------------------+------+------+------+------+-----------+-------------+------------+-------------+----------+-------+-----------+-----------------+\n",
      "|  9 | LogisticRegression |  831 |  971 |  364 |  371 |      1802 |         735 |      0.71  |       0.695 |    0.691 | 0.693 |     0.709 |           0.627 |\n",
      "+----+--------------------+------+------+------+------+-----------+-------------+------------+-------------+----------+-------+-----------+-----------------+\n",
      "| 10 | XGB                | 1128 | 1193 |  142 |   74 |      2321 |         216 |      0.915 |       0.888 |    0.938 | 0.913 |     0.916 |           0.863 |\n",
      "+----+--------------------+------+------+------+------+-----------+-------------+------------+-------------+----------+-------+-----------+-----------------+\n",
      "| 11 | VotingClassifier   | 1121 | 1218 |  117 |   81 |      2339 |         198 |      0.922 |       0.905 |    0.933 | 0.919 |     0.922 |           0.876 |\n",
      "+----+--------------------+------+------+------+------+-----------+-------------+------------+-------------+----------+-------+-----------+-----------------+\n"
     ]
    }
   ],
   "source": [
    "# E_I Classifiers Test Report: Random Oversample\n",
    "resampled_class_classifiers_report('E_I', 'RandomOverSampler')"
   ]
  },
  {
   "cell_type": "code",
   "execution_count": 51,
   "metadata": {},
   "outputs": [
    {
     "name": "stdout",
     "output_type": "stream",
     "text": [
      "E_I Classifiers Report with resampling: SMOTE\n",
      "+----+--------------------+------+------+------+------+-----------+-------------+------------+-------------+----------+-------+-----------+-----------------+\n",
      "|    | Classifier         |   TP |   TN |   FP |   FN |   Correct |   Incorrect |   Accuracy |   Precision |   Recall |    F1 |   ROC AUC |   Avg Precision |\n",
      "+====+====================+======+======+======+======+===========+=============+============+=============+==========+=======+===========+=================+\n",
      "|  0 | Dummy              | 1335 |    0 | 1336 |    0 |      1335 |        1336 |      0.5   |       0.5   |    1     | 0.667 |     0.5   |           0.5   |\n",
      "+----+--------------------+------+------+------+------+-----------+-------------+------------+-------------+----------+-------+-----------+-----------------+\n",
      "|  1 | SVM                | 1085 | 1279 |   57 |  250 |      2364 |         307 |      0.885 |       0.95  |    0.813 | 0.876 |     0.885 |           0.866 |\n",
      "+----+--------------------+------+------+------+------+-----------+-------------+------------+-------------+----------+-------+-----------+-----------------+\n",
      "|  2 | LGBM               | 1034 | 1269 |   67 |  301 |      2303 |         368 |      0.862 |       0.939 |    0.775 | 0.849 |     0.862 |           0.84  |\n",
      "+----+--------------------+------+------+------+------+-----------+-------------+------------+-------------+----------+-------+-----------+-----------------+\n",
      "|  3 | KNeighbors         | 1335 |   19 | 1317 |    0 |      1354 |        1317 |      0.507 |       0.503 |    1     | 0.67  |     0.507 |           0.503 |\n",
      "+----+--------------------+------+------+------+------+-----------+-------------+------------+-------------+----------+-------+-----------+-----------------+\n",
      "|  4 | DecisionTree       | 1060 | 1000 |  336 |  275 |      2060 |         611 |      0.771 |       0.759 |    0.794 | 0.776 |     0.771 |           0.706 |\n",
      "+----+--------------------+------+------+------+------+-----------+-------------+------------+-------------+----------+-------+-----------+-----------------+\n",
      "|  5 | RandomForest       | 1035 | 1300 |   36 |  300 |      2335 |         336 |      0.874 |       0.966 |    0.775 | 0.86  |     0.874 |           0.862 |\n",
      "+----+--------------------+------+------+------+------+-----------+-------------+------------+-------------+----------+-------+-----------+-----------------+\n",
      "|  6 | AdaBoost           | 1074 | 1147 |  189 |  261 |      2221 |         450 |      0.832 |       0.85  |    0.804 | 0.827 |     0.832 |           0.782 |\n",
      "+----+--------------------+------+------+------+------+-----------+-------------+------------+-------------+----------+-------+-----------+-----------------+\n",
      "|  7 | GradientBoosting   | 1007 | 1262 |   74 |  328 |      2269 |         402 |      0.849 |       0.932 |    0.754 | 0.834 |     0.849 |           0.825 |\n",
      "+----+--------------------+------+------+------+------+-----------+-------------+------------+-------------+----------+-------+-----------+-----------------+\n",
      "|  8 | GaussianNB         |  987 | 1102 |  234 |  348 |      2089 |         582 |      0.782 |       0.808 |    0.739 | 0.772 |     0.782 |           0.728 |\n",
      "+----+--------------------+------+------+------+------+-----------+-------------+------------+-------------+----------+-------+-----------+-----------------+\n",
      "|  9 | LogisticRegression | 1025 |  979 |  357 |  310 |      2004 |         667 |      0.75  |       0.742 |    0.768 | 0.755 |     0.75  |           0.686 |\n",
      "+----+--------------------+------+------+------+------+-----------+-------------+------------+-------------+----------+-------+-----------+-----------------+\n",
      "| 10 | XGB                | 1041 | 1244 |   92 |  294 |      2285 |         386 |      0.855 |       0.919 |    0.78  | 0.844 |     0.855 |           0.827 |\n",
      "+----+--------------------+------+------+------+------+-----------+-------------+------------+-------------+----------+-------+-----------+-----------------+\n",
      "| 11 | VotingClassifier   | 1077 | 1266 |   70 |  258 |      2343 |         328 |      0.877 |       0.939 |    0.807 | 0.868 |     0.877 |           0.854 |\n",
      "+----+--------------------+------+------+------+------+-----------+-------------+------------+-------------+----------+-------+-----------+-----------------+\n"
     ]
    }
   ],
   "source": [
    "# E_I Classifiers Test Report: SMOTE\n",
    "resampled_class_classifiers_report('E_I', 'SMOTE')"
   ]
  },
  {
   "cell_type": "code",
   "execution_count": 52,
   "metadata": {},
   "outputs": [
    {
     "name": "stdout",
     "output_type": "stream",
     "text": [
      "E_I Classifiers Report with resampling: SMOTE + RandomUnderSampler\n",
      "+----+--------------------+------+------+------+------+-----------+-------------+------------+-------------+----------+-------+-----------+-----------------+\n",
      "|    | Classifier         |   TP |   TN |   FP |   FN |   Correct |   Incorrect |   Accuracy |   Precision |   Recall |    F1 |   ROC AUC |   Avg Precision |\n",
      "+====+====================+======+======+======+======+===========+=============+============+=============+==========+=======+===========+=================+\n",
      "|  0 | Dummy              |    0 | 1335 |    0 | 1202 |      1335 |        1202 |      0.526 |       0     |    0     | 0     |     0.5   |           0.474 |\n",
      "+----+--------------------+------+------+------+------+-----------+-------------+------------+-------------+----------+-------+-----------+-----------------+\n",
      "|  1 | SVM                |  920 | 1286 |   49 |  282 |      2206 |         331 |      0.87  |       0.949 |    0.765 | 0.848 |     0.864 |           0.838 |\n",
      "+----+--------------------+------+------+------+------+-----------+-------------+------------+-------------+----------+-------+-----------+-----------------+\n",
      "|  2 | LGBM               |  894 | 1258 |   77 |  308 |      2152 |         385 |      0.848 |       0.921 |    0.744 | 0.823 |     0.843 |           0.806 |\n",
      "+----+--------------------+------+------+------+------+-----------+-------------+------------+-------------+----------+-------+-----------+-----------------+\n",
      "|  3 | KNeighbors         | 1202 |   11 | 1324 |    0 |      1213 |        1324 |      0.478 |       0.476 |    1     | 0.645 |     0.504 |           0.476 |\n",
      "+----+--------------------+------+------+------+------+-----------+-------------+------------+-------------+----------+-------+-----------+-----------------+\n",
      "|  4 | DecisionTree       |  912 |  956 |  379 |  290 |      1868 |         669 |      0.736 |       0.706 |    0.759 | 0.732 |     0.737 |           0.65  |\n",
      "+----+--------------------+------+------+------+------+-----------+-------------+------------+-------------+----------+-------+-----------+-----------------+\n",
      "|  5 | RandomForest       |  877 | 1303 |   32 |  325 |      2180 |         357 |      0.859 |       0.965 |    0.73  | 0.831 |     0.853 |           0.832 |\n",
      "+----+--------------------+------+------+------+------+-----------+-------------+------------+-------------+----------+-------+-----------+-----------------+\n",
      "|  6 | AdaBoost           |  939 | 1122 |  213 |  263 |      2061 |         476 |      0.812 |       0.815 |    0.781 | 0.798 |     0.811 |           0.74  |\n",
      "+----+--------------------+------+------+------+------+-----------+-------------+------------+-------------+----------+-------+-----------+-----------------+\n",
      "|  7 | GradientBoosting   |  880 | 1258 |   77 |  322 |      2138 |         399 |      0.843 |       0.92  |    0.732 | 0.815 |     0.837 |           0.8   |\n",
      "+----+--------------------+------+------+------+------+-----------+-------------+------------+-------------+----------+-------+-----------+-----------------+\n",
      "|  8 | GaussianNB         |  883 | 1082 |  253 |  319 |      1965 |         572 |      0.775 |       0.777 |    0.735 | 0.755 |     0.773 |           0.697 |\n",
      "+----+--------------------+------+------+------+------+-----------+-------------+------------+-------------+----------+-------+-----------+-----------------+\n",
      "|  9 | LogisticRegression |  885 | 1007 |  328 |  317 |      1892 |         645 |      0.746 |       0.73  |    0.736 | 0.733 |     0.745 |           0.662 |\n",
      "+----+--------------------+------+------+------+------+-----------+-------------+------------+-------------+----------+-------+-----------+-----------------+\n",
      "| 10 | XGB                |  912 | 1229 |  106 |  290 |      2141 |         396 |      0.844 |       0.896 |    0.759 | 0.822 |     0.84  |           0.794 |\n",
      "+----+--------------------+------+------+------+------+-----------+-------------+------------+-------------+----------+-------+-----------+-----------------+\n",
      "| 11 | VotingClassifier   |  948 | 1248 |   87 |  254 |      2196 |         341 |      0.866 |       0.916 |    0.789 | 0.848 |     0.862 |           0.823 |\n",
      "+----+--------------------+------+------+------+------+-----------+-------------+------------+-------------+----------+-------+-----------+-----------------+\n"
     ]
    }
   ],
   "source": [
    "# E_I Classifiers Test Report: SMOTE Oversample + Random Undersample\n",
    "resampled_class_classifiers_report('E_I', 'SMOTE + RandomUnderSampler')"
   ]
  },
  {
   "cell_type": "code",
   "execution_count": 53,
   "metadata": {},
   "outputs": [
    {
     "name": "stdout",
     "output_type": "stream",
     "text": [
      "E_I Classifiers Report with resampling: BorderlineSMOTE\n",
      "+----+--------------------+------+------+------+------+-----------+-------------+------------+-------------+----------+-------+-----------+-----------------+\n",
      "|    | Classifier         |   TP |   TN |   FP |   FN |   Correct |   Incorrect |   Accuracy |   Precision |   Recall |    F1 |   ROC AUC |   Avg Precision |\n",
      "+====+====================+======+======+======+======+===========+=============+============+=============+==========+=======+===========+=================+\n",
      "|  0 | Dummy              | 1335 |    0 | 1336 |    0 |      1335 |        1336 |      0.5   |       0.5   |    1     | 0.667 |     0.5   |           0.5   |\n",
      "+----+--------------------+------+------+------+------+-----------+-------------+------------+-------------+----------+-------+-----------+-----------------+\n",
      "|  1 | SVM                | 1098 | 1276 |   60 |  237 |      2374 |         297 |      0.889 |       0.948 |    0.822 | 0.881 |     0.889 |           0.869 |\n",
      "+----+--------------------+------+------+------+------+-----------+-------------+------------+-------------+----------+-------+-----------+-----------------+\n",
      "|  2 | LGBM               | 1034 | 1268 |   68 |  301 |      2302 |         369 |      0.862 |       0.938 |    0.775 | 0.849 |     0.862 |           0.839 |\n",
      "+----+--------------------+------+------+------+------+-----------+-------------+------------+-------------+----------+-------+-----------+-----------------+\n",
      "|  3 | KNeighbors         | 1335 |   17 | 1319 |    0 |      1352 |        1319 |      0.506 |       0.503 |    1     | 0.669 |     0.506 |           0.503 |\n",
      "+----+--------------------+------+------+------+------+-----------+-------------+------------+-------------+----------+-------+-----------+-----------------+\n",
      "|  4 | DecisionTree       | 1013 |  979 |  357 |  322 |      1992 |         679 |      0.746 |       0.739 |    0.759 | 0.749 |     0.746 |           0.682 |\n",
      "+----+--------------------+------+------+------+------+-----------+-------------+------------+-------------+----------+-------+-----------+-----------------+\n",
      "|  5 | RandomForest       | 1029 | 1302 |   34 |  306 |      2331 |         340 |      0.873 |       0.968 |    0.771 | 0.858 |     0.873 |           0.861 |\n",
      "+----+--------------------+------+------+------+------+-----------+-------------+------------+-------------+----------+-------+-----------+-----------------+\n",
      "|  6 | AdaBoost           | 1071 | 1136 |  200 |  264 |      2207 |         464 |      0.826 |       0.843 |    0.802 | 0.822 |     0.826 |           0.775 |\n",
      "+----+--------------------+------+------+------+------+-----------+-------------+------------+-------------+----------+-------+-----------+-----------------+\n",
      "|  7 | GradientBoosting   | 1010 | 1265 |   71 |  325 |      2275 |         396 |      0.852 |       0.934 |    0.757 | 0.836 |     0.852 |           0.829 |\n",
      "+----+--------------------+------+------+------+------+-----------+-------------+------------+-------------+----------+-------+-----------+-----------------+\n",
      "|  8 | GaussianNB         | 1002 | 1096 |  240 |  333 |      2098 |         573 |      0.785 |       0.807 |    0.751 | 0.778 |     0.785 |           0.73  |\n",
      "+----+--------------------+------+------+------+------+-----------+-------------+------------+-------------+----------+-------+-----------+-----------------+\n",
      "|  9 | LogisticRegression | 1014 |  984 |  352 |  321 |      1998 |         673 |      0.748 |       0.742 |    0.76  | 0.751 |     0.748 |           0.684 |\n",
      "+----+--------------------+------+------+------+------+-----------+-------------+------------+-------------+----------+-------+-----------+-----------------+\n",
      "| 10 | XGB                | 1044 | 1248 |   88 |  291 |      2292 |         379 |      0.858 |       0.922 |    0.782 | 0.846 |     0.858 |           0.83  |\n",
      "+----+--------------------+------+------+------+------+-----------+-------------+------------+-------------+----------+-------+-----------+-----------------+\n",
      "| 11 | VotingClassifier   | 1082 | 1266 |   70 |  253 |      2348 |         323 |      0.879 |       0.939 |    0.81  | 0.87  |     0.879 |           0.856 |\n",
      "+----+--------------------+------+------+------+------+-----------+-------------+------------+-------------+----------+-------+-----------+-----------------+\n"
     ]
    }
   ],
   "source": [
    "# E_I Classifiers Test Report: SMOTE Oversample + Random Undersample\n",
    "resampled_class_classifiers_report('E_I', 'BorderlineSMOTE')  "
   ]
  },
  {
   "cell_type": "code",
   "execution_count": 54,
   "metadata": {},
   "outputs": [
    {
     "name": "stdout",
     "output_type": "stream",
     "text": [
      "E_I Classifiers Report with resampling: SMOTEENN + RandomUnderSampler\n",
      "+----+--------------------+------+------+------+------+-----------+-------------+------------+-------------+----------+-------+-----------+-----------------+\n",
      "|    | Classifier         |   TP |   TN |   FP |   FN |   Correct |   Incorrect |   Accuracy |   Precision |   Recall |    F1 |   ROC AUC |   Avg Precision |\n",
      "+====+====================+======+======+======+======+===========+=============+============+=============+==========+=======+===========+=================+\n",
      "|  0 | Dummy              |   11 |    0 |    7 |    0 |        11 |           7 |      0.611 |       0.611 |    1     | 0.759 |     0.5   |           0.611 |\n",
      "+----+--------------------+------+------+------+------+-----------+-------------+------------+-------------+----------+-------+-----------+-----------------+\n",
      "|  1 | SVM                |   11 |    5 |    2 |    0 |        16 |           2 |      0.889 |       0.846 |    1     | 0.917 |     0.857 |           0.846 |\n",
      "+----+--------------------+------+------+------+------+-----------+-------------+------------+-------------+----------+-------+-----------+-----------------+\n",
      "|  2 | LGBM               |   11 |    4 |    3 |    0 |        15 |           3 |      0.833 |       0.786 |    1     | 0.88  |     0.786 |           0.786 |\n",
      "+----+--------------------+------+------+------+------+-----------+-------------+------------+-------------+----------+-------+-----------+-----------------+\n",
      "|  3 | KNeighbors         |   11 |    4 |    3 |    0 |        15 |           3 |      0.833 |       0.786 |    1     | 0.88  |     0.786 |           0.786 |\n",
      "+----+--------------------+------+------+------+------+-----------+-------------+------------+-------------+----------+-------+-----------+-----------------+\n",
      "|  4 | DecisionTree       |    8 |    2 |    5 |    3 |        10 |           8 |      0.556 |       0.615 |    0.727 | 0.667 |     0.506 |           0.614 |\n",
      "+----+--------------------+------+------+------+------+-----------+-------------+------------+-------------+----------+-------+-----------+-----------------+\n",
      "|  5 | RandomForest       |   11 |    4 |    3 |    0 |        15 |           3 |      0.833 |       0.786 |    1     | 0.88  |     0.786 |           0.786 |\n",
      "+----+--------------------+------+------+------+------+-----------+-------------+------------+-------------+----------+-------+-----------+-----------------+\n",
      "|  6 | AdaBoost           |   11 |    4 |    3 |    0 |        15 |           3 |      0.833 |       0.786 |    1     | 0.88  |     0.786 |           0.786 |\n",
      "+----+--------------------+------+------+------+------+-----------+-------------+------------+-------------+----------+-------+-----------+-----------------+\n",
      "|  7 | GradientBoosting   |   10 |    2 |    5 |    1 |        12 |           6 |      0.667 |       0.667 |    0.909 | 0.769 |     0.597 |           0.662 |\n",
      "+----+--------------------+------+------+------+------+-----------+-------------+------------+-------------+----------+-------+-----------+-----------------+\n",
      "|  8 | GaussianNB         |   11 |    0 |    7 |    0 |        11 |           7 |      0.611 |       0.611 |    1     | 0.759 |     0.5   |           0.611 |\n",
      "+----+--------------------+------+------+------+------+-----------+-------------+------------+-------------+----------+-------+-----------+-----------------+\n",
      "|  9 | LogisticRegression |   11 |    4 |    3 |    0 |        15 |           3 |      0.833 |       0.786 |    1     | 0.88  |     0.786 |           0.786 |\n",
      "+----+--------------------+------+------+------+------+-----------+-------------+------------+-------------+----------+-------+-----------+-----------------+\n",
      "| 10 | XGB                |   10 |    5 |    2 |    1 |        15 |           3 |      0.833 |       0.833 |    0.909 | 0.87  |     0.812 |           0.813 |\n",
      "+----+--------------------+------+------+------+------+-----------+-------------+------------+-------------+----------+-------+-----------+-----------------+\n",
      "| 11 | VotingClassifier   |   11 |    5 |    2 |    0 |        16 |           2 |      0.889 |       0.846 |    1     | 0.917 |     0.857 |           0.846 |\n",
      "+----+--------------------+------+------+------+------+-----------+-------------+------------+-------------+----------+-------+-----------+-----------------+\n"
     ]
    }
   ],
   "source": [
    "# E_I Classifiers Test Report: SMOTE and ENN Oversample + Random Undersample\n",
    "resampled_class_classifiers_report('E_I', 'SMOTEENN + RandomUnderSampler')    "
   ]
  },
  {
   "cell_type": "code",
   "execution_count": 55,
   "metadata": {},
   "outputs": [
    {
     "name": "stdout",
     "output_type": "stream",
     "text": [
      "E_I Classifiers Report with resampling: SMOTEENN & ADASYN + RandomUnderSampler\n",
      "+----+--------------------+------+------+------+------+-----------+-------------+------------+-------------+----------+-------+-----------+-----------------+\n",
      "|    | Classifier         |   TP |   TN |   FP |   FN |   Correct |   Incorrect |   Accuracy |   Precision |   Recall |    F1 |   ROC AUC |   Avg Precision |\n",
      "+====+====================+======+======+======+======+===========+=============+============+=============+==========+=======+===========+=================+\n",
      "|  0 | Dummy              | 1101 |    0 |  771 |    0 |      1101 |         771 |      0.588 |       0.588 |    1     | 0.741 |     0.5   |           0.588 |\n",
      "+----+--------------------+------+------+------+------+-----------+-------------+------------+-------------+----------+-------+-----------+-----------------+\n",
      "|  1 | SVM                | 1101 |  771 |    0 |    0 |      1872 |           0 |      1     |       1     |    1     | 1     |     1     |           1     |\n",
      "+----+--------------------+------+------+------+------+-----------+-------------+------------+-------------+----------+-------+-----------+-----------------+\n",
      "|  2 | LGBM               | 1101 |  771 |    0 |    0 |      1872 |           0 |      1     |       1     |    1     | 1     |     1     |           1     |\n",
      "+----+--------------------+------+------+------+------+-----------+-------------+------------+-------------+----------+-------+-----------+-----------------+\n",
      "|  3 | KNeighbors         | 1090 |  771 |    0 |   11 |      1861 |          11 |      0.994 |       1     |    0.99  | 0.995 |     0.995 |           0.996 |\n",
      "+----+--------------------+------+------+------+------+-----------+-------------+------------+-------------+----------+-------+-----------+-----------------+\n",
      "|  4 | DecisionTree       | 1094 |  770 |    1 |    7 |      1864 |           8 |      0.996 |       0.999 |    0.994 | 0.996 |     0.996 |           0.996 |\n",
      "+----+--------------------+------+------+------+------+-----------+-------------+------------+-------------+----------+-------+-----------+-----------------+\n",
      "|  5 | RandomForest       | 1101 |  771 |    0 |    0 |      1872 |           0 |      1     |       1     |    1     | 1     |     1     |           1     |\n",
      "+----+--------------------+------+------+------+------+-----------+-------------+------------+-------------+----------+-------+-----------+-----------------+\n",
      "|  6 | AdaBoost           | 1098 |  771 |    0 |    3 |      1869 |           3 |      0.998 |       1     |    0.997 | 0.999 |     0.999 |           0.999 |\n",
      "+----+--------------------+------+------+------+------+-----------+-------------+------------+-------------+----------+-------+-----------+-----------------+\n",
      "|  7 | GradientBoosting   | 1101 |  771 |    0 |    0 |      1872 |           0 |      1     |       1     |    1     | 1     |     1     |           1     |\n",
      "+----+--------------------+------+------+------+------+-----------+-------------+------------+-------------+----------+-------+-----------+-----------------+\n",
      "|  8 | GaussianNB         | 1101 |  766 |    5 |    0 |      1867 |           5 |      0.997 |       0.995 |    1     | 0.998 |     0.997 |           0.995 |\n",
      "+----+--------------------+------+------+------+------+-----------+-------------+------------+-------------+----------+-------+-----------+-----------------+\n",
      "|  9 | LogisticRegression | 1099 |  771 |    0 |    2 |      1870 |           2 |      0.999 |       1     |    0.998 | 0.999 |     0.999 |           0.999 |\n",
      "+----+--------------------+------+------+------+------+-----------+-------------+------------+-------------+----------+-------+-----------+-----------------+\n",
      "| 10 | XGB                | 1101 |  771 |    0 |    0 |      1872 |           0 |      1     |       1     |    1     | 1     |     1     |           1     |\n",
      "+----+--------------------+------+------+------+------+-----------+-------------+------------+-------------+----------+-------+-----------+-----------------+\n",
      "| 11 | VotingClassifier   | 1101 |  771 |    0 |    0 |      1872 |           0 |      1     |       1     |    1     | 1     |     1     |           1     |\n",
      "+----+--------------------+------+------+------+------+-----------+-------------+------------+-------------+----------+-------+-----------+-----------------+\n"
     ]
    }
   ],
   "source": [
    "# E_I Classifiers Test Report: SMOTE and ENN and additional ADASYN Oversample + Random Undersample\n",
    "resampled_class_classifiers_report('E_I', 'SMOTEENN & ADASYN + RandomUnderSampler')"
   ]
  },
  {
   "cell_type": "code",
   "execution_count": null,
   "metadata": {},
   "outputs": [],
   "source": [
    "##############\n",
    "# S_N ########\n",
    "##############"
   ]
  },
  {
   "cell_type": "code",
   "execution_count": 56,
   "metadata": {},
   "outputs": [
    {
     "name": "stdout",
     "output_type": "stream",
     "text": [
      "S_N Classifiers Report with resampling: RandomOverSampler\n",
      "+----+--------------------+------+------+------+------+-----------+-------------+------------+-------------+----------+-------+-----------+-----------------+\n",
      "|    | Classifier         |   TP |   TN |   FP |   FN |   Correct |   Incorrect |   Accuracy |   Precision |   Recall |    F1 |   ROC AUC |   Avg Precision |\n",
      "+====+====================+======+======+======+======+===========+=============+============+=============+==========+=======+===========+=================+\n",
      "|  0 | Dummy              |    0 | 1496 |    0 | 1346 |      1496 |        1346 |      0.526 |       0     |    0     | 0     |     0.5   |           0.474 |\n",
      "+----+--------------------+------+------+------+------+-----------+-------------+------------+-------------+----------+-------+-----------+-----------------+\n",
      "|  1 | SVM                | 1321 | 1437 |   59 |   25 |      2758 |          84 |      0.97  |       0.957 |    0.981 | 0.969 |     0.971 |           0.948 |\n",
      "+----+--------------------+------+------+------+------+-----------+-------------+------------+-------------+----------+-------+-----------+-----------------+\n",
      "|  2 | LGBM               | 1321 | 1403 |   93 |   25 |      2724 |         118 |      0.958 |       0.934 |    0.981 | 0.957 |     0.96  |           0.926 |\n",
      "+----+--------------------+------+------+------+------+-----------+-------------+------------+-------------+----------+-------+-----------+-----------------+\n",
      "|  3 | KNeighbors         | 1229 | 1013 |  483 |  117 |      2242 |         600 |      0.789 |       0.718 |    0.913 | 0.804 |     0.795 |           0.697 |\n",
      "+----+--------------------+------+------+------+------+-----------+-------------+------------+-------------+----------+-------+-----------+-----------------+\n",
      "|  4 | DecisionTree       | 1341 | 1213 |  283 |    5 |      2554 |         288 |      0.899 |       0.826 |    0.996 | 0.903 |     0.904 |           0.824 |\n",
      "+----+--------------------+------+------+------+------+-----------+-------------+------------+-------------+----------+-------+-----------+-----------------+\n",
      "|  5 | RandomForest       | 1338 | 1493 |    3 |    8 |      2831 |          11 |      0.996 |       0.998 |    0.994 | 0.996 |     0.996 |           0.995 |\n",
      "+----+--------------------+------+------+------+------+-----------+-------------+------------+-------------+----------+-------+-----------+-----------------+\n",
      "|  6 | AdaBoost           |  868 | 1049 |  447 |  478 |      1917 |         925 |      0.675 |       0.66  |    0.645 | 0.652 |     0.673 |           0.594 |\n",
      "+----+--------------------+------+------+------+------+-----------+-------------+------------+-------------+----------+-------+-----------+-----------------+\n",
      "|  7 | GradientBoosting   | 1134 | 1209 |  287 |  212 |      2343 |         499 |      0.824 |       0.798 |    0.842 | 0.82  |     0.825 |           0.747 |\n",
      "+----+--------------------+------+------+------+------+-----------+-------------+------------+-------------+----------+-------+-----------+-----------------+\n",
      "|  8 | GaussianNB         |  923 | 1026 |  470 |  423 |      1949 |         893 |      0.686 |       0.663 |    0.686 | 0.674 |     0.686 |           0.603 |\n",
      "+----+--------------------+------+------+------+------+-----------+-------------+------------+-------------+----------+-------+-----------+-----------------+\n",
      "|  9 | LogisticRegression | 1009 | 1123 |  373 |  337 |      2132 |         710 |      0.75  |       0.73  |    0.75  | 0.74  |     0.75  |           0.666 |\n",
      "+----+--------------------+------+------+------+------+-----------+-------------+------------+-------------+----------+-------+-----------+-----------------+\n",
      "| 10 | XGB                | 1338 | 1414 |   82 |    8 |      2752 |          90 |      0.968 |       0.942 |    0.994 | 0.967 |     0.97  |           0.939 |\n",
      "+----+--------------------+------+------+------+------+-----------+-------------+------------+-------------+----------+-------+-----------+-----------------+\n",
      "| 11 | VotingClassifier   | 1333 | 1454 |   42 |   13 |      2787 |          55 |      0.981 |       0.969 |    0.99  | 0.98  |     0.981 |           0.965 |\n",
      "+----+--------------------+------+------+------+------+-----------+-------------+------------+-------------+----------+-------+-----------+-----------------+\n"
     ]
    }
   ],
   "source": [
    "# S_N Classifiers Test Report: Random Oversample\n",
    "resampled_class_classifiers_report('S_N', 'RandomOverSampler')"
   ]
  },
  {
   "cell_type": "code",
   "execution_count": 57,
   "metadata": {},
   "outputs": [
    {
     "name": "stdout",
     "output_type": "stream",
     "text": [
      "S_N Classifiers Report with resampling: SMOTE\n",
      "+----+--------------------+------+------+------+------+-----------+-------------+------------+-------------+----------+-------+-----------+-----------------+\n",
      "|    | Classifier         |   TP |   TN |   FP |   FN |   Correct |   Incorrect |   Accuracy |   Precision |   Recall |    F1 |   ROC AUC |   Avg Precision |\n",
      "+====+====================+======+======+======+======+===========+=============+============+=============+==========+=======+===========+=================+\n",
      "|  0 | Dummy              |    0 | 1496 |    0 | 1496 |      1496 |        1496 |      0.5   |       0     |    0     | 0     |     0.5   |           0.5   |\n",
      "+----+--------------------+------+------+------+------+-----------+-------------+------------+-------------+----------+-------+-----------+-----------------+\n",
      "|  1 | SVM                | 1332 | 1492 |    4 |  164 |      2824 |         168 |      0.944 |       0.997 |    0.89  | 0.941 |     0.944 |           0.943 |\n",
      "+----+--------------------+------+------+------+------+-----------+-------------+------------+-------------+----------+-------+-----------+-----------------+\n",
      "|  2 | LGBM               | 1268 | 1474 |   22 |  228 |      2742 |         250 |      0.916 |       0.983 |    0.848 | 0.91  |     0.916 |           0.909 |\n",
      "+----+--------------------+------+------+------+------+-----------+-------------+------------+-------------+----------+-------+-----------+-----------------+\n",
      "|  3 | KNeighbors         | 1496 |    1 | 1495 |    0 |      1497 |        1495 |      0.5   |       0.5   |    1     | 0.667 |     0.5   |           0.5   |\n",
      "+----+--------------------+------+------+------+------+-----------+-------------+------------+-------------+----------+-------+-----------+-----------------+\n",
      "|  4 | DecisionTree       | 1270 | 1234 |  262 |  226 |      2504 |         488 |      0.837 |       0.829 |    0.849 | 0.839 |     0.837 |           0.779 |\n",
      "+----+--------------------+------+------+------+------+-----------+-------------+------------+-------------+----------+-------+-----------+-----------------+\n",
      "|  5 | RandomForest       | 1298 | 1487 |    9 |  198 |      2785 |         207 |      0.931 |       0.993 |    0.868 | 0.926 |     0.931 |           0.928 |\n",
      "+----+--------------------+------+------+------+------+-----------+-------------+------------+-------------+----------+-------+-----------+-----------------+\n",
      "|  6 | AdaBoost           | 1269 | 1344 |  152 |  227 |      2613 |         379 |      0.873 |       0.893 |    0.848 | 0.87  |     0.873 |           0.833 |\n",
      "+----+--------------------+------+------+------+------+-----------+-------------+------------+-------------+----------+-------+-----------+-----------------+\n",
      "|  7 | GradientBoosting   | 1251 | 1453 |   43 |  245 |      2704 |         288 |      0.904 |       0.967 |    0.836 | 0.897 |     0.904 |           0.89  |\n",
      "+----+--------------------+------+------+------+------+-----------+-------------+------------+-------------+----------+-------+-----------+-----------------+\n",
      "|  8 | GaussianNB         | 1125 | 1291 |  205 |  371 |      2416 |         576 |      0.807 |       0.846 |    0.752 | 0.796 |     0.807 |           0.76  |\n",
      "+----+--------------------+------+------+------+------+-----------+-------------+------------+-------------+----------+-------+-----------+-----------------+\n",
      "|  9 | LogisticRegression | 1235 | 1108 |  388 |  261 |      2343 |         649 |      0.783 |       0.761 |    0.826 | 0.792 |     0.783 |           0.715 |\n",
      "+----+--------------------+------+------+------+------+-----------+-------------+------------+-------------+----------+-------+-----------+-----------------+\n",
      "| 10 | XGB                | 1281 | 1461 |   35 |  215 |      2742 |         250 |      0.916 |       0.973 |    0.856 | 0.911 |     0.916 |           0.905 |\n",
      "+----+--------------------+------+------+------+------+-----------+-------------+------------+-------------+----------+-------+-----------+-----------------+\n",
      "| 11 | VotingClassifier   | 1319 | 1476 |   20 |  177 |      2795 |         197 |      0.934 |       0.985 |    0.882 | 0.931 |     0.934 |           0.928 |\n",
      "+----+--------------------+------+------+------+------+-----------+-------------+------------+-------------+----------+-------+-----------+-----------------+\n"
     ]
    }
   ],
   "source": [
    "# S_N Classifiers Test Report: SMOTE\n",
    "resampled_class_classifiers_report('S_N', 'SMOTE')"
   ]
  },
  {
   "cell_type": "code",
   "execution_count": 58,
   "metadata": {},
   "outputs": [
    {
     "name": "stdout",
     "output_type": "stream",
     "text": [
      "S_N Classifiers Report with resampling: SMOTE + RandomUnderSampler\n",
      "+----+--------------------+------+------+------+------+-----------+-------------+------------+-------------+----------+-------+-----------+-----------------+\n",
      "|    | Classifier         |   TP |   TN |   FP |   FN |   Correct |   Incorrect |   Accuracy |   Precision |   Recall |    F1 |   ROC AUC |   Avg Precision |\n",
      "+====+====================+======+======+======+======+===========+=============+============+=============+==========+=======+===========+=================+\n",
      "|  0 | Dummy              |    0 | 1496 |    0 | 1346 |      1496 |        1346 |      0.526 |       0     |    0     | 0     |     0.5   |           0.474 |\n",
      "+----+--------------------+------+------+------+------+-----------+-------------+------------+-------------+----------+-------+-----------+-----------------+\n",
      "|  1 | SVM                | 1192 | 1493 |    3 |  154 |      2685 |         157 |      0.945 |       0.997 |    0.886 | 0.938 |     0.942 |           0.938 |\n",
      "+----+--------------------+------+------+------+------+-----------+-------------+------------+-------------+----------+-------+-----------+-----------------+\n",
      "|  2 | LGBM               | 1117 | 1457 |   39 |  229 |      2574 |         268 |      0.906 |       0.966 |    0.83  | 0.893 |     0.902 |           0.882 |\n",
      "+----+--------------------+------+------+------+------+-----------+-------------+------------+-------------+----------+-------+-----------+-----------------+\n",
      "|  3 | KNeighbors         | 1346 |    5 | 1491 |    0 |      1351 |        1491 |      0.475 |       0.474 |    1     | 0.644 |     0.502 |           0.474 |\n",
      "+----+--------------------+------+------+------+------+-----------+-------------+------------+-------------+----------+-------+-----------+-----------------+\n",
      "|  4 | DecisionTree       | 1092 | 1191 |  305 |  254 |      2283 |         559 |      0.803 |       0.782 |    0.811 | 0.796 |     0.804 |           0.724 |\n",
      "+----+--------------------+------+------+------+------+-----------+-------------+------------+-------------+----------+-------+-----------+-----------------+\n",
      "|  5 | RandomForest       | 1148 | 1489 |    7 |  198 |      2637 |         205 |      0.928 |       0.994 |    0.853 | 0.918 |     0.924 |           0.917 |\n",
      "+----+--------------------+------+------+------+------+-----------+-------------+------------+-------------+----------+-------+-----------+-----------------+\n",
      "|  6 | AdaBoost           | 1113 | 1329 |  167 |  233 |      2442 |         400 |      0.859 |       0.87  |    0.827 | 0.848 |     0.858 |           0.801 |\n",
      "+----+--------------------+------+------+------+------+-----------+-------------+------------+-------------+----------+-------+-----------+-----------------+\n",
      "|  7 | GradientBoosting   | 1101 | 1435 |   61 |  245 |      2536 |         306 |      0.892 |       0.948 |    0.818 | 0.878 |     0.889 |           0.861 |\n",
      "+----+--------------------+------+------+------+------+-----------+-------------+------------+-------------+----------+-------+-----------+-----------------+\n",
      "|  8 | GaussianNB         | 1025 | 1272 |  224 |  321 |      2297 |         545 |      0.808 |       0.821 |    0.762 | 0.79  |     0.806 |           0.738 |\n",
      "+----+--------------------+------+------+------+------+-----------+-------------+------------+-------------+----------+-------+-----------+-----------------+\n",
      "|  9 | LogisticRegression | 1071 | 1159 |  337 |  275 |      2230 |         612 |      0.785 |       0.761 |    0.796 | 0.778 |     0.785 |           0.702 |\n",
      "+----+--------------------+------+------+------+------+-----------+-------------+------------+-------------+----------+-------+-----------+-----------------+\n",
      "| 10 | XGB                | 1125 | 1445 |   51 |  221 |      2570 |         272 |      0.904 |       0.957 |    0.836 | 0.892 |     0.901 |           0.877 |\n",
      "+----+--------------------+------+------+------+------+-----------+-------------+------------+-------------+----------+-------+-----------+-----------------+\n",
      "| 11 | VotingClassifier   | 1173 | 1471 |   25 |  173 |      2644 |         198 |      0.93  |       0.979 |    0.871 | 0.922 |     0.927 |           0.914 |\n",
      "+----+--------------------+------+------+------+------+-----------+-------------+------------+-------------+----------+-------+-----------+-----------------+\n"
     ]
    }
   ],
   "source": [
    "# S_N Classifiers Test Report: SMOTE Oversample + Random Undersample\n",
    "resampled_class_classifiers_report('S_N', 'SMOTE + RandomUnderSampler')"
   ]
  },
  {
   "cell_type": "code",
   "execution_count": 59,
   "metadata": {},
   "outputs": [
    {
     "name": "stdout",
     "output_type": "stream",
     "text": [
      "S_N Classifiers Report with resampling: BorderlineSMOTE\n",
      "+----+--------------------+------+------+------+------+-----------+-------------+------------+-------------+----------+-------+-----------+-----------------+\n",
      "|    | Classifier         |   TP |   TN |   FP |   FN |   Correct |   Incorrect |   Accuracy |   Precision |   Recall |    F1 |   ROC AUC |   Avg Precision |\n",
      "+====+====================+======+======+======+======+===========+=============+============+=============+==========+=======+===========+=================+\n",
      "|  0 | Dummy              |    0 | 1496 |    0 | 1496 |      1496 |        1496 |      0.5   |       0     |    0     | 0     |     0.5   |           0.5   |\n",
      "+----+--------------------+------+------+------+------+-----------+-------------+------------+-------------+----------+-------+-----------+-----------------+\n",
      "|  1 | SVM                | 1353 | 1490 |    6 |  143 |      2843 |         149 |      0.95  |       0.996 |    0.904 | 0.948 |     0.95  |           0.948 |\n",
      "+----+--------------------+------+------+------+------+-----------+-------------+------------+-------------+----------+-------+-----------+-----------------+\n",
      "|  2 | LGBM               | 1268 | 1473 |   23 |  228 |      2741 |         251 |      0.916 |       0.982 |    0.848 | 0.91  |     0.916 |           0.909 |\n",
      "+----+--------------------+------+------+------+------+-----------+-------------+------------+-------------+----------+-------+-----------+-----------------+\n",
      "|  3 | KNeighbors         | 1496 |    4 | 1492 |    0 |      1500 |        1492 |      0.501 |       0.501 |    1     | 0.667 |     0.501 |           0.501 |\n",
      "+----+--------------------+------+------+------+------+-----------+-------------+------------+-------------+----------+-------+-----------+-----------------+\n",
      "|  4 | DecisionTree       | 1269 | 1206 |  290 |  227 |      2475 |         517 |      0.827 |       0.814 |    0.848 | 0.831 |     0.827 |           0.766 |\n",
      "+----+--------------------+------+------+------+------+-----------+-------------+------------+-------------+----------+-------+-----------+-----------------+\n",
      "|  5 | RandomForest       | 1299 | 1487 |    9 |  197 |      2786 |         206 |      0.931 |       0.993 |    0.868 | 0.927 |     0.931 |           0.928 |\n",
      "+----+--------------------+------+------+------+------+-----------+-------------+------------+-------------+----------+-------+-----------+-----------------+\n",
      "|  6 | AdaBoost           | 1264 | 1346 |  150 |  232 |      2610 |         382 |      0.872 |       0.894 |    0.845 | 0.869 |     0.872 |           0.833 |\n",
      "+----+--------------------+------+------+------+------+-----------+-------------+------------+-------------+----------+-------+-----------+-----------------+\n",
      "|  7 | GradientBoosting   | 1250 | 1455 |   41 |  246 |      2705 |         287 |      0.904 |       0.968 |    0.836 | 0.897 |     0.904 |           0.891 |\n",
      "+----+--------------------+------+------+------+------+-----------+-------------+------------+-------------+----------+-------+-----------+-----------------+\n",
      "|  8 | GaussianNB         | 1170 | 1302 |  194 |  326 |      2472 |         520 |      0.826 |       0.858 |    0.782 | 0.818 |     0.826 |           0.78  |\n",
      "+----+--------------------+------+------+------+------+-----------+-------------+------------+-------------+----------+-------+-----------+-----------------+\n",
      "|  9 | LogisticRegression | 1284 | 1143 |  353 |  212 |      2427 |         565 |      0.811 |       0.784 |    0.858 | 0.82  |     0.811 |           0.744 |\n",
      "+----+--------------------+------+------+------+------+-----------+-------------+------------+-------------+----------+-------+-----------+-----------------+\n",
      "| 10 | XGB                | 1282 | 1465 |   31 |  214 |      2747 |         245 |      0.918 |       0.976 |    0.857 | 0.913 |     0.918 |           0.908 |\n",
      "+----+--------------------+------+------+------+------+-----------+-------------+------------+-------------+----------+-------+-----------+-----------------+\n",
      "| 11 | VotingClassifier   | 1337 | 1476 |   20 |  159 |      2813 |         179 |      0.94  |       0.985 |    0.894 | 0.937 |     0.94  |           0.934 |\n",
      "+----+--------------------+------+------+------+------+-----------+-------------+------------+-------------+----------+-------+-----------+-----------------+\n"
     ]
    }
   ],
   "source": [
    "# S_N Classifiers Test Report: SMOTE Oversample + Random Undersample\n",
    "resampled_class_classifiers_report('S_N', 'BorderlineSMOTE')  "
   ]
  },
  {
   "cell_type": "code",
   "execution_count": 60,
   "metadata": {},
   "outputs": [
    {
     "name": "stdout",
     "output_type": "stream",
     "text": [
      "S_N Classifiers Report with resampling: SMOTEENN + RandomUnderSampler\n",
      "+----+--------------------+------+------+------+------+-----------+-------------+------------+-------------+----------+-------+-----------+-----------------+\n",
      "|    | Classifier         |   TP |   TN |   FP |   FN |   Correct |   Incorrect |   Accuracy |   Precision |   Recall |    F1 |   ROC AUC |   Avg Precision |\n",
      "+====+====================+======+======+======+======+===========+=============+============+=============+==========+=======+===========+=================+\n",
      "|  0 | Dummy              |    5 |    0 |    3 |    0 |         5 |           3 |      0.625 |       0.625 |      1   | 0.769 |     0.5   |           0.625 |\n",
      "+----+--------------------+------+------+------+------+-----------+-------------+------------+-------------+----------+-------+-----------+-----------------+\n",
      "|  1 | SVM                |    4 |    3 |    0 |    1 |         7 |           1 |      0.875 |       1     |      0.8 | 0.889 |     0.9   |           0.925 |\n",
      "+----+--------------------+------+------+------+------+-----------+-------------+------------+-------------+----------+-------+-----------+-----------------+\n",
      "|  2 | LGBM               |    5 |    0 |    3 |    0 |         5 |           3 |      0.625 |       0.625 |      1   | 0.769 |     0.5   |           0.625 |\n",
      "+----+--------------------+------+------+------+------+-----------+-------------+------------+-------------+----------+-------+-----------+-----------------+\n",
      "|  3 | KNeighbors         |    4 |    3 |    0 |    1 |         7 |           1 |      0.875 |       1     |      0.8 | 0.889 |     0.9   |           0.925 |\n",
      "+----+--------------------+------+------+------+------+-----------+-------------+------------+-------------+----------+-------+-----------+-----------------+\n",
      "|  4 | DecisionTree       |    3 |    3 |    0 |    2 |         6 |           2 |      0.75  |       1     |      0.6 | 0.75  |     0.8   |           0.85  |\n",
      "+----+--------------------+------+------+------+------+-----------+-------------+------------+-------------+----------+-------+-----------+-----------------+\n",
      "|  5 | RandomForest       |    5 |    3 |    0 |    0 |         8 |           0 |      1     |       1     |      1   | 1     |     1     |           1     |\n",
      "+----+--------------------+------+------+------+------+-----------+-------------+------------+-------------+----------+-------+-----------+-----------------+\n",
      "|  6 | AdaBoost           |    4 |    3 |    0 |    1 |         7 |           1 |      0.875 |       1     |      0.8 | 0.889 |     0.9   |           0.925 |\n",
      "+----+--------------------+------+------+------+------+-----------+-------------+------------+-------------+----------+-------+-----------+-----------------+\n",
      "|  7 | GradientBoosting   |    3 |    3 |    0 |    2 |         6 |           2 |      0.75  |       1     |      0.6 | 0.75  |     0.8   |           0.85  |\n",
      "+----+--------------------+------+------+------+------+-----------+-------------+------------+-------------+----------+-------+-----------+-----------------+\n",
      "|  8 | GaussianNB         |    5 |    0 |    3 |    0 |         5 |           3 |      0.625 |       0.625 |      1   | 0.769 |     0.5   |           0.625 |\n",
      "+----+--------------------+------+------+------+------+-----------+-------------+------------+-------------+----------+-------+-----------+-----------------+\n",
      "|  9 | LogisticRegression |    4 |    3 |    0 |    1 |         7 |           1 |      0.875 |       1     |      0.8 | 0.889 |     0.9   |           0.925 |\n",
      "+----+--------------------+------+------+------+------+-----------+-------------+------------+-------------+----------+-------+-----------+-----------------+\n",
      "| 10 | XGB                |    4 |    2 |    1 |    1 |         6 |           2 |      0.75  |       0.8   |      0.8 | 0.8   |     0.733 |           0.765 |\n",
      "+----+--------------------+------+------+------+------+-----------+-------------+------------+-------------+----------+-------+-----------+-----------------+\n",
      "| 11 | VotingClassifier   |    5 |    3 |    0 |    0 |         8 |           0 |      1     |       1     |      1   | 1     |     1     |           1     |\n",
      "+----+--------------------+------+------+------+------+-----------+-------------+------------+-------------+----------+-------+-----------+-----------------+\n"
     ]
    }
   ],
   "source": [
    "# S_N Classifiers Test Report: SMOTE and ENN Oversample + Random Undersample\n",
    "resampled_class_classifiers_report('S_N', 'SMOTEENN + RandomUnderSampler')    "
   ]
  },
  {
   "cell_type": "code",
   "execution_count": 61,
   "metadata": {},
   "outputs": [
    {
     "name": "stdout",
     "output_type": "stream",
     "text": [
      "S_N Classifiers Report with resampling: SMOTEENN & ADASYN + RandomUnderSampler\n",
      "+----+--------------------+------+------+------+------+-----------+-------------+------------+-------------+----------+-------+-----------+-----------------+\n",
      "|    | Classifier         |   TP |   TN |   FP |   FN |   Correct |   Incorrect |   Accuracy |   Precision |   Recall |    F1 |   ROC AUC |   Avg Precision |\n",
      "+====+====================+======+======+======+======+===========+=============+============+=============+==========+=======+===========+=================+\n",
      "|  0 | Dummy              | 1275 |    0 |  892 |    0 |      1275 |         892 |      0.588 |       0.588 |    1     | 0.741 |     0.5   |           0.588 |\n",
      "+----+--------------------+------+------+------+------+-----------+-------------+------------+-------------+----------+-------+-----------+-----------------+\n",
      "|  1 | SVM                | 1275 |  892 |    0 |    0 |      2167 |           0 |      1     |       1     |    1     | 1     |     1     |           1     |\n",
      "+----+--------------------+------+------+------+------+-----------+-------------+------------+-------------+----------+-------+-----------+-----------------+\n",
      "|  2 | LGBM               | 1273 |  892 |    0 |    2 |      2165 |           2 |      0.999 |       1     |    0.998 | 0.999 |     0.999 |           0.999 |\n",
      "+----+--------------------+------+------+------+------+-----------+-------------+------------+-------------+----------+-------+-----------+-----------------+\n",
      "|  3 | KNeighbors         | 1274 |  892 |    0 |    1 |      2166 |           1 |      1     |       1     |    0.999 | 1     |     1     |           1     |\n",
      "+----+--------------------+------+------+------+------+-----------+-------------+------------+-------------+----------+-------+-----------+-----------------+\n",
      "|  4 | DecisionTree       | 1272 |  892 |    0 |    3 |      2164 |           3 |      0.999 |       1     |    0.998 | 0.999 |     0.999 |           0.999 |\n",
      "+----+--------------------+------+------+------+------+-----------+-------------+------------+-------------+----------+-------+-----------+-----------------+\n",
      "|  5 | RandomForest       | 1274 |  892 |    0 |    1 |      2166 |           1 |      1     |       1     |    0.999 | 1     |     1     |           1     |\n",
      "+----+--------------------+------+------+------+------+-----------+-------------+------------+-------------+----------+-------+-----------+-----------------+\n",
      "|  6 | AdaBoost           | 1275 |  892 |    0 |    0 |      2167 |           0 |      1     |       1     |    1     | 1     |     1     |           1     |\n",
      "+----+--------------------+------+------+------+------+-----------+-------------+------------+-------------+----------+-------+-----------+-----------------+\n",
      "|  7 | GradientBoosting   | 1275 |  892 |    0 |    0 |      2167 |           0 |      1     |       1     |    1     | 1     |     1     |           1     |\n",
      "+----+--------------------+------+------+------+------+-----------+-------------+------------+-------------+----------+-------+-----------+-----------------+\n",
      "|  8 | GaussianNB         | 1274 |  892 |    0 |    1 |      2166 |           1 |      1     |       1     |    0.999 | 1     |     1     |           1     |\n",
      "+----+--------------------+------+------+------+------+-----------+-------------+------------+-------------+----------+-------+-----------+-----------------+\n",
      "|  9 | LogisticRegression | 1271 |  892 |    0 |    4 |      2163 |           4 |      0.998 |       1     |    0.997 | 0.998 |     0.998 |           0.999 |\n",
      "+----+--------------------+------+------+------+------+-----------+-------------+------------+-------------+----------+-------+-----------+-----------------+\n",
      "| 10 | XGB                | 1274 |  892 |    0 |    1 |      2166 |           1 |      1     |       1     |    0.999 | 1     |     1     |           1     |\n",
      "+----+--------------------+------+------+------+------+-----------+-------------+------------+-------------+----------+-------+-----------+-----------------+\n",
      "| 11 | VotingClassifier   | 1274 |  892 |    0 |    1 |      2166 |           1 |      1     |       1     |    0.999 | 1     |     1     |           1     |\n",
      "+----+--------------------+------+------+------+------+-----------+-------------+------------+-------------+----------+-------+-----------+-----------------+\n"
     ]
    }
   ],
   "source": [
    "# S_N Classifiers Test Report: SMOTE and ENN and additional ADASYN Oversample + Random Undersample\n",
    "resampled_class_classifiers_report('S_N', 'SMOTEENN & ADASYN + RandomUnderSampler')"
   ]
  },
  {
   "cell_type": "code",
   "execution_count": null,
   "metadata": {},
   "outputs": [],
   "source": [
    "##############\n",
    "# T_F ########\n",
    "##############"
   ]
  },
  {
   "cell_type": "code",
   "execution_count": 39,
   "metadata": {},
   "outputs": [
    {
     "name": "stdout",
     "output_type": "stream",
     "text": [
      "T_F Classifiers Report\n",
      "+----+--------------------+------+------+------+------+-----------+-------------+------------+-------------+----------+-------+-----------+-----------------+\n",
      "|    | Classifier         |   TP |   TN |   FP |   FN |   Correct |   Incorrect |   Accuracy |   Precision |   Recall |    F1 |   ROC AUC |   Avg Precision |\n",
      "+====+====================+======+======+======+======+===========+=============+============+=============+==========+=======+===========+=================+\n",
      "|  0 | Dummy              |    0 |  939 |    0 |  796 |       939 |         796 |      0.541 |       0     |    0     | 0     |     0.5   |           0.459 |\n",
      "+----+--------------------+------+------+------+------+-----------+-------------+------------+-------------+----------+-------+-----------+-----------------+\n",
      "|  1 | SVM                |  588 |  760 |  179 |  208 |      1348 |         387 |      0.777 |       0.767 |    0.739 | 0.752 |     0.774 |           0.686 |\n",
      "+----+--------------------+------+------+------+------+-----------+-------------+------------+-------------+----------+-------+-----------+-----------------+\n",
      "|  2 | LGBM               |  565 |  741 |  198 |  231 |      1306 |         429 |      0.753 |       0.74  |    0.71  | 0.725 |     0.749 |           0.659 |\n",
      "+----+--------------------+------+------+------+------+-----------+-------------+------------+-------------+----------+-------+-----------+-----------------+\n",
      "|  3 | KNeighbors         |  186 |  846 |   93 |  610 |      1032 |         703 |      0.595 |       0.667 |    0.234 | 0.346 |     0.567 |           0.507 |\n",
      "+----+--------------------+------+------+------+------+-----------+-------------+------------+-------------+----------+-------+-----------+-----------------+\n",
      "|  4 | DecisionTree       |  445 |  571 |  368 |  351 |      1016 |         719 |      0.586 |       0.547 |    0.559 | 0.553 |     0.584 |           0.508 |\n",
      "+----+--------------------+------+------+------+------+-----------+-------------+------------+-------------+----------+-------+-----------+-----------------+\n",
      "|  5 | RandomForest       |  476 |  770 |  169 |  320 |      1246 |         489 |      0.718 |       0.738 |    0.598 | 0.661 |     0.709 |           0.626 |\n",
      "+----+--------------------+------+------+------+------+-----------+-------------+------------+-------------+----------+-------+-----------+-----------------+\n",
      "|  6 | AdaBoost           |  547 |  707 |  232 |  249 |      1254 |         481 |      0.723 |       0.702 |    0.687 | 0.695 |     0.72  |           0.626 |\n",
      "+----+--------------------+------+------+------+------+-----------+-------------+------------+-------------+----------+-------+-----------+-----------------+\n",
      "|  7 | GradientBoosting   |  533 |  719 |  220 |  263 |      1252 |         483 |      0.722 |       0.708 |    0.67  | 0.688 |     0.718 |           0.626 |\n",
      "+----+--------------------+------+------+------+------+-----------+-------------+------------+-------------+----------+-------+-----------+-----------------+\n",
      "|  8 | GaussianNB         |  579 |  697 |  242 |  217 |      1276 |         459 |      0.735 |       0.705 |    0.727 | 0.716 |     0.735 |           0.638 |\n",
      "+----+--------------------+------+------+------+------+-----------+-------------+------------+-------------+----------+-------+-----------+-----------------+\n",
      "|  9 | LogisticRegression |  588 |  760 |  179 |  208 |      1348 |         387 |      0.777 |       0.767 |    0.739 | 0.752 |     0.774 |           0.686 |\n",
      "+----+--------------------+------+------+------+------+-----------+-------------+------------+-------------+----------+-------+-----------+-----------------+\n",
      "| 10 | XGB                |  545 |  721 |  218 |  251 |      1266 |         469 |      0.73  |       0.714 |    0.685 | 0.699 |     0.726 |           0.634 |\n",
      "+----+--------------------+------+------+------+------+-----------+-------------+------------+-------------+----------+-------+-----------+-----------------+\n",
      "| 11 | VotingClassifier   |  579 |  761 |  178 |  217 |      1340 |         395 |      0.772 |       0.765 |    0.727 | 0.746 |     0.769 |           0.681 |\n",
      "+----+--------------------+------+------+------+------+-----------+-------------+------------+-------------+----------+-------+-----------+-----------------+\n"
     ]
    }
   ],
   "source": [
    "# T_F Classifiers Test Report: Random Oversample\n",
    "noneresampled_class_classifiers_report('T_F')"
   ]
  },
  {
   "cell_type": "code",
   "execution_count": null,
   "metadata": {},
   "outputs": [],
   "source": [
    "##############\n",
    "# J_P ########\n",
    "##############"
   ]
  },
  {
   "cell_type": "code",
   "execution_count": 62,
   "metadata": {},
   "outputs": [
    {
     "name": "stdout",
     "output_type": "stream",
     "text": [
      "J_P Classifiers Report with resampling: RandomOverSampler\n",
      "+----+--------------------+------+------+------+------+-----------+-------------+------------+-------------+----------+-------+-----------+-----------------+\n",
      "|    | Classifier         |   TP |   TN |   FP |   FN |   Correct |   Incorrect |   Accuracy |   Precision |   Recall |    F1 |   ROC AUC |   Avg Precision |\n",
      "+====+====================+======+======+======+======+===========+=============+============+=============+==========+=======+===========+=================+\n",
      "|  0 | Dummy              |    0 | 1049 |    0 |  943 |      1049 |         943 |      0.527 |       0     |    0     | 0     |     0.5   |           0.473 |\n",
      "+----+--------------------+------+------+------+------+-----------+-------------+------------+-------------+----------+-------+-----------+-----------------+\n",
      "|  1 | SVM                |  622 |  811 |  238 |  321 |      1433 |         559 |      0.719 |       0.723 |    0.66  | 0.69  |     0.716 |           0.638 |\n",
      "+----+--------------------+------+------+------+------+-----------+-------------+------------+-------------+----------+-------+-----------+-----------------+\n",
      "|  2 | LGBM               |  632 |  805 |  244 |  311 |      1437 |         555 |      0.721 |       0.721 |    0.67  | 0.695 |     0.719 |           0.64  |\n",
      "+----+--------------------+------+------+------+------+-----------+-------------+------------+-------------+----------+-------+-----------+-----------------+\n",
      "|  3 | KNeighbors         |  462 |  700 |  349 |  481 |      1162 |         830 |      0.583 |       0.57  |    0.49  | 0.527 |     0.579 |           0.521 |\n",
      "+----+--------------------+------+------+------+------+-----------+-------------+------------+-------------+----------+-------+-----------+-----------------+\n",
      "|  4 | DecisionTree       |  654 |  679 |  370 |  289 |      1333 |         659 |      0.669 |       0.639 |    0.694 | 0.665 |     0.67  |           0.588 |\n",
      "+----+--------------------+------+------+------+------+-----------+-------------+------------+-------------+----------+-------+-----------+-----------------+\n",
      "|  5 | RandomForest       |  506 |  918 |  131 |  437 |      1424 |         568 |      0.715 |       0.794 |    0.537 | 0.641 |     0.706 |           0.646 |\n",
      "+----+--------------------+------+------+------+------+-----------+-------------+------------+-------------+----------+-------+-----------+-----------------+\n",
      "|  6 | AdaBoost           |  517 |  725 |  324 |  426 |      1242 |         750 |      0.623 |       0.615 |    0.548 | 0.58  |     0.62  |           0.551 |\n",
      "+----+--------------------+------+------+------+------+-----------+-------------+------------+-------------+----------+-------+-----------+-----------------+\n",
      "|  7 | GradientBoosting   |  517 |  807 |  242 |  426 |      1324 |         668 |      0.665 |       0.681 |    0.548 | 0.608 |     0.659 |           0.587 |\n",
      "+----+--------------------+------+------+------+------+-----------+-------------+------------+-------------+----------+-------+-----------+-----------------+\n",
      "|  8 | GaussianNB         |  557 |  670 |  379 |  386 |      1227 |         765 |      0.616 |       0.595 |    0.591 | 0.593 |     0.615 |           0.545 |\n",
      "+----+--------------------+------+------+------+------+-----------+-------------+------------+-------------+----------+-------+-----------+-----------------+\n",
      "|  9 | LogisticRegression |  545 |  756 |  293 |  398 |      1301 |         691 |      0.653 |       0.65  |    0.578 | 0.612 |     0.649 |           0.576 |\n",
      "+----+--------------------+------+------+------+------+-----------+-------------+------------+-------------+----------+-------+-----------+-----------------+\n",
      "| 10 | XGB                |  644 |  779 |  270 |  299 |      1423 |         569 |      0.714 |       0.705 |    0.683 | 0.694 |     0.713 |           0.631 |\n",
      "+----+--------------------+------+------+------+------+-----------+-------------+------------+-------------+----------+-------+-----------+-----------------+\n",
      "| 11 | VotingClassifier   |  636 |  840 |  209 |  307 |      1476 |         516 |      0.741 |       0.753 |    0.674 | 0.711 |     0.738 |           0.662 |\n",
      "+----+--------------------+------+------+------+------+-----------+-------------+------------+-------------+----------+-------+-----------+-----------------+\n"
     ]
    }
   ],
   "source": [
    "# J_P Classifiers Test Report: Random Oversample\n",
    "resampled_class_classifiers_report('J_P', 'RandomOverSampler')"
   ]
  },
  {
   "cell_type": "code",
   "execution_count": 63,
   "metadata": {},
   "outputs": [
    {
     "name": "stdout",
     "output_type": "stream",
     "text": [
      "J_P Classifiers Report with resampling: SMOTE\n",
      "+----+--------------------+------+------+------+------+-----------+-------------+------------+-------------+----------+-------+-----------+-----------------+\n",
      "|    | Classifier         |   TP |   TN |   FP |   FN |   Correct |   Incorrect |   Accuracy |   Precision |   Recall |    F1 |   ROC AUC |   Avg Precision |\n",
      "+====+====================+======+======+======+======+===========+=============+============+=============+==========+=======+===========+=================+\n",
      "|  0 | Dummy              | 1048 |    0 | 1049 |    0 |      1048 |        1049 |      0.5   |       0.5   |    1     | 0.666 |     0.5   |           0.5   |\n",
      "+----+--------------------+------+------+------+------+-----------+-------------+------------+-------------+----------+-------+-----------+-----------------+\n",
      "|  1 | SVM                |  697 |  867 |  182 |  351 |      1564 |         533 |      0.746 |       0.793 |    0.665 | 0.723 |     0.746 |           0.695 |\n",
      "+----+--------------------+------+------+------+------+-----------+-------------+------------+-------------+----------+-------+-----------+-----------------+\n",
      "|  2 | LGBM               |  672 |  842 |  207 |  376 |      1514 |         583 |      0.722 |       0.765 |    0.641 | 0.697 |     0.722 |           0.67  |\n",
      "+----+--------------------+------+------+------+------+-----------+-------------+------------+-------------+----------+-------+-----------+-----------------+\n",
      "|  3 | KNeighbors         | 1048 |    4 | 1045 |    0 |      1052 |        1045 |      0.502 |       0.501 |    1     | 0.667 |     0.502 |           0.501 |\n",
      "+----+--------------------+------+------+------+------+-----------+-------------+------------+-------------+----------+-------+-----------+-----------------+\n",
      "|  4 | DecisionTree       |  681 |  645 |  404 |  367 |      1326 |         771 |      0.632 |       0.628 |    0.65  | 0.639 |     0.632 |           0.583 |\n",
      "+----+--------------------+------+------+------+------+-----------+-------------+------------+-------------+----------+-------+-----------+-----------------+\n",
      "|  5 | RandomForest       |  611 |  888 |  161 |  437 |      1499 |         598 |      0.715 |       0.791 |    0.583 | 0.671 |     0.715 |           0.67  |\n",
      "+----+--------------------+------+------+------+------+-----------+-------------+------------+-------------+----------+-------+-----------+-----------------+\n",
      "|  6 | AdaBoost           |  672 |  767 |  282 |  376 |      1439 |         658 |      0.686 |       0.704 |    0.641 | 0.671 |     0.686 |           0.631 |\n",
      "+----+--------------------+------+------+------+------+-----------+-------------+------------+-------------+----------+-------+-----------+-----------------+\n",
      "|  7 | GradientBoosting   |  633 |  870 |  179 |  415 |      1503 |         594 |      0.717 |       0.78  |    0.604 | 0.681 |     0.717 |           0.669 |\n",
      "+----+--------------------+------+------+------+------+-----------+-------------+------------+-------------+----------+-------+-----------+-----------------+\n",
      "|  8 | GaussianNB         |  660 |  720 |  329 |  388 |      1380 |         717 |      0.658 |       0.667 |    0.63  | 0.648 |     0.658 |           0.605 |\n",
      "+----+--------------------+------+------+------+------+-----------+-------------+------------+-------------+----------+-------+-----------+-----------------+\n",
      "|  9 | LogisticRegression |  700 |  714 |  335 |  348 |      1414 |         683 |      0.674 |       0.676 |    0.668 | 0.672 |     0.674 |           0.618 |\n",
      "+----+--------------------+------+------+------+------+-----------+-------------+------------+-------------+----------+-------+-----------+-----------------+\n",
      "| 10 | XGB                |  684 |  817 |  232 |  364 |      1501 |         596 |      0.716 |       0.747 |    0.653 | 0.697 |     0.716 |           0.661 |\n",
      "+----+--------------------+------+------+------+------+-----------+-------------+------------+-------------+----------+-------+-----------+-----------------+\n",
      "| 11 | VotingClassifier   |  711 |  858 |  191 |  337 |      1569 |         528 |      0.748 |       0.788 |    0.678 | 0.729 |     0.748 |           0.695 |\n",
      "+----+--------------------+------+------+------+------+-----------+-------------+------------+-------------+----------+-------+-----------+-----------------+\n"
     ]
    }
   ],
   "source": [
    "# J_P Classifiers Test Report: SMOTE\n",
    "resampled_class_classifiers_report('J_P', 'SMOTE')"
   ]
  },
  {
   "cell_type": "code",
   "execution_count": 64,
   "metadata": {},
   "outputs": [
    {
     "name": "stdout",
     "output_type": "stream",
     "text": [
      "J_P Classifiers Report with resampling: SMOTE + RandomUnderSampler\n",
      "+----+--------------------+------+------+------+------+-----------+-------------+------------+-------------+----------+-------+-----------+-----------------+\n",
      "|    | Classifier         |   TP |   TN |   FP |   FN |   Correct |   Incorrect |   Accuracy |   Precision |   Recall |    F1 |   ROC AUC |   Avg Precision |\n",
      "+====+====================+======+======+======+======+===========+=============+============+=============+==========+=======+===========+=================+\n",
      "|  0 | Dummy              |    0 | 1048 |    0 |  944 |      1048 |         944 |      0.526 |       0     |    0     | 0     |     0.5   |           0.474 |\n",
      "+----+--------------------+------+------+------+------+-----------+-------------+------------+-------------+----------+-------+-----------+-----------------+\n",
      "|  1 | SVM                |  586 |  869 |  179 |  358 |      1455 |         537 |      0.73  |       0.766 |    0.621 | 0.686 |     0.725 |           0.655 |\n",
      "+----+--------------------+------+------+------+------+-----------+-------------+------------+-------------+----------+-------+-----------+-----------------+\n",
      "|  2 | LGBM               |  561 |  847 |  201 |  383 |      1408 |         584 |      0.707 |       0.736 |    0.594 | 0.658 |     0.701 |           0.63  |\n",
      "+----+--------------------+------+------+------+------+-----------+-------------+------------+-------------+----------+-------+-----------+-----------------+\n",
      "|  3 | KNeighbors         |  944 |    7 | 1041 |    0 |       951 |        1041 |      0.477 |       0.476 |    1     | 0.645 |     0.503 |           0.476 |\n",
      "+----+--------------------+------+------+------+------+-----------+-------------+------------+-------------+----------+-------+-----------+-----------------+\n",
      "|  4 | DecisionTree       |  549 |  632 |  416 |  395 |      1181 |         811 |      0.593 |       0.569 |    0.582 | 0.575 |     0.592 |           0.529 |\n",
      "+----+--------------------+------+------+------+------+-----------+-------------+------------+-------------+----------+-------+-----------+-----------------+\n",
      "|  5 | RandomForest       |  468 |  897 |  151 |  476 |      1365 |         627 |      0.685 |       0.756 |    0.496 | 0.599 |     0.676 |           0.614 |\n",
      "+----+--------------------+------+------+------+------+-----------+-------------+------------+-------------+----------+-------+-----------+-----------------+\n",
      "|  6 | AdaBoost           |  589 |  733 |  315 |  355 |      1322 |         670 |      0.664 |       0.652 |    0.624 | 0.637 |     0.662 |           0.585 |\n",
      "+----+--------------------+------+------+------+------+-----------+-------------+------------+-------------+----------+-------+-----------+-----------------+\n",
      "|  7 | GradientBoosting   |  524 |  865 |  183 |  420 |      1389 |         603 |      0.697 |       0.741 |    0.555 | 0.635 |     0.69  |           0.622 |\n",
      "+----+--------------------+------+------+------+------+-----------+-------------+------------+-------------+----------+-------+-----------+-----------------+\n",
      "|  8 | GaussianNB         |  606 |  698 |  350 |  338 |      1304 |         688 |      0.655 |       0.634 |    0.642 | 0.638 |     0.654 |           0.577 |\n",
      "+----+--------------------+------+------+------+------+-----------+-------------+------------+-------------+----------+-------+-----------+-----------------+\n",
      "|  9 | LogisticRegression |  594 |  762 |  286 |  350 |      1356 |         636 |      0.681 |       0.675 |    0.629 | 0.651 |     0.678 |           0.6   |\n",
      "+----+--------------------+------+------+------+------+-----------+-------------+------------+-------------+----------+-------+-----------+-----------------+\n",
      "| 10 | XGB                |  567 |  807 |  241 |  377 |      1374 |         618 |      0.69  |       0.702 |    0.601 | 0.647 |     0.685 |           0.611 |\n",
      "+----+--------------------+------+------+------+------+-----------+-------------+------------+-------------+----------+-------+-----------+-----------------+\n",
      "| 11 | VotingClassifier   |  588 |  862 |  186 |  356 |      1450 |         542 |      0.728 |       0.76  |    0.623 | 0.685 |     0.723 |           0.652 |\n",
      "+----+--------------------+------+------+------+------+-----------+-------------+------------+-------------+----------+-------+-----------+-----------------+\n"
     ]
    }
   ],
   "source": [
    "# J_P Classifiers Test Report: SMOTE Oversample + Random Undersample\n",
    "resampled_class_classifiers_report('J_P', 'SMOTE + RandomUnderSampler')"
   ]
  },
  {
   "cell_type": "code",
   "execution_count": 65,
   "metadata": {},
   "outputs": [
    {
     "name": "stdout",
     "output_type": "stream",
     "text": [
      "J_P Classifiers Report with resampling: BorderlineSMOTE\n",
      "+----+--------------------+------+------+------+------+-----------+-------------+------------+-------------+----------+-------+-----------+-----------------+\n",
      "|    | Classifier         |   TP |   TN |   FP |   FN |   Correct |   Incorrect |   Accuracy |   Precision |   Recall |    F1 |   ROC AUC |   Avg Precision |\n",
      "+====+====================+======+======+======+======+===========+=============+============+=============+==========+=======+===========+=================+\n",
      "|  0 | Dummy              | 1048 |    0 | 1049 |    0 |      1048 |        1049 |      0.5   |       0.5   |    1     | 0.666 |     0.5   |           0.5   |\n",
      "+----+--------------------+------+------+------+------+-----------+-------------+------------+-------------+----------+-------+-----------+-----------------+\n",
      "|  1 | SVM                |  697 |  864 |  185 |  351 |      1561 |         536 |      0.744 |       0.79  |    0.665 | 0.722 |     0.744 |           0.693 |\n",
      "+----+--------------------+------+------+------+------+-----------+-------------+------------+-------------+----------+-------+-----------+-----------------+\n",
      "|  2 | LGBM               |  660 |  855 |  194 |  388 |      1515 |         582 |      0.722 |       0.773 |    0.63  | 0.694 |     0.722 |           0.672 |\n",
      "+----+--------------------+------+------+------+------+-----------+-------------+------------+-------------+----------+-------+-----------+-----------------+\n",
      "|  3 | KNeighbors         | 1047 |    6 | 1043 |    1 |      1053 |        1044 |      0.502 |       0.501 |    0.999 | 0.667 |     0.502 |           0.501 |\n",
      "+----+--------------------+------+------+------+------+-----------+-------------+------------+-------------+----------+-------+-----------+-----------------+\n",
      "|  4 | DecisionTree       |  656 |  648 |  401 |  392 |      1304 |         793 |      0.622 |       0.621 |    0.626 | 0.623 |     0.622 |           0.575 |\n",
      "+----+--------------------+------+------+------+------+-----------+-------------+------------+-------------+----------+-------+-----------+-----------------+\n",
      "|  5 | RandomForest       |  601 |  888 |  161 |  447 |      1489 |         608 |      0.71  |       0.789 |    0.573 | 0.664 |     0.71  |           0.665 |\n",
      "+----+--------------------+------+------+------+------+-----------+-------------+------------+-------------+----------+-------+-----------+-----------------+\n",
      "|  6 | AdaBoost           |  689 |  788 |  261 |  359 |      1477 |         620 |      0.704 |       0.725 |    0.657 | 0.69  |     0.704 |           0.648 |\n",
      "+----+--------------------+------+------+------+------+-----------+-------------+------------+-------------+----------+-------+-----------+-----------------+\n",
      "|  7 | GradientBoosting   |  628 |  869 |  180 |  420 |      1497 |         600 |      0.714 |       0.777 |    0.599 | 0.677 |     0.714 |           0.666 |\n",
      "+----+--------------------+------+------+------+------+-----------+-------------+------------+-------------+----------+-------+-----------+-----------------+\n",
      "|  8 | GaussianNB         |  676 |  704 |  345 |  372 |      1380 |         717 |      0.658 |       0.662 |    0.645 | 0.653 |     0.658 |           0.604 |\n",
      "+----+--------------------+------+------+------+------+-----------+-------------+------------+-------------+----------+-------+-----------+-----------------+\n",
      "|  9 | LogisticRegression |  711 |  698 |  351 |  337 |      1409 |         688 |      0.672 |       0.669 |    0.678 | 0.674 |     0.672 |           0.615 |\n",
      "+----+--------------------+------+------+------+------+-----------+-------------+------------+-------------+----------+-------+-----------+-----------------+\n",
      "| 10 | XGB                |  700 |  790 |  259 |  348 |      1490 |         607 |      0.711 |       0.73  |    0.668 | 0.698 |     0.711 |           0.653 |\n",
      "+----+--------------------+------+------+------+------+-----------+-------------+------------+-------------+----------+-------+-----------+-----------------+\n",
      "| 11 | VotingClassifier   |  715 |  835 |  214 |  333 |      1550 |         547 |      0.739 |       0.77  |    0.682 | 0.723 |     0.739 |           0.684 |\n",
      "+----+--------------------+------+------+------+------+-----------+-------------+------------+-------------+----------+-------+-----------+-----------------+\n"
     ]
    }
   ],
   "source": [
    "# J_P Classifiers Test Report: SMOTE Oversample + Random Undersample\n",
    "resampled_class_classifiers_report('J_P', 'BorderlineSMOTE')  "
   ]
  },
  {
   "cell_type": "code",
   "execution_count": 66,
   "metadata": {},
   "outputs": [
    {
     "name": "stdout",
     "output_type": "stream",
     "text": [
      "J_P Classifiers Report with resampling: SMOTEENN + RandomUnderSampler\n",
      "+----+--------------------+------+------+------+------+-----------+-------------+------------+-------------+----------+-------+-----------+-----------------+\n",
      "|    | Classifier         |   TP |   TN |   FP |   FN |   Correct |   Incorrect |   Accuracy |   Precision |   Recall |    F1 |   ROC AUC |   Avg Precision |\n",
      "+====+====================+======+======+======+======+===========+=============+============+=============+==========+=======+===========+=================+\n",
      "|  0 | Dummy              |    4 |    0 |    2 |    0 |         4 |           2 |      0.667 |       0.667 |     1    | 0.8   |     0.5   |           0.667 |\n",
      "+----+--------------------+------+------+------+------+-----------+-------------+------------+-------------+----------+-------+-----------+-----------------+\n",
      "|  1 | SVM                |    4 |    1 |    1 |    0 |         5 |           1 |      0.833 |       0.8   |     1    | 0.889 |     0.75  |           0.8   |\n",
      "+----+--------------------+------+------+------+------+-----------+-------------+------------+-------------+----------+-------+-----------+-----------------+\n",
      "|  2 | LGBM               |    4 |    0 |    2 |    0 |         4 |           2 |      0.667 |       0.667 |     1    | 0.8   |     0.5   |           0.667 |\n",
      "+----+--------------------+------+------+------+------+-----------+-------------+------------+-------------+----------+-------+-----------+-----------------+\n",
      "|  3 | KNeighbors         |    4 |    1 |    1 |    0 |         5 |           1 |      0.833 |       0.8   |     1    | 0.889 |     0.75  |           0.8   |\n",
      "+----+--------------------+------+------+------+------+-----------+-------------+------------+-------------+----------+-------+-----------+-----------------+\n",
      "|  4 | DecisionTree       |    3 |    2 |    0 |    1 |         5 |           1 |      0.833 |       1     |     0.75 | 0.857 |     0.875 |           0.917 |\n",
      "+----+--------------------+------+------+------+------+-----------+-------------+------------+-------------+----------+-------+-----------+-----------------+\n",
      "|  5 | RandomForest       |    4 |    2 |    0 |    0 |         6 |           0 |      1     |       1     |     1    | 1     |     1     |           1     |\n",
      "+----+--------------------+------+------+------+------+-----------+-------------+------------+-------------+----------+-------+-----------+-----------------+\n",
      "|  6 | AdaBoost           |    3 |    2 |    0 |    1 |         5 |           1 |      0.833 |       1     |     0.75 | 0.857 |     0.875 |           0.917 |\n",
      "+----+--------------------+------+------+------+------+-----------+-------------+------------+-------------+----------+-------+-----------+-----------------+\n",
      "|  7 | GradientBoosting   |    4 |    2 |    0 |    0 |         6 |           0 |      1     |       1     |     1    | 1     |     1     |           1     |\n",
      "+----+--------------------+------+------+------+------+-----------+-------------+------------+-------------+----------+-------+-----------+-----------------+\n",
      "|  8 | GaussianNB         |    4 |    1 |    1 |    0 |         5 |           1 |      0.833 |       0.8   |     1    | 0.889 |     0.75  |           0.8   |\n",
      "+----+--------------------+------+------+------+------+-----------+-------------+------------+-------------+----------+-------+-----------+-----------------+\n",
      "|  9 | LogisticRegression |    4 |    1 |    1 |    0 |         5 |           1 |      0.833 |       0.8   |     1    | 0.889 |     0.75  |           0.8   |\n",
      "+----+--------------------+------+------+------+------+-----------+-------------+------------+-------------+----------+-------+-----------+-----------------+\n",
      "| 10 | XGB                |    4 |    2 |    0 |    0 |         6 |           0 |      1     |       1     |     1    | 1     |     1     |           1     |\n",
      "+----+--------------------+------+------+------+------+-----------+-------------+------------+-------------+----------+-------+-----------+-----------------+\n",
      "| 11 | VotingClassifier   |    4 |    2 |    0 |    0 |         6 |           0 |      1     |       1     |     1    | 1     |     1     |           1     |\n",
      "+----+--------------------+------+------+------+------+-----------+-------------+------------+-------------+----------+-------+-----------+-----------------+\n"
     ]
    }
   ],
   "source": [
    "# J_P Classifiers Test Report: SMOTE and ENN Oversample + Random Undersample\n",
    "resampled_class_classifiers_report('J_P', 'SMOTEENN + RandomUnderSampler')    "
   ]
  },
  {
   "cell_type": "code",
   "execution_count": 67,
   "metadata": {},
   "outputs": [
    {
     "name": "stdout",
     "output_type": "stream",
     "text": [
      "J_P Classifiers Report with resampling: SMOTEENN & ADASYN + RandomUnderSampler\n",
      "+----+--------------------+------+------+------+------+-----------+-------------+------------+-------------+----------+-------+-----------+-----------------+\n",
      "|    | Classifier         |   TP |   TN |   FP |   FN |   Correct |   Incorrect |   Accuracy |   Precision |   Recall |    F1 |   ROC AUC |   Avg Precision |\n",
      "+====+====================+======+======+======+======+===========+=============+============+=============+==========+=======+===========+=================+\n",
      "|  0 | Dummy              |  705 |    0 |  493 |    0 |       705 |         493 |      0.588 |       0.588 |    1     | 0.741 |     0.5   |           0.588 |\n",
      "+----+--------------------+------+------+------+------+-----------+-------------+------------+-------------+----------+-------+-----------+-----------------+\n",
      "|  1 | SVM                |  705 |  493 |    0 |    0 |      1198 |           0 |      1     |       1     |    1     | 1     |     1     |           1     |\n",
      "+----+--------------------+------+------+------+------+-----------+-------------+------------+-------------+----------+-------+-----------+-----------------+\n",
      "|  2 | LGBM               |  703 |  493 |    0 |    2 |      1196 |           2 |      0.998 |       1     |    0.997 | 0.999 |     0.999 |           0.999 |\n",
      "+----+--------------------+------+------+------+------+-----------+-------------+------------+-------------+----------+-------+-----------+-----------------+\n",
      "|  3 | KNeighbors         |  703 |  493 |    0 |    2 |      1196 |           2 |      0.998 |       1     |    0.997 | 0.999 |     0.999 |           0.999 |\n",
      "+----+--------------------+------+------+------+------+-----------+-------------+------------+-------------+----------+-------+-----------+-----------------+\n",
      "|  4 | DecisionTree       |  702 |  493 |    0 |    3 |      1195 |           3 |      0.997 |       1     |    0.996 | 0.998 |     0.998 |           0.998 |\n",
      "+----+--------------------+------+------+------+------+-----------+-------------+------------+-------------+----------+-------+-----------+-----------------+\n",
      "|  5 | RandomForest       |  704 |  493 |    0 |    1 |      1197 |           1 |      0.999 |       1     |    0.999 | 0.999 |     0.999 |           0.999 |\n",
      "+----+--------------------+------+------+------+------+-----------+-------------+------------+-------------+----------+-------+-----------+-----------------+\n",
      "|  6 | AdaBoost           |  704 |  492 |    1 |    1 |      1196 |           2 |      0.998 |       0.999 |    0.999 | 0.999 |     0.998 |           0.998 |\n",
      "+----+--------------------+------+------+------+------+-----------+-------------+------------+-------------+----------+-------+-----------+-----------------+\n",
      "|  7 | GradientBoosting   |  704 |  493 |    0 |    1 |      1197 |           1 |      0.999 |       1     |    0.999 | 0.999 |     0.999 |           0.999 |\n",
      "+----+--------------------+------+------+------+------+-----------+-------------+------------+-------------+----------+-------+-----------+-----------------+\n",
      "|  8 | GaussianNB         |  705 |  493 |    0 |    0 |      1198 |           0 |      1     |       1     |    1     | 1     |     1     |           1     |\n",
      "+----+--------------------+------+------+------+------+-----------+-------------+------------+-------------+----------+-------+-----------+-----------------+\n",
      "|  9 | LogisticRegression |  704 |  493 |    0 |    1 |      1197 |           1 |      0.999 |       1     |    0.999 | 0.999 |     0.999 |           0.999 |\n",
      "+----+--------------------+------+------+------+------+-----------+-------------+------------+-------------+----------+-------+-----------+-----------------+\n",
      "| 10 | XGB                |  705 |  493 |    0 |    0 |      1198 |           0 |      1     |       1     |    1     | 1     |     1     |           1     |\n",
      "+----+--------------------+------+------+------+------+-----------+-------------+------------+-------------+----------+-------+-----------+-----------------+\n",
      "| 11 | VotingClassifier   |  705 |  493 |    0 |    0 |      1198 |           0 |      1     |       1     |    1     | 1     |     1     |           1     |\n",
      "+----+--------------------+------+------+------+------+-----------+-------------+------------+-------------+----------+-------+-----------+-----------------+\n"
     ]
    }
   ],
   "source": [
    "# J_P Classifiers Test Report: SMOTE and ENN and additional ADASYN Oversample + Random Undersample\n",
    "resampled_class_classifiers_report('J_P', 'SMOTEENN & ADASYN + RandomUnderSampler')"
   ]
  },
  {
   "cell_type": "code",
   "execution_count": 18,
   "metadata": {},
   "outputs": [],
   "source": [
    "#####################################\n",
    "# Class Model Performance Tests #####\n",
    "#####################################\n",
    "\n",
    "def class_classifier_model_test(class_name, classifier, resampler=None):\n",
    "    X_train, X_test, y_train, y_test = train_test_split_data(class_name, resampler)\n",
    "    \n",
    "    model_classifier = classifiers[classifier]()\n",
    "\n",
    "    if resampler:\n",
    "      print('{:s} Class Classifier: {:s} Model Test Report With Resampling: {:s}'.format(class_name, classifier, resampler), end=\"\\n\\n\")\n",
    "    else:\n",
    "      print('{:s} Class Classifier: {:s} Model Test Report'.format(class_name, classifier), end=\"\\n\\n\")\n",
    "\n",
    "    # Cross-Validation and Performance Stability\n",
    "    ei_cv_scores = cross_val_score(model_classifier, X_train, y_train, cv=5, scoring='f1')\n",
    "    \n",
    "    print('{:s} F1 Cross-Validation Scores: {:s}'.format(classifier, str(ei_cv_scores)))\n",
    "    print('{:s} F1 Mean: {:n}'.format(classifier, ei_cv_scores.mean()), end=\"\\n\\n\")\n",
    "\n",
    "    # Performance on Test Data\n",
    "    model_classifier.fit(X_train, y_train)\n",
    "\n",
    "    y_pred = model_classifier.predict(X_test)\n",
    "\n",
    "    model_report = classification_report(y_test, y_pred, output_dict=True)\n",
    "\n",
    "    model_report_headers = [\"Class\", \"Precision\", \"Recall\", \"F1-Score\", \"Support\"]\n",
    "    model_report_rows = [\n",
    "        [\"0\", model_report[\"0\"][\"precision\"], model_report[\"0\"][\"recall\"], model_report[\"0\"][\"f1-score\"], model_report[\"0\"][\"support\"]],\n",
    "        [\"1\", model_report[\"1\"][\"precision\"], model_report[\"1\"][\"recall\"], model_report[\"1\"][\"f1-score\"], model_report[\"1\"][\"support\"]],\n",
    "        [\"Accuracy\", \"\", \"\", model_report[\"accuracy\"], \"\"],\n",
    "        [\"Macro Avg\", model_report[\"macro avg\"][\"precision\"], model_report[\"macro avg\"][\"recall\"], model_report[\"macro avg\"][\"f1-score\"], model_report[\"macro avg\"][\"support\"]],\n",
    "        [\"Weighted Avg\", model_report[\"weighted avg\"][\"precision\"], model_report[\"weighted avg\"][\"recall\"], model_report[\"weighted avg\"][\"f1-score\"], model_report[\"weighted avg\"][\"support\"]],\n",
    "    ]\n",
    "\n",
    "    print('')\n",
    "    print(tabulate(model_report_rows, headers=model_report_headers, tablefmt=\"grid\"))"
   ]
  },
  {
   "cell_type": "code",
   "execution_count": 89,
   "metadata": {},
   "outputs": [
    {
     "name": "stdout",
     "output_type": "stream",
     "text": [
      "E_I Class Classifier: SVM Model Test Report With Resampling: BorderlineSMOTE\n",
      "\n",
      "SVM F1 Cross-Validation Scores: [0.86052496 0.87315334 0.86717557 0.8428645  0.85390947]\n",
      "SVM F1 Mean: 0.859526\n",
      "\n",
      "\n",
      "+--------------+--------------------+--------------------+------------+-----------+\n",
      "| Class        | Precision          | Recall             |   F1-Score | Support   |\n",
      "+==============+====================+====================+============+===========+\n",
      "| 0            | 0.8433575677461996 | 0.9550898203592815 |   0.895753 | 1336      |\n",
      "+--------------+--------------------+--------------------+------------+-----------+\n",
      "| 1            | 0.9481865284974094 | 0.8224719101123595 |   0.880866 | 1335      |\n",
      "+--------------+--------------------+--------------------+------------+-----------+\n",
      "| Accuracy     |                    |                    |   0.888806 |           |\n",
      "+--------------+--------------------+--------------------+------------+-----------+\n",
      "| Macro Avg    | 0.8957720481218046 | 0.8887808652358204 |   0.88831  | 2671      |\n",
      "+--------------+--------------------+--------------------+------------+-----------+\n",
      "| Weighted Avg | 0.8957524245799192 | 0.8888056907525271 |   0.888312 | 2671      |\n",
      "+--------------+--------------------+--------------------+------------+-----------+\n"
     ]
    }
   ],
   "source": [
    "# E_I class model tests\n",
    "class_classifier_model_test('E_I', 'SVM', 'BorderlineSMOTE')"
   ]
  },
  {
   "cell_type": "code",
   "execution_count": 90,
   "metadata": {},
   "outputs": [
    {
     "name": "stdout",
     "output_type": "stream",
     "text": [
      "E_I Class Classifier: VotingClassifier Model Test Report With Resampling: BorderlineSMOTE\n",
      "\n",
      "VotingClassifier F1 Cross-Validation Scores: [0.86163203 0.86839482 0.86995074 0.84580153 0.86453577]\n",
      "VotingClassifier F1 Mean: 0.862063\n",
      "\n",
      "\n",
      "+--------------+--------------------+--------------------+------------+-----------+\n",
      "| Class        | Precision          | Recall             |   F1-Score | Support   |\n",
      "+==============+====================+====================+============+===========+\n",
      "| 0            | 0.8334430546412114 | 0.9476047904191617 |   0.886865 | 1336      |\n",
      "+--------------+--------------------+--------------------+------------+-----------+\n",
      "| 1            | 0.9392361111111112 | 0.8104868913857678 |   0.870125 | 1335      |\n",
      "+--------------+--------------------+--------------------+------------+-----------+\n",
      "| Accuracy     |                    |                    |   0.879072 |           |\n",
      "+--------------+--------------------+--------------------+------------+-----------+\n",
      "| Macro Avg    | 0.8863395828761613 | 0.8790458409024647 |   0.878495 | 2671      |\n",
      "+--------------+--------------------+--------------------+------------+-----------+\n",
      "| Weighted Avg | 0.8863197788596    | 0.879071508798203  |   0.878498 | 2671      |\n",
      "+--------------+--------------------+--------------------+------------+-----------+\n"
     ]
    }
   ],
   "source": [
    "class_classifier_model_test('E_I', 'VotingClassifier', 'BorderlineSMOTE')"
   ]
  },
  {
   "cell_type": "code",
   "execution_count": 91,
   "metadata": {},
   "outputs": [
    {
     "name": "stdout",
     "output_type": "stream",
     "text": [
      "E_I Class Classifier: RandomForest Model Test Report With Resampling: RandomOverSampler\n",
      "\n",
      "RandomForest F1 Cross-Validation Scores: [0.9209508  0.909699   0.91349862 0.91396648 0.91214326]\n",
      "RandomForest F1 Mean: 0.914052\n",
      "\n",
      "\n",
      "+--------------+--------------------+--------------------+------------+-----------+\n",
      "| Class        | Precision          | Recall             |   F1-Score | Support   |\n",
      "+==============+====================+====================+============+===========+\n",
      "| 0            | 0.9341359773371105 | 0.9880149812734083 |   0.96032  | 1335      |\n",
      "+--------------+--------------------+--------------------+------------+-----------+\n",
      "| 1            | 0.9857777777777778 | 0.9226289517470881 |   0.953159 | 1202      |\n",
      "+--------------+--------------------+--------------------+------------+-----------+\n",
      "| Accuracy     |                    |                    |   0.957036 |           |\n",
      "+--------------+--------------------+--------------------+------------+-----------+\n",
      "| Macro Avg    | 0.9599568775574441 | 0.9553219665102481 |   0.956739 | 2537      |\n",
      "+--------------+--------------------+--------------------+------------+-----------+\n",
      "| Weighted Avg | 0.9586032395088416 | 0.9570358691367757 |   0.956927 | 2537      |\n",
      "+--------------+--------------------+--------------------+------------+-----------+\n"
     ]
    }
   ],
   "source": [
    "class_classifier_model_test('E_I', 'RandomForest', 'RandomOverSampler')"
   ]
  },
  {
   "cell_type": "code",
   "execution_count": 92,
   "metadata": {},
   "outputs": [
    {
     "name": "stdout",
     "output_type": "stream",
     "text": [
      "S_N Class Classifier: SVM Model Test Report With Resampling: BorderlineSMOTE\n",
      "\n",
      "SVM F1 Cross-Validation Scores: [0.94236692 0.94820018 0.94371152 0.93998235 0.93605684]\n",
      "SVM F1 Mean: 0.942064\n",
      "\n",
      "\n",
      "+--------------+--------------------+--------------------+------------+-----------+\n",
      "| Class        | Precision          | Recall             |   F1-Score | Support   |\n",
      "+==============+====================+====================+============+===========+\n",
      "| 0            | 0.9124311083894673 | 0.9959893048128342 |   0.952381 | 1496      |\n",
      "+--------------+--------------------+--------------------+------------+-----------+\n",
      "| 1            | 0.9955849889624724 | 0.9044117647058824 |   0.947811 | 1496      |\n",
      "+--------------+--------------------+--------------------+------------+-----------+\n",
      "| Accuracy     |                    |                    |   0.950201 |           |\n",
      "+--------------+--------------------+--------------------+------------+-----------+\n",
      "| Macro Avg    | 0.9540080486759699 | 0.9502005347593583 |   0.950096 | 2992      |\n",
      "+--------------+--------------------+--------------------+------------+-----------+\n",
      "| Weighted Avg | 0.9540080486759698 | 0.9502005347593583 |   0.950096 | 2992      |\n",
      "+--------------+--------------------+--------------------+------------+-----------+\n"
     ]
    }
   ],
   "source": [
    "# S_N class model tests\n",
    "class_classifier_model_test('S_N', 'SVM', 'BorderlineSMOTE')"
   ]
  },
  {
   "cell_type": "code",
   "execution_count": 93,
   "metadata": {},
   "outputs": [
    {
     "name": "stdout",
     "output_type": "stream",
     "text": [
      "S_N Class Classifier: VotingClassifier Model Test Report With Resampling: RandomOverSampler\n",
      "\n",
      "VotingClassifier F1 Cross-Validation Scores: [0.9656121  0.97204101 0.96357769 0.97322253 0.96244784]\n",
      "VotingClassifier F1 Mean: 0.96738\n",
      "\n",
      "\n",
      "+--------------+--------------------+--------------------+------------+-----------+\n",
      "| Class        | Precision          | Recall             |   F1-Score | Support   |\n",
      "+==============+====================+====================+============+===========+\n",
      "| 0            | 0.9911383776414451 | 0.9719251336898396 |   0.981438 | 1496      |\n",
      "+--------------+--------------------+--------------------+------------+-----------+\n",
      "| 1            | 0.9694545454545455 | 0.9903417533432393 |   0.979787 | 1346      |\n",
      "+--------------+--------------------+--------------------+------------+-----------+\n",
      "| Accuracy     |                    |                    |   0.980647 |           |\n",
      "+--------------+--------------------+--------------------+------------+-----------+\n",
      "| Macro Avg    | 0.9802964615479952 | 0.9811334435165394 |   0.980612 | 2842      |\n",
      "+--------------+--------------------+--------------------+------------+-----------+\n",
      "| Weighted Avg | 0.9808686949800915 | 0.9806474313863477 |   0.980656 | 2842      |\n",
      "+--------------+--------------------+--------------------+------------+-----------+\n"
     ]
    }
   ],
   "source": [
    "class_classifier_model_test('S_N', 'VotingClassifier', 'RandomOverSampler')"
   ]
  },
  {
   "cell_type": "code",
   "execution_count": 94,
   "metadata": {},
   "outputs": [
    {
     "name": "stdout",
     "output_type": "stream",
     "text": [
      "S_N Class Classifier: RandomForest Model Test Report With Resampling: RandomOverSampler\n",
      "\n",
      "RandomForest F1 Cross-Validation Scores: [0.98455779 0.98780488 0.98403756 0.98876404 0.98541176]\n",
      "RandomForest F1 Mean: 0.986115\n",
      "\n",
      "\n",
      "+--------------+--------------------+--------------------+------------+-----------+\n",
      "| Class        | Precision          | Recall             |   F1-Score | Support   |\n",
      "+==============+====================+====================+============+===========+\n",
      "| 0            | 0.9946702198534311 | 0.9979946524064172 |   0.99633  | 1496      |\n",
      "+--------------+--------------------+--------------------+------------+-----------+\n",
      "| 1            | 0.9977628635346756 | 0.9940564635958395 |   0.995906 | 1346      |\n",
      "+--------------+--------------------+--------------------+------------+-----------+\n",
      "| Accuracy     |                    |                    |   0.996129 |           |\n",
      "+--------------+--------------------+--------------------+------------+-----------+\n",
      "| Macro Avg    | 0.9962165416940534 | 0.9960255580011284 |   0.996118 | 2842      |\n",
      "+--------------+--------------------+--------------------+------------+-----------+\n",
      "| Weighted Avg | 0.9961349272408185 | 0.9961294862772695 |   0.996129 | 2842      |\n",
      "+--------------+--------------------+--------------------+------------+-----------+\n"
     ]
    }
   ],
   "source": [
    "class_classifier_model_test('S_N', 'RandomForest', 'RandomOverSampler')"
   ]
  },
  {
   "cell_type": "code",
   "execution_count": 100,
   "metadata": {},
   "outputs": [
    {
     "name": "stdout",
     "output_type": "stream",
     "text": [
      "T_F Class Classifier: SVM Model Test Report\n",
      "\n",
      "SVM F1 Cross-Validation Scores: [0.72859451 0.74718196 0.73413655 0.73642173 0.76212833]\n",
      "SVM F1 Mean: 0.741693\n",
      "\n",
      "\n",
      "+--------------+--------------------+--------------------+------------+-----------+\n",
      "| Class        | Precision          | Recall             |   F1-Score | Support   |\n",
      "+==============+====================+====================+============+===========+\n",
      "| 0            | 0.7851239669421488 | 0.8093716719914803 |   0.797063 | 939       |\n",
      "+--------------+--------------------+--------------------+------------+-----------+\n",
      "| 1            | 0.7666232073011734 | 0.7386934673366834 |   0.752399 | 796       |\n",
      "+--------------+--------------------+--------------------+------------+-----------+\n",
      "| Accuracy     |                    |                    |   0.776945 |           |\n",
      "+--------------+--------------------+--------------------+------------+-----------+\n",
      "| Macro Avg    | 0.7758735871216611 | 0.7740325696640818 |   0.774731 | 1735      |\n",
      "+--------------+--------------------+--------------------+------------+-----------+\n",
      "| Weighted Avg | 0.776636010357586  | 0.7769452449567723 |   0.776572 | 1735      |\n",
      "+--------------+--------------------+--------------------+------------+-----------+\n"
     ]
    }
   ],
   "source": [
    "# T_F class model tests\n",
    "class_classifier_model_test('T_F', 'SVM')"
   ]
  },
  {
   "cell_type": "code",
   "execution_count": 101,
   "metadata": {},
   "outputs": [
    {
     "name": "stdout",
     "output_type": "stream",
     "text": [
      "T_F Class Classifier: VotingClassifier Model Test Report\n",
      "\n",
      "VotingClassifier F1 Cross-Validation Scores: [0.72904801 0.74796748 0.72168285 0.728      0.74418605]\n",
      "VotingClassifier F1 Mean: 0.734177\n",
      "\n",
      "\n",
      "+--------------+--------------------+--------------------+------------+-----------+\n",
      "| Class        | Precision          | Recall             |   F1-Score | Support   |\n",
      "+==============+====================+====================+============+===========+\n",
      "| 0            | 0.778118609406953  | 0.8104366347177849 |   0.793949 | 939       |\n",
      "+--------------+--------------------+--------------------+------------+-----------+\n",
      "| 1            | 0.7648612945838837 | 0.7273869346733668 |   0.745654 | 796       |\n",
      "+--------------+--------------------+--------------------+------------+-----------+\n",
      "| Accuracy     |                    |                    |   0.772334 |           |\n",
      "+--------------+--------------------+--------------------+------------+-----------+\n",
      "| Macro Avg    | 0.7714899519954184 | 0.7689117846955759 |   0.769801 | 1735      |\n",
      "+--------------+--------------------+--------------------+------------+-----------+\n",
      "| Weighted Avg | 0.7720362909059945 | 0.7723342939481268 |   0.771791 | 1735      |\n",
      "+--------------+--------------------+--------------------+------------+-----------+\n"
     ]
    }
   ],
   "source": [
    "class_classifier_model_test('T_F', 'VotingClassifier')"
   ]
  },
  {
   "cell_type": "code",
   "execution_count": 102,
   "metadata": {},
   "outputs": [
    {
     "name": "stdout",
     "output_type": "stream",
     "text": [
      "J_P Class Classifier: SVM Model Test Report With Resampling: SMOTE\n",
      "\n",
      "SVM F1 Cross-Validation Scores: [0.69457162 0.70437018 0.7073329  0.70519481 0.71824629]\n",
      "SVM F1 Mean: 0.705943\n",
      "\n",
      "\n",
      "+--------------+--------------------+--------------------+------------+-----------+\n",
      "| Class        | Precision          | Recall             |   F1-Score | Support   |\n",
      "+==============+====================+====================+============+===========+\n",
      "| 0            | 0.7118226600985221 | 0.8265014299332698 |   0.764888 | 1049      |\n",
      "+--------------+--------------------+--------------------+------------+-----------+\n",
      "| 1            | 0.7929465301478953 | 0.6650763358778626 |   0.723404 | 1048      |\n",
      "+--------------+--------------------+--------------------+------------+-----------+\n",
      "| Accuracy     |                    |                    |   0.745827 |           |\n",
      "+--------------+--------------------+--------------------+------------+-----------+\n",
      "| Macro Avg    | 0.7523845951232087 | 0.7457888829055662 |   0.744146 | 2097      |\n",
      "+--------------+--------------------+--------------------+------------+-----------+\n",
      "| Weighted Avg | 0.7523652522834259 | 0.7458273724368145 |   0.744156 | 2097      |\n",
      "+--------------+--------------------+--------------------+------------+-----------+\n"
     ]
    }
   ],
   "source": [
    "# J_P class model tests\n",
    "class_classifier_model_test('J_P', 'SVM', 'SMOTE')"
   ]
  },
  {
   "cell_type": "code",
   "execution_count": 103,
   "metadata": {},
   "outputs": [
    {
     "name": "stdout",
     "output_type": "stream",
     "text": [
      "J_P Class Classifier: VotingClassifier Model Test Report With Resampling: SMOTE\n",
      "\n",
      "VotingClassifier F1 Cross-Validation Scores: [0.69827034 0.73142857 0.71212121 0.71245186 0.72646873]\n",
      "VotingClassifier F1 Mean: 0.716148\n",
      "\n",
      "\n",
      "+--------------+--------------------+--------------------+------------+-----------+\n",
      "| Class        | Precision          | Recall             |   F1-Score | Support   |\n",
      "+==============+====================+====================+============+===========+\n",
      "| 0            | 0.7179916317991631 | 0.8179218303145853 |   0.764706 | 1049      |\n",
      "+--------------+--------------------+--------------------+------------+-----------+\n",
      "| 1            | 0.7882483370288248 | 0.6784351145038168 |   0.729231 | 1048      |\n",
      "+--------------+--------------------+--------------------+------------+-----------+\n",
      "| Accuracy     |                    |                    |   0.748212 |           |\n",
      "+--------------+--------------------+--------------------+------------+-----------+\n",
      "| Macro Avg    | 0.753119984413994  | 0.7481784724092011 |   0.746968 | 2097      |\n",
      "+--------------+--------------------+--------------------+------------+-----------+\n",
      "| Weighted Avg | 0.7531032326960089 | 0.748211731044349  |   0.746977 | 2097      |\n",
      "+--------------+--------------------+--------------------+------------+-----------+\n"
     ]
    }
   ],
   "source": [
    "class_classifier_model_test('J_P', 'VotingClassifier', 'SMOTE')"
   ]
  },
  {
   "cell_type": "code",
   "execution_count": 19,
   "metadata": {},
   "outputs": [
    {
     "name": "stdout",
     "output_type": "stream",
     "text": [
      "J_P Class Classifier: VotingClassifier Model Test Report With Resampling: BorderlineSMOTE\n",
      "\n",
      "VotingClassifier F1 Cross-Validation Scores: [0.70655633 0.72267846 0.70580808 0.72437938 0.73241206]\n",
      "VotingClassifier F1 Mean: 0.718367\n",
      "\n",
      "\n",
      "+--------------+--------------------+--------------------+------------+-----------+\n",
      "| Class        | Precision          | Recall             |   F1-Score | Support   |\n",
      "+==============+====================+====================+============+===========+\n",
      "| 0            | 0.7148972602739726 | 0.7959961868446139 |   0.75327  | 1049      |\n",
      "+--------------+--------------------+--------------------+------------+-----------+\n",
      "| 1            | 0.7696447793326158 | 0.6822519083969466 |   0.723318 | 1048      |\n",
      "+--------------+--------------------+--------------------+------------+-----------+\n",
      "| Accuracy     |                    |                    |   0.739151 |           |\n",
      "+--------------+--------------------+--------------------+------------+-----------+\n",
      "| Macro Avg    | 0.7422710198032942 | 0.7391240476207803 |   0.738294 | 2097      |\n",
      "+--------------+--------------------+--------------------+------------+-----------+\n",
      "| Weighted Avg | 0.7422579660314632 | 0.7391511683357177 |   0.738301 | 2097      |\n",
      "+--------------+--------------------+--------------------+------------+-----------+\n"
     ]
    }
   ],
   "source": [
    "class_classifier_model_test('J_P', 'VotingClassifier', 'BorderlineSMOTE')"
   ]
  }
 ],
 "metadata": {
  "kernelspec": {
   "display_name": "mbti_01",
   "language": "python",
   "name": "python3"
  },
  "language_info": {
   "codemirror_mode": {
    "name": "ipython",
    "version": 3
   },
   "file_extension": ".py",
   "mimetype": "text/x-python",
   "name": "python",
   "nbconvert_exporter": "python",
   "pygments_lexer": "ipython3",
   "version": "3.9.4"
  },
  "metadata": {
   "interpreter": {
    "hash": "cb2a74056668a37b1e70d58465c542cd41f068be1a294d62341136952e9c6170"
   }
  },
  "orig_nbformat": 2
 },
 "nbformat": 4,
 "nbformat_minor": 2
}
