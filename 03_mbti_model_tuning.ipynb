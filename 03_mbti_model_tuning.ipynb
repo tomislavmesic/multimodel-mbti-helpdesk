{
 "cells": [
  {
   "cell_type": "code",
   "execution_count": 22,
   "metadata": {},
   "outputs": [],
   "source": [
    "import pandas as pd\n",
    "import warnings\n",
    "\n",
    "warnings.filterwarnings(action=\"ignore\", message=r'.*Use subset.*of np.ndarray is not recommended')\n",
    "warnings.filterwarnings('always')  # \"error\", \"ignore\", \"always\", \"default\", \"module\" or \"once\"\n",
    "warnings.filterwarnings(\"ignore\")\n",
    "\n",
    "import seaborn as sns\n",
    "import matplotlib.pyplot as plt\n",
    "\n",
    "from imblearn.over_sampling import SMOTE, BorderlineSMOTE, RandomOverSampler\n",
    "from imblearn.under_sampling import RandomUnderSampler\n",
    "from xgboost import XGBClassifier\n",
    "from sklearn.ensemble import RandomForestClassifier, VotingClassifier\n",
    "from sklearn.svm import SVC\n",
    "from sklearn.linear_model import LogisticRegression\n",
    "from sklearn.model_selection import train_test_split, GridSearchCV, cross_val_score\n",
    "from sklearn.metrics import classification_report, confusion_matrix, ConfusionMatrixDisplay\n",
    "from sklearn.feature_extraction.text import CountVectorizer, TfidfTransformer\n",
    "from tabulate import tabulate"
   ]
  },
  {
   "cell_type": "code",
   "execution_count": 11,
   "metadata": {},
   "outputs": [
    {
     "data": {
      "text/html": [
       "<div>\n",
       "<style scoped>\n",
       "    .dataframe tbody tr th:only-of-type {\n",
       "        vertical-align: middle;\n",
       "    }\n",
       "\n",
       "    .dataframe tbody tr th {\n",
       "        vertical-align: top;\n",
       "    }\n",
       "\n",
       "    .dataframe thead th {\n",
       "        text-align: right;\n",
       "    }\n",
       "</style>\n",
       "<table border=\"1\" class=\"dataframe\">\n",
       "  <thead>\n",
       "    <tr style=\"text-align: right;\">\n",
       "      <th></th>\n",
       "      <th>type</th>\n",
       "      <th>clean_posts</th>\n",
       "      <th>E_I</th>\n",
       "      <th>S_N</th>\n",
       "      <th>T_F</th>\n",
       "      <th>J_P</th>\n",
       "    </tr>\n",
       "  </thead>\n",
       "  <tbody>\n",
       "    <tr>\n",
       "      <th>0</th>\n",
       "      <td>INFJ</td>\n",
       "      <td>enfp and intj moments sportscenter not top te...</td>\n",
       "      <td>0</td>\n",
       "      <td>0</td>\n",
       "      <td>0</td>\n",
       "      <td>1</td>\n",
       "    </tr>\n",
       "    <tr>\n",
       "      <th>1</th>\n",
       "      <td>ENTP</td>\n",
       "      <td>i m finding the lack of me in these posts ver...</td>\n",
       "      <td>1</td>\n",
       "      <td>0</td>\n",
       "      <td>1</td>\n",
       "      <td>0</td>\n",
       "    </tr>\n",
       "    <tr>\n",
       "      <th>2</th>\n",
       "      <td>INTP</td>\n",
       "      <td>good one of course to which i say i know that...</td>\n",
       "      <td>0</td>\n",
       "      <td>0</td>\n",
       "      <td>1</td>\n",
       "      <td>0</td>\n",
       "    </tr>\n",
       "    <tr>\n",
       "      <th>3</th>\n",
       "      <td>INTJ</td>\n",
       "      <td>dear intp i enjoyed our conversation the othe...</td>\n",
       "      <td>0</td>\n",
       "      <td>0</td>\n",
       "      <td>1</td>\n",
       "      <td>1</td>\n",
       "    </tr>\n",
       "    <tr>\n",
       "      <th>4</th>\n",
       "      <td>ENTJ</td>\n",
       "      <td>you re fired that s another silly misconcepti...</td>\n",
       "      <td>1</td>\n",
       "      <td>0</td>\n",
       "      <td>1</td>\n",
       "      <td>1</td>\n",
       "    </tr>\n",
       "  </tbody>\n",
       "</table>\n",
       "</div>"
      ],
      "text/plain": [
       "   type                                        clean_posts  E_I  S_N  T_F  J_P\n",
       "0  INFJ   enfp and intj moments sportscenter not top te...    0    0    0    1\n",
       "1  ENTP   i m finding the lack of me in these posts ver...    1    0    1    0\n",
       "2  INTP   good one of course to which i say i know that...    0    0    1    0\n",
       "3  INTJ   dear intp i enjoyed our conversation the othe...    0    0    1    1\n",
       "4  ENTJ   you re fired that s another silly misconcepti...    1    0    1    1"
      ]
     },
     "execution_count": 11,
     "metadata": {},
     "output_type": "execute_result"
    }
   ],
   "source": [
    "df = pd.read_csv('input/mbti_data_clean.csv')\n",
    "\n",
    "df.head()"
   ]
  },
  {
   "cell_type": "code",
   "execution_count": 12,
   "metadata": {},
   "outputs": [],
   "source": [
    "# Build the vocabulary from 1500 words that are not common words or MBTI personalities\n",
    "vectorizer = CountVectorizer(stop_words = ['and','the','to','of','infj','entp','intp','intj','entj','enfj','infp','enfp','isfp','istp','isfj','istj','estp','esfp','estj','esfj','infjs','entps','intps','intjs','entjs','enfjs','infps','enfps','isfps','istps','isfjs','istjs','estps','esfps','estjs','esfjs'], max_features=1500, analyzer='word', max_df=0.8, min_df=0.1)\n",
    "\n",
    "corpus = df['clean_posts'].values.reshape(1,-1).tolist()[0]\n",
    "\n",
    "vectorizer.fit(corpus)\n",
    "\n",
    "X_cnt = vectorizer.fit_transform(corpus)\n",
    "\n",
    "# Transform the count matrix to a tf-idf representation\n",
    "tfizer = TfidfTransformer()\n",
    "tfizer.fit(X_cnt)\n",
    "\n",
    "X = tfizer.fit_transform(X_cnt).toarray()\n",
    "\n",
    "all_words = vectorizer.get_feature_names()\n",
    "\n",
    "n_words = len(all_words)\n",
    "\n",
    "X_df = pd.DataFrame.from_dict({w: X[:, i] for i, w in enumerate(all_words)})"
   ]
  },
  {
   "cell_type": "code",
   "execution_count": 13,
   "metadata": {},
   "outputs": [],
   "source": [
    "def balance_random_oversample(X_train, y_train):\n",
    "    oversampler = RandomOverSampler(sampling_strategy=0.9, random_state=0)\n",
    "    \n",
    "    X_resampled, y_resampled = oversampler.fit_resample(X_train, y_train)\n",
    "    \n",
    "    return X_resampled, y_resampled\n",
    "\n",
    "def balance_smote_oversample(X_train, y_train):\n",
    "    oversampler = SMOTE(random_state=0)\n",
    "    \n",
    "    X_resampled, y_resampled = oversampler.fit_resample(X_train, y_train)\n",
    "    \n",
    "    return X_resampled, y_resampled\n",
    "\n",
    "def balance_smote_oversample_random_undersample(X_train, y_train):\n",
    "    oversampler = SMOTE(sampling_strategy=0.9, random_state=0) \n",
    "    undersampler = RandomUnderSampler(sampling_strategy=0.9, random_state=0)\n",
    "\n",
    "    # Applying oversampler to oversample the minority class\n",
    "    X_resampled, y_resampled = oversampler.fit_resample(X_train, y_train)\n",
    "\n",
    "    # Applying undersampler to reduce the majority class\n",
    "    X_resampled, y_resampled = undersampler.fit_resample(X_resampled, y_resampled)\n",
    "\n",
    "    return X_resampled, y_resampled\n",
    "\n",
    "def balance_borderlinesmote_oversample(X_train, y_train):\n",
    "    oversampler = BorderlineSMOTE(random_state=0)\n",
    "    \n",
    "    X_resampled, y_resampled = oversampler.fit_resample(X_train, y_train)\n",
    "    \n",
    "    return X_resampled, y_resampled"
   ]
  },
  {
   "cell_type": "code",
   "execution_count": 14,
   "metadata": {},
   "outputs": [],
   "source": [
    "def train_test_split_data(class_name, resampler=None):\n",
    "  y_df = df[class_name]\n",
    "  \n",
    "  if resampler == None:\n",
    "    X_cl = X_df\n",
    "    y_cl = y_df\n",
    "  else:\n",
    "    X_cl, y_cl = resampler(X_df, y_df)\n",
    "\n",
    "  X_cl_train, X_cl_test, y_cl_train, y_cl_test = train_test_split(X_cl, y_cl, test_size=0.2, random_state=42, stratify=y_cl)\n",
    "\n",
    "  return X_cl_train, X_cl_test, y_cl_train, y_cl_test"
   ]
  },
  {
   "cell_type": "code",
   "execution_count": 15,
   "metadata": {},
   "outputs": [],
   "source": [
    "# E_I balanced dataset class\n",
    "X_train_EI, X_test_EI, y_train_EI, y_test_EI = train_test_split_data('E_I', balance_random_oversample)\n",
    "\n",
    "# S_N balanced dataset class\n",
    "X_train_SN, X_test_SN, y_train_SN, y_test_SN = train_test_split_data('S_N', balance_random_oversample)\n",
    "\n",
    "# T_F balanced dataset class\n",
    "X_train_TF, X_test_TF, y_train_TF, y_test_TF = train_test_split_data('T_F')\n",
    "\n",
    "# J_P balanced dataset class\n",
    "X_train_JP, X_test_JP, y_train_JP, y_test_JP = train_test_split_data('J_P', balance_smote_oversample)"
   ]
  },
  {
   "cell_type": "code",
   "execution_count": 109,
   "metadata": {},
   "outputs": [],
   "source": [
    "# Classifiers hyper parameters\n",
    "svm_params = {\n",
    "  'C': [0.1, 1, 10],\n",
    "  'kernel': ['linear', 'rbf'],\n",
    "  'gamma': ['scale', 'auto']  # Only relevant for rbf kernel\n",
    "}\n",
    "\n",
    "lgbm_params = {\n",
    "  'n_estimators': [100, 200, 300],\n",
    "  'learning_rate': [0.01, 0.05, 0.1],\n",
    "  'max_depth': [5, 10, -1]\n",
    "}\n",
    "\n",
    "rf_params = {\n",
    "  'n_estimators': [100, 200, 500],\n",
    "  'max_depth': [10, 20, None],\n",
    "  'min_samples_split': [2, 5]\n",
    "}\n",
    "\n",
    "lr_params = {\n",
    "  'C': [0.1, 1, 10],\n",
    "  'solver': ['lbfgs', 'saga']\n",
    "}\n",
    "\n",
    "xgb_params = {\n",
    "  'n_estimators': [100, 200, 300],\n",
    "  'learning_rate': [0.01, 0.05, 0.1],\n",
    "  'max_depth': [3, 5, 10]\n",
    "}"
   ]
  },
  {
   "cell_type": "code",
   "execution_count": 144,
   "metadata": {},
   "outputs": [],
   "source": [
    "# Define GridSearchCV for RandomForest\n",
    "grid_rf = GridSearchCV(\n",
    "  estimator = RandomForestClassifier(random_state=42),\n",
    "  param_grid = rf_params, \n",
    "  cv = 5, \n",
    "  scoring = 'f1', \n",
    "  n_jobs = -1\n",
    ")\n",
    "\n",
    "# Define GridSearchCV for SVM\n",
    "grid_svm = GridSearchCV(\n",
    "  estimator = SVC(probability=True, random_state=42),\n",
    "  param_grid = svm_params, \n",
    "  cv = 5, \n",
    "  scoring = 'f1', \n",
    "  n_jobs = -1\n",
    ")\n",
    "\n",
    "# Define GridSearchCV for LogisticRegression\n",
    "grid_lr = GridSearchCV(\n",
    "  estimator = LogisticRegression(random_state=42),\n",
    "  param_grid = lr_params,\n",
    "  cv = 5, \n",
    "  scoring = 'f1', \n",
    "  n_jobs = -1\n",
    ")\n",
    "\n",
    "# Define GridSearchCV for XGB\n",
    "grid_xgb = GridSearchCV(\n",
    "  estimator = XGBClassifier(use_label_encoder=False, random_state=42, eval_metric='logloss'),\n",
    "  param_grid = xgb_params, \n",
    "  cv = 5, \n",
    "  scoring = 'f1', \n",
    "  n_jobs = -1\n",
    ")"
   ]
  },
  {
   "cell_type": "code",
   "execution_count": 121,
   "metadata": {},
   "outputs": [],
   "source": [
    "def best_estimator(grid_est, X_train, y_train):\n",
    "  grid_est.fit(X_train, y_train)\n",
    "\n",
    "  best_est = grid_est.best_estimator_\n",
    "\n",
    "  best_params = grid_est.best_params_\n",
    "\n",
    "  results_est = grid_est.cv_results_\n",
    "\n",
    "  return best_est, best_params, results_est"
   ]
  },
  {
   "cell_type": "code",
   "execution_count": 153,
   "metadata": {},
   "outputs": [],
   "source": [
    "def best_estimator_report_rf(class_name, results_estimator, best_params):\n",
    "  print('{:s} Class RandomForest Classifier Hyperparameters Test Report'.format(class_name), end=\"\\n\\n\")\n",
    "\n",
    "  rows = []\n",
    "  for mean, params in zip(results_estimator['mean_test_score'], results_estimator['params']):\n",
    "      rows.append([mean, params['n_estimators'], params['max_depth'], params['min_samples_split']])\n",
    "\n",
    "  headers = [\"Mean F1 Score\", \"n_estimators\", \"Max Depth\", \"Min Samples Split\"]\n",
    "\n",
    "  print(tabulate(rows, headers=headers, tablefmt=\"grid\"), end=\"\\n\\n\")\n",
    "\n",
    "  print(\"Best parameters for {:s} class RandomForest classifier: {}\".format(class_name, best_params))"
   ]
  },
  {
   "cell_type": "code",
   "execution_count": 156,
   "metadata": {},
   "outputs": [],
   "source": [
    "def best_estimator_report_svm(class_name, results_estimator, best_params):\n",
    "  print('{:s} Class SVM Classifier Hyperparameters Test Report'.format(class_name), end=\"\\n\\n\")\n",
    "  \n",
    "  rows = []\n",
    "  # SVM has 'C', 'kernel', and optionally 'gamma'\n",
    "  for mean, params in zip(results_estimator['mean_test_score'], results_estimator['params']):\n",
    "      rows.append([mean, params['C'], params['kernel'], params.get('gamma', 'N/A')])\n",
    "\n",
    "  headers = [\"Mean F1 Score\", \"C\", \"Kernel\", \"Gamma\"]\n",
    "  \n",
    "  print(tabulate(rows, headers=headers, tablefmt=\"grid\"), end=\"\\n\\n\")\n",
    "  \n",
    "  print(\"Best parameters for {:s} class SVM classifier: {}\".format(class_name, best_params))"
   ]
  },
  {
   "cell_type": "code",
   "execution_count": 157,
   "metadata": {},
   "outputs": [],
   "source": [
    "def best_estimator_report_lr(class_name, results_estimator, best_params):\n",
    "    print('{:s} Class LogisticRegression Classifier Hyperparameters Test Report'.format(class_name), end=\"\\n\\n\")\n",
    "    \n",
    "    rows = []\n",
    "    # LogisticRegression has 'C' and 'solver'\n",
    "    for mean, params in zip(results_estimator['mean_test_score'], results_estimator['params']):\n",
    "        rows.append([mean, params['C'], params['solver']])\n",
    "\n",
    "    headers = [\"Mean F1 Score\", \"C\", \"Solver\"]\n",
    "    \n",
    "    print(tabulate(rows, headers=headers, tablefmt=\"grid\"), end=\"\\n\\n\")\n",
    "    \n",
    "    print(\"Best parameters for {:s} class LogisticRegression classifier: {}\".format(class_name, best_params))"
   ]
  },
  {
   "cell_type": "code",
   "execution_count": 158,
   "metadata": {},
   "outputs": [],
   "source": [
    "def best_estimator_report_xgb(class_name, results_estimator, best_params):\n",
    "    print('{:s} Class XGB Classifier Hyperparameters Test Report'.format(class_name), end=\"\\n\\n\")\n",
    "    \n",
    "    rows = []\n",
    "    # XGBoost has 'n_estimators', 'learning_rate', and 'max_depth'\n",
    "    for mean, params in zip(results_estimator['mean_test_score'], results_estimator['params']):\n",
    "        rows.append([mean, params['n_estimators'], params['learning_rate'], params['max_depth']])\n",
    "\n",
    "    headers = [\"Mean F1 Score\", \"n_estimators\", \"Learning Rate\", \"Max Depth\"]\n",
    "    \n",
    "    print(tabulate(rows, headers=headers, tablefmt=\"grid\"), end=\"\\n\\n\")\n",
    "    \n",
    "    print(\"Best parameters for {:s} class XGB classifier: {}\".format(class_name, best_params))"
   ]
  },
  {
   "cell_type": "code",
   "execution_count": 134,
   "metadata": {},
   "outputs": [],
   "source": [
    "#########################################################\n",
    "# E_I RandomForest Classifier Hyperparameters Tunning ###\n",
    "#########################################################\n",
    "\n",
    "best_estimator_ei, best_params_ei, results_estimator_ei = best_estimator(grid_rf, X_train_EI, y_train_EI)"
   ]
  },
  {
   "cell_type": "code",
   "execution_count": 154,
   "metadata": {},
   "outputs": [
    {
     "name": "stdout",
     "output_type": "stream",
     "text": [
      "E_I Class RandomForest Classifier Hyperparameters Test Report\n",
      "\n",
      "+-----------------+----------------+-------------+---------------------+\n",
      "|   Mean F1 Score |   n_estimators |   Max Depth |   Min Samples Split |\n",
      "+=================+================+=============+=====================+\n",
      "|        0.853498 |            100 |          10 |                   2 |\n",
      "+-----------------+----------------+-------------+---------------------+\n",
      "|        0.864754 |            200 |          10 |                   2 |\n",
      "+-----------------+----------------+-------------+---------------------+\n",
      "|        0.870891 |            500 |          10 |                   2 |\n",
      "+-----------------+----------------+-------------+---------------------+\n",
      "|        0.853188 |            100 |          10 |                   5 |\n",
      "+-----------------+----------------+-------------+---------------------+\n",
      "|        0.862153 |            200 |          10 |                   5 |\n",
      "+-----------------+----------------+-------------+---------------------+\n",
      "|        0.86677  |            500 |          10 |                   5 |\n",
      "+-----------------+----------------+-------------+---------------------+\n",
      "|        0.907841 |            100 |          20 |                   2 |\n",
      "+-----------------+----------------+-------------+---------------------+\n",
      "|        0.91126  |            200 |          20 |                   2 |\n",
      "+-----------------+----------------+-------------+---------------------+\n",
      "|        0.912875 |            500 |          20 |                   2 |\n",
      "+-----------------+----------------+-------------+---------------------+\n",
      "|        0.908888 |            100 |          20 |                   5 |\n",
      "+-----------------+----------------+-------------+---------------------+\n",
      "|        0.911903 |            200 |          20 |                   5 |\n",
      "+-----------------+----------------+-------------+---------------------+\n",
      "|        0.913701 |            500 |          20 |                   5 |\n",
      "+-----------------+----------------+-------------+---------------------+\n",
      "|        0.914052 |            100 |             |                   2 |\n",
      "+-----------------+----------------+-------------+---------------------+\n",
      "|        0.916036 |            200 |             |                   2 |\n",
      "+-----------------+----------------+-------------+---------------------+\n",
      "|        0.917061 |            500 |             |                   2 |\n",
      "+-----------------+----------------+-------------+---------------------+\n",
      "|        0.911622 |            100 |             |                   5 |\n",
      "+-----------------+----------------+-------------+---------------------+\n",
      "|        0.91563  |            200 |             |                   5 |\n",
      "+-----------------+----------------+-------------+---------------------+\n",
      "|        0.916987 |            500 |             |                   5 |\n",
      "+-----------------+----------------+-------------+---------------------+\n",
      "\n",
      "Best parameters for E_I class and RandomForest classifier: {'max_depth': None, 'min_samples_split': 2, 'n_estimators': 500}\n"
     ]
    }
   ],
   "source": [
    "best_estimator_report_rf('E_I', results_estimator_ei, best_params_ei)"
   ]
  },
  {
   "cell_type": "code",
   "execution_count": 145,
   "metadata": {},
   "outputs": [],
   "source": [
    "  #########################################################\n",
    "  # S_N RandomForest Classifier Hyperparameters Tunning ###\n",
    "  #########################################################\n",
    "\n",
    "best_estimator_sn, best_params_sn, results_estimator_sn = best_estimator(grid_rf, X_train_SN, y_train_SN)"
   ]
  },
  {
   "cell_type": "code",
   "execution_count": 155,
   "metadata": {},
   "outputs": [
    {
     "name": "stdout",
     "output_type": "stream",
     "text": [
      "S_N Class RandomForest Classifier Hyperparameters Test Report\n",
      "\n",
      "+-----------------+----------------+-------------+---------------------+\n",
      "|   Mean F1 Score |   n_estimators |   Max Depth |   Min Samples Split |\n",
      "+=================+================+=============+=====================+\n",
      "|        0.948618 |            100 |          10 |                   2 |\n",
      "+-----------------+----------------+-------------+---------------------+\n",
      "|        0.952902 |            200 |          10 |                   2 |\n",
      "+-----------------+----------------+-------------+---------------------+\n",
      "|        0.95571  |            500 |          10 |                   2 |\n",
      "+-----------------+----------------+-------------+---------------------+\n",
      "|        0.943683 |            100 |          10 |                   5 |\n",
      "+-----------------+----------------+-------------+---------------------+\n",
      "|        0.950397 |            200 |          10 |                   5 |\n",
      "+-----------------+----------------+-------------+---------------------+\n",
      "|        0.95023  |            500 |          10 |                   5 |\n",
      "+-----------------+----------------+-------------+---------------------+\n",
      "|        0.981258 |            100 |          20 |                   2 |\n",
      "+-----------------+----------------+-------------+---------------------+\n",
      "|        0.982449 |            200 |          20 |                   2 |\n",
      "+-----------------+----------------+-------------+---------------------+\n",
      "|        0.982628 |            500 |          20 |                   2 |\n",
      "+-----------------+----------------+-------------+---------------------+\n",
      "|        0.981432 |            100 |          20 |                   5 |\n",
      "+-----------------+----------------+-------------+---------------------+\n",
      "|        0.982165 |            200 |          20 |                   5 |\n",
      "+-----------------+----------------+-------------+---------------------+\n",
      "|        0.98235  |            500 |          20 |                   5 |\n",
      "+-----------------+----------------+-------------+---------------------+\n",
      "|        0.986115 |            100 |             |                   2 |\n",
      "+-----------------+----------------+-------------+---------------------+\n",
      "|        0.986022 |            200 |             |                   2 |\n",
      "+-----------------+----------------+-------------+---------------------+\n",
      "|        0.98602  |            500 |             |                   2 |\n",
      "+-----------------+----------------+-------------+---------------------+\n",
      "|        0.985465 |            100 |             |                   5 |\n",
      "+-----------------+----------------+-------------+---------------------+\n",
      "|        0.985843 |            200 |             |                   5 |\n",
      "+-----------------+----------------+-------------+---------------------+\n",
      "|        0.985933 |            500 |             |                   5 |\n",
      "+-----------------+----------------+-------------+---------------------+\n",
      "\n",
      "Best parameters for S_N class and RandomForest classifier: {'max_depth': None, 'min_samples_split': 2, 'n_estimators': 100}\n"
     ]
    }
   ],
   "source": [
    "best_estimator_report_rf('S_N', results_estimator_sn, best_params_sn)"
   ]
  },
  {
   "cell_type": "code",
   "execution_count": 147,
   "metadata": {},
   "outputs": [],
   "source": [
    "################################################\n",
    "# T_F SVM Classifier Hyperparameters Tunning ###\n",
    "################################################\n",
    "\n",
    "best_estimator_tf, best_params_tf, results_estimator_tf = best_estimator(grid_svm, X_train_TF, y_train_TF)"
   ]
  },
  {
   "cell_type": "code",
   "execution_count": 159,
   "metadata": {},
   "outputs": [
    {
     "name": "stdout",
     "output_type": "stream",
     "text": [
      "T_F Class SVM Classifier Hyperparameters Test Report\n",
      "\n",
      "+-----------------+------+----------+---------+\n",
      "|   Mean F1 Score |    C | Kernel   | Gamma   |\n",
      "+=================+======+==========+=========+\n",
      "|       0.711918  |  0.1 | linear   | scale   |\n",
      "+-----------------+------+----------+---------+\n",
      "|       0.602411  |  0.1 | rbf      | scale   |\n",
      "+-----------------+------+----------+---------+\n",
      "|       0.711918  |  0.1 | linear   | auto    |\n",
      "+-----------------+------+----------+---------+\n",
      "|       0         |  0.1 | rbf      | auto    |\n",
      "+-----------------+------+----------+---------+\n",
      "|       0.732134  |  1   | linear   | scale   |\n",
      "+-----------------+------+----------+---------+\n",
      "|       0.741693  |  1   | rbf      | scale   |\n",
      "+-----------------+------+----------+---------+\n",
      "|       0.732134  |  1   | linear   | auto    |\n",
      "+-----------------+------+----------+---------+\n",
      "|       0         |  1   | rbf      | auto    |\n",
      "+-----------------+------+----------+---------+\n",
      "|       0.711427  | 10   | linear   | scale   |\n",
      "+-----------------+------+----------+---------+\n",
      "|       0.734953  | 10   | rbf      | scale   |\n",
      "+-----------------+------+----------+---------+\n",
      "|       0.711427  | 10   | linear   | auto    |\n",
      "+-----------------+------+----------+---------+\n",
      "|       0.0392617 | 10   | rbf      | auto    |\n",
      "+-----------------+------+----------+---------+\n",
      "\n",
      "Best parameters for T_F class SVM classifier: {'C': 1, 'gamma': 'scale', 'kernel': 'rbf'}\n"
     ]
    }
   ],
   "source": [
    "best_estimator_report_svm('T_F', results_estimator_tf, best_params_tf)"
   ]
  },
  {
   "cell_type": "code",
   "execution_count": 160,
   "metadata": {},
   "outputs": [],
   "source": [
    "###############################################\n",
    "# J_P Subclassfiers Hyperparameters Tunning ###\n",
    "###############################################\n",
    "\n",
    "# J_P VotingClassifier SVM Subclassifier\n",
    "best_estimator_jp_svm, best_params_jp_svm, results_estimator_jp_svm = best_estimator(grid_svm, X_train_JP, y_train_JP)"
   ]
  },
  {
   "cell_type": "code",
   "execution_count": 161,
   "metadata": {},
   "outputs": [
    {
     "name": "stdout",
     "output_type": "stream",
     "text": [
      "J_P Class SVM Classifier Hyperparameters Test Report\n",
      "\n",
      "+-----------------+------+----------+---------+\n",
      "|   Mean F1 Score |    C | Kernel   | Gamma   |\n",
      "+=================+======+==========+=========+\n",
      "|        0.659768 |  0.1 | linear   | scale   |\n",
      "+-----------------+------+----------+---------+\n",
      "|        0.548206 |  0.1 | rbf      | scale   |\n",
      "+-----------------+------+----------+---------+\n",
      "|        0.659768 |  0.1 | linear   | auto    |\n",
      "+-----------------+------+----------+---------+\n",
      "|        0.60484  |  0.1 | rbf      | auto    |\n",
      "+-----------------+------+----------+---------+\n",
      "|        0.669581 |  1   | linear   | scale   |\n",
      "+-----------------+------+----------+---------+\n",
      "|        0.705943 |  1   | rbf      | scale   |\n",
      "+-----------------+------+----------+---------+\n",
      "|        0.669581 |  1   | linear   | auto    |\n",
      "+-----------------+------+----------+---------+\n",
      "|        0.60484  |  1   | rbf      | auto    |\n",
      "+-----------------+------+----------+---------+\n",
      "|        0.664147 | 10   | linear   | scale   |\n",
      "+-----------------+------+----------+---------+\n",
      "|        0.72166  | 10   | rbf      | scale   |\n",
      "+-----------------+------+----------+---------+\n",
      "|        0.664147 | 10   | linear   | auto    |\n",
      "+-----------------+------+----------+---------+\n",
      "|        0.596194 | 10   | rbf      | auto    |\n",
      "+-----------------+------+----------+---------+\n",
      "\n",
      "Best parameters for J_P class SVM classifier: {'C': 10, 'gamma': 'scale', 'kernel': 'rbf'}\n"
     ]
    }
   ],
   "source": [
    "best_estimator_report_svm('J_P', results_estimator_jp_svm, best_params_jp_svm)"
   ]
  },
  {
   "cell_type": "code",
   "execution_count": 162,
   "metadata": {},
   "outputs": [],
   "source": [
    "# J_P VotingClassifier RandomForest Subclassifier\n",
    "best_estimator_jp_rf, best_params_jp_rf, results_estimator_jp_rf = best_estimator(grid_rf, X_train_JP, y_train_JP)"
   ]
  },
  {
   "cell_type": "code",
   "execution_count": 164,
   "metadata": {},
   "outputs": [
    {
     "name": "stdout",
     "output_type": "stream",
     "text": [
      "J_P Class RandomForest Classifier Hyperparameters Test Report\n",
      "\n",
      "+-----------------+----------------+-------------+---------------------+\n",
      "|   Mean F1 Score |   n_estimators |   Max Depth |   Min Samples Split |\n",
      "+=================+================+=============+=====================+\n",
      "|        0.650572 |            100 |          10 |                   2 |\n",
      "+-----------------+----------------+-------------+---------------------+\n",
      "|        0.653477 |            200 |          10 |                   2 |\n",
      "+-----------------+----------------+-------------+---------------------+\n",
      "|        0.653652 |            500 |          10 |                   2 |\n",
      "+-----------------+----------------+-------------+---------------------+\n",
      "|        0.649974 |            100 |          10 |                   5 |\n",
      "+-----------------+----------------+-------------+---------------------+\n",
      "|        0.648108 |            200 |          10 |                   5 |\n",
      "+-----------------+----------------+-------------+---------------------+\n",
      "|        0.646839 |            500 |          10 |                   5 |\n",
      "+-----------------+----------------+-------------+---------------------+\n",
      "|        0.651417 |            100 |          20 |                   2 |\n",
      "+-----------------+----------------+-------------+---------------------+\n",
      "|        0.651835 |            200 |          20 |                   2 |\n",
      "+-----------------+----------------+-------------+---------------------+\n",
      "|        0.65241  |            500 |          20 |                   2 |\n",
      "+-----------------+----------------+-------------+---------------------+\n",
      "|        0.663615 |            100 |          20 |                   5 |\n",
      "+-----------------+----------------+-------------+---------------------+\n",
      "|        0.661926 |            200 |          20 |                   5 |\n",
      "+-----------------+----------------+-------------+---------------------+\n",
      "|        0.654568 |            500 |          20 |                   5 |\n",
      "+-----------------+----------------+-------------+---------------------+\n",
      "|        0.653475 |            100 |             |                   2 |\n",
      "+-----------------+----------------+-------------+---------------------+\n",
      "|        0.652612 |            200 |             |                   2 |\n",
      "+-----------------+----------------+-------------+---------------------+\n",
      "|        0.657241 |            500 |             |                   2 |\n",
      "+-----------------+----------------+-------------+---------------------+\n",
      "|        0.656406 |            100 |             |                   5 |\n",
      "+-----------------+----------------+-------------+---------------------+\n",
      "|        0.65704  |            200 |             |                   5 |\n",
      "+-----------------+----------------+-------------+---------------------+\n",
      "|        0.657757 |            500 |             |                   5 |\n",
      "+-----------------+----------------+-------------+---------------------+\n",
      "\n",
      "Best parameters for J_P class and RandomForest classifier: {'max_depth': 20, 'min_samples_split': 5, 'n_estimators': 100}\n"
     ]
    }
   ],
   "source": [
    "best_estimator_report_rf('J_P', results_estimator_jp_rf, best_params_jp_rf)"
   ]
  },
  {
   "cell_type": "code",
   "execution_count": 165,
   "metadata": {},
   "outputs": [],
   "source": [
    "# J_P VotingClassifier LogisticRegression Subclassifier\n",
    "best_estimator_jp_lr, best_params_jp_lr, results_estimator_jp_lr = best_estimator(grid_lr, X_train_JP, y_train_JP)"
   ]
  },
  {
   "cell_type": "code",
   "execution_count": 166,
   "metadata": {},
   "outputs": [
    {
     "name": "stdout",
     "output_type": "stream",
     "text": [
      "J_P Class LogisticRegression Classifier Hyperparameters Test Report\n",
      "\n",
      "+-----------------+------+----------+\n",
      "|   Mean F1 Score |    C | Solver   |\n",
      "+=================+======+==========+\n",
      "|        0.660684 |  0.1 | lbfgs    |\n",
      "+-----------------+------+----------+\n",
      "|        0.660518 |  0.1 | saga     |\n",
      "+-----------------+------+----------+\n",
      "|        0.67017  |  1   | lbfgs    |\n",
      "+-----------------+------+----------+\n",
      "|        0.67017  |  1   | saga     |\n",
      "+-----------------+------+----------+\n",
      "|        0.659421 | 10   | lbfgs    |\n",
      "+-----------------+------+----------+\n",
      "|        0.659421 | 10   | saga     |\n",
      "+-----------------+------+----------+\n",
      "\n",
      "Best parameters for J_P class LogisticRegression classifier: {'C': 1, 'solver': 'lbfgs'}\n"
     ]
    }
   ],
   "source": [
    "best_estimator_report_lr('J_P', results_estimator_jp_lr, best_params_jp_lr)"
   ]
  },
  {
   "cell_type": "code",
   "execution_count": 167,
   "metadata": {},
   "outputs": [],
   "source": [
    "# J_P VotingClassifier XGB Subclassifier\n",
    "best_estimator_jp_xgb, best_params_jp_xgb, results_estimator_jp_xgb = best_estimator(grid_xgb, X_train_JP, y_train_JP)"
   ]
  },
  {
   "cell_type": "code",
   "execution_count": 168,
   "metadata": {},
   "outputs": [
    {
     "name": "stdout",
     "output_type": "stream",
     "text": [
      "J_P Class XGB Classifier Hyperparameters Test Report\n",
      "\n",
      "+-----------------+----------------+-----------------+-------------+\n",
      "|   Mean F1 Score |   n_estimators |   Learning Rate |   Max Depth |\n",
      "+=================+================+=================+=============+\n",
      "|        0.635651 |            100 |            0.01 |           3 |\n",
      "+-----------------+----------------+-----------------+-------------+\n",
      "|        0.651247 |            200 |            0.01 |           3 |\n",
      "+-----------------+----------------+-----------------+-------------+\n",
      "|        0.655287 |            300 |            0.01 |           3 |\n",
      "+-----------------+----------------+-----------------+-------------+\n",
      "|        0.649708 |            100 |            0.01 |           5 |\n",
      "+-----------------+----------------+-----------------+-------------+\n",
      "|        0.66428  |            200 |            0.01 |           5 |\n",
      "+-----------------+----------------+-----------------+-------------+\n",
      "|        0.667603 |            300 |            0.01 |           5 |\n",
      "+-----------------+----------------+-----------------+-------------+\n",
      "|        0.674251 |            100 |            0.01 |          10 |\n",
      "+-----------------+----------------+-----------------+-------------+\n",
      "|        0.681616 |            200 |            0.01 |          10 |\n",
      "+-----------------+----------------+-----------------+-------------+\n",
      "|        0.68822  |            300 |            0.01 |          10 |\n",
      "+-----------------+----------------+-----------------+-------------+\n",
      "|        0.664921 |            100 |            0.05 |           3 |\n",
      "+-----------------+----------------+-----------------+-------------+\n",
      "|        0.681577 |            200 |            0.05 |           3 |\n",
      "+-----------------+----------------+-----------------+-------------+\n",
      "|        0.688584 |            300 |            0.05 |           3 |\n",
      "+-----------------+----------------+-----------------+-------------+\n",
      "|        0.679403 |            100 |            0.05 |           5 |\n",
      "+-----------------+----------------+-----------------+-------------+\n",
      "|        0.688685 |            200 |            0.05 |           5 |\n",
      "+-----------------+----------------+-----------------+-------------+\n",
      "|        0.691501 |            300 |            0.05 |           5 |\n",
      "+-----------------+----------------+-----------------+-------------+\n",
      "|        0.697966 |            100 |            0.05 |          10 |\n",
      "+-----------------+----------------+-----------------+-------------+\n",
      "|        0.70417  |            200 |            0.05 |          10 |\n",
      "+-----------------+----------------+-----------------+-------------+\n",
      "|        0.706931 |            300 |            0.05 |          10 |\n",
      "+-----------------+----------------+-----------------+-------------+\n",
      "|        0.681407 |            100 |            0.1  |           3 |\n",
      "+-----------------+----------------+-----------------+-------------+\n",
      "|        0.688228 |            200 |            0.1  |           3 |\n",
      "+-----------------+----------------+-----------------+-------------+\n",
      "|        0.690822 |            300 |            0.1  |           3 |\n",
      "+-----------------+----------------+-----------------+-------------+\n",
      "|        0.689329 |            100 |            0.1  |           5 |\n",
      "+-----------------+----------------+-----------------+-------------+\n",
      "|        0.690335 |            200 |            0.1  |           5 |\n",
      "+-----------------+----------------+-----------------+-------------+\n",
      "|        0.692498 |            300 |            0.1  |           5 |\n",
      "+-----------------+----------------+-----------------+-------------+\n",
      "|        0.695839 |            100 |            0.1  |          10 |\n",
      "+-----------------+----------------+-----------------+-------------+\n",
      "|        0.703867 |            200 |            0.1  |          10 |\n",
      "+-----------------+----------------+-----------------+-------------+\n",
      "|        0.706833 |            300 |            0.1  |          10 |\n",
      "+-----------------+----------------+-----------------+-------------+\n",
      "\n",
      "Best parameters for J_P class XGB classifier: {'learning_rate': 0.05, 'max_depth': 10, 'n_estimators': 300}\n"
     ]
    }
   ],
   "source": [
    "best_estimator_report_xgb('J_P', results_estimator_jp_xgb, best_params_jp_xgb)"
   ]
  },
  {
   "cell_type": "code",
   "execution_count": null,
   "metadata": {},
   "outputs": [],
   "source": [
    "# *****************\n",
    "# Tuned models ****\n",
    "# *****************\n",
    "\n",
    "# tuned EI classifeier \n",
    "clf_tuned_EI = best_estimator_ei\n",
    "\n",
    "# tuned SN classifeier \n",
    "clf_tuned_SN = best_estimator_sn\n",
    "\n",
    "# tuned TF classifeier \n",
    "clf_tuned_TF = best_estimator_tf\n",
    "\n",
    "# tuned JP classifeier \n",
    "clf_tuned_JP = VotingClassifier(estimators=[\n",
    "  ('svm', best_estimator_jp_svm),\n",
    "  ('rf', best_estimator_jp_rf),\n",
    "  ('lr', best_estimator_jp_lr),\n",
    "  ('xgb', best_estimator_jp_xgb)\n",
    "], voting='soft')"
   ]
  },
  {
   "cell_type": "code",
   "execution_count": 175,
   "metadata": {},
   "outputs": [],
   "source": [
    "##########################################\n",
    "# Class Tuned Model Performance Test #####\n",
    "##########################################\n",
    "\n",
    "def class_tuned_model_test(class_name, model_classifier, X_train, X_test, y_train, y_test):\n",
    "    print('{:s} Class Tuned Model Test Report'.format(class_name), end=\"\\n\\n\")\n",
    "\n",
    "    # Cross-Validation and Performance Stability\n",
    "    ei_cv_scores = cross_val_score(model_classifier, X_train, y_train, cv=5, scoring='f1')\n",
    "    \n",
    "    print('F1 Cross-Validation Scores: {:s}'.format(str(ei_cv_scores)))\n",
    "    print('F1 Mean: {:n}'.format(ei_cv_scores.mean()), end=\"\\n\\n\")\n",
    "\n",
    "    # Performance on Test Data\n",
    "    model_classifier.fit(X_train, y_train)\n",
    "\n",
    "    y_pred = model_classifier.predict(X_test)\n",
    "\n",
    "    model_report = classification_report(y_test, y_pred, output_dict=True)\n",
    "\n",
    "    model_report_headers = [\"Class\", \"Precision\", \"Recall\", \"F1-Score\", \"Support\"]\n",
    "    model_report_rows = [\n",
    "      [\"0\", model_report[\"0\"][\"precision\"], model_report[\"0\"][\"recall\"], model_report[\"0\"][\"f1-score\"], model_report[\"0\"][\"support\"]],\n",
    "      [\"1\", model_report[\"1\"][\"precision\"], model_report[\"1\"][\"recall\"], model_report[\"1\"][\"f1-score\"], model_report[\"1\"][\"support\"]],\n",
    "      [\"Accuracy\", \"\", \"\", model_report[\"accuracy\"], \"\"],\n",
    "      [\"Macro Avg\", model_report[\"macro avg\"][\"precision\"], model_report[\"macro avg\"][\"recall\"], model_report[\"macro avg\"][\"f1-score\"], model_report[\"macro avg\"][\"support\"]],\n",
    "      [\"Weighted Avg\", model_report[\"weighted avg\"][\"precision\"], model_report[\"weighted avg\"][\"recall\"], model_report[\"weighted avg\"][\"f1-score\"], model_report[\"weighted avg\"][\"support\"]],\n",
    "    ]\n",
    "\n",
    "    print(tabulate(model_report_rows, headers=model_report_headers, tablefmt=\"grid\"))"
   ]
  },
  {
   "cell_type": "code",
   "execution_count": 177,
   "metadata": {},
   "outputs": [
    {
     "name": "stdout",
     "output_type": "stream",
     "text": [
      "E_I Class Tuned Model Test Report\n",
      "\n",
      "F1 Cross-Validation Scores: [0.921797   0.91214326 0.9205114  0.91512085 0.91573034]\n",
      "F1 Mean: 0.917061\n",
      "\n",
      "+--------------+--------------------+--------------------+------------+-----------+\n",
      "| Class        | Precision          | Recall             |   F1-Score | Support   |\n",
      "+==============+====================+====================+============+===========+\n",
      "| 0            | 0.9333800841514727 | 0.997003745318352  |   0.964143 | 1335      |\n",
      "+--------------+--------------------+--------------------+------------+-----------+\n",
      "| 1            | 0.9963996399639964 | 0.9209650582362728 |   0.957198 | 1202      |\n",
      "+--------------+--------------------+--------------------+------------+-----------+\n",
      "| Accuracy     |                    |                    |   0.960978 |           |\n",
      "+--------------+--------------------+--------------------+------------+-----------+\n",
      "| Macro Avg    | 0.9648898620577345 | 0.9589844017773124 |   0.960671 | 2537      |\n",
      "+--------------+--------------------+--------------------+------------+-----------+\n",
      "| Weighted Avg | 0.9632379895857074 | 0.9609775325187229 |   0.960853 | 2537      |\n",
      "+--------------+--------------------+--------------------+------------+-----------+\n"
     ]
    }
   ],
   "source": [
    "class_tuned_model_test('E_I', clf_tuned_EI, X_train_EI, X_test_EI, y_train_EI, y_test_EI)"
   ]
  },
  {
   "cell_type": "code",
   "execution_count": 178,
   "metadata": {},
   "outputs": [
    {
     "name": "stdout",
     "output_type": "stream",
     "text": [
      "S_N Class Tuned Model Test Report\n",
      "\n",
      "F1 Cross-Validation Scores: [0.98455779 0.98780488 0.98403756 0.98876404 0.98541176]\n",
      "F1 Mean: 0.986115\n",
      "\n",
      "+--------------+--------------------+--------------------+------------+-----------+\n",
      "| Class        | Precision          | Recall             |   F1-Score | Support   |\n",
      "+==============+====================+====================+============+===========+\n",
      "| 0            | 0.9946702198534311 | 0.9979946524064172 |   0.99633  | 1496      |\n",
      "+--------------+--------------------+--------------------+------------+-----------+\n",
      "| 1            | 0.9977628635346756 | 0.9940564635958395 |   0.995906 | 1346      |\n",
      "+--------------+--------------------+--------------------+------------+-----------+\n",
      "| Accuracy     |                    |                    |   0.996129 |           |\n",
      "+--------------+--------------------+--------------------+------------+-----------+\n",
      "| Macro Avg    | 0.9962165416940534 | 0.9960255580011284 |   0.996118 | 2842      |\n",
      "+--------------+--------------------+--------------------+------------+-----------+\n",
      "| Weighted Avg | 0.9961349272408185 | 0.9961294862772695 |   0.996129 | 2842      |\n",
      "+--------------+--------------------+--------------------+------------+-----------+\n"
     ]
    }
   ],
   "source": [
    "class_tuned_model_test('S_N', clf_tuned_SN, X_train_SN, X_test_SN, y_train_SN, y_test_SN)"
   ]
  },
  {
   "cell_type": "code",
   "execution_count": 179,
   "metadata": {},
   "outputs": [
    {
     "name": "stdout",
     "output_type": "stream",
     "text": [
      "T_F Class Tuned Model Test Report\n",
      "\n",
      "F1 Cross-Validation Scores: [0.72859451 0.74718196 0.73413655 0.73642173 0.76212833]\n",
      "F1 Mean: 0.741693\n",
      "\n",
      "+--------------+--------------------+--------------------+------------+-----------+\n",
      "| Class        | Precision          | Recall             |   F1-Score | Support   |\n",
      "+==============+====================+====================+============+===========+\n",
      "| 0            | 0.7851239669421488 | 0.8093716719914803 |   0.797063 | 939       |\n",
      "+--------------+--------------------+--------------------+------------+-----------+\n",
      "| 1            | 0.7666232073011734 | 0.7386934673366834 |   0.752399 | 796       |\n",
      "+--------------+--------------------+--------------------+------------+-----------+\n",
      "| Accuracy     |                    |                    |   0.776945 |           |\n",
      "+--------------+--------------------+--------------------+------------+-----------+\n",
      "| Macro Avg    | 0.7758735871216611 | 0.7740325696640818 |   0.774731 | 1735      |\n",
      "+--------------+--------------------+--------------------+------------+-----------+\n",
      "| Weighted Avg | 0.776636010357586  | 0.7769452449567723 |   0.776572 | 1735      |\n",
      "+--------------+--------------------+--------------------+------------+-----------+\n"
     ]
    }
   ],
   "source": [
    "class_tuned_model_test('T_F', clf_tuned_TF, X_train_TF, X_test_TF, y_train_TF, y_test_TF)"
   ]
  },
  {
   "cell_type": "code",
   "execution_count": 181,
   "metadata": {},
   "outputs": [
    {
     "name": "stdout",
     "output_type": "stream",
     "text": [
      "J_P Class Tuned Model Test Report\n",
      "\n",
      "F1 Cross-Validation Scores: [0.71029225 0.73142857 0.71726755 0.72461929 0.74554707]\n",
      "F1 Mean: 0.725831\n",
      "\n",
      "+--------------+--------------------+--------------------+------------+-----------+\n",
      "| Class        | Precision          | Recall             |   F1-Score | Support   |\n",
      "+==============+====================+====================+============+===========+\n",
      "| 0            | 0.7276559865092749 | 0.8226882745471878 |   0.77226  | 1049      |\n",
      "+--------------+--------------------+--------------------+------------+-----------+\n",
      "| 1            | 0.7958287596048299 | 0.691793893129771  |   0.740174 | 1048      |\n",
      "+--------------+--------------------+--------------------+------------+-----------+\n",
      "| Accuracy     |                    |                    |   0.757272 |           |\n",
      "+--------------+--------------------+--------------------+------------+-----------+\n",
      "| Macro Avg    | 0.7617423730570524 | 0.7572410838384794 |   0.756217 | 2097      |\n",
      "+--------------+--------------------+--------------------+------------+-----------+\n",
      "| Weighted Avg | 0.7617261182232195 | 0.7572722937529804 |   0.756224 | 2097      |\n",
      "+--------------+--------------------+--------------------+------------+-----------+\n"
     ]
    }
   ],
   "source": [
    "class_tuned_model_test('J_P', clf_tuned_JP, X_train_JP, X_test_JP, y_train_JP, y_test_JP)"
   ]
  },
  {
   "cell_type": "code",
   "execution_count": 18,
   "metadata": {},
   "outputs": [
    {
     "name": "stdout",
     "output_type": "stream",
     "text": [
      "Accuracy for E_I: 99.09%\n",
      "Accuracy for S_N: 99.92%\n",
      "Accuracy for T_F: 91.78%\n",
      "Accuracy for J_P: 94.13%\n"
     ]
    }
   ],
   "source": [
    "#################################\n",
    "# Tuned Model Accuracy Test #####\n",
    "#################################\n",
    "\n",
    "df_t = pd.read_csv('output/mbti_data_clean_classified_tuned.csv')\n",
    "\n",
    "# Calculate accuracy for each dimension\n",
    "comparison_results = {}\n",
    "for original, classified in zip(['E_I', 'S_N', 'T_F', 'J_P'], ['e_i', 's_n', 't_f', 'j_p']):\n",
    "    accuracy = (df_t[original] == df_t[classified]).mean()\n",
    "    comparison_results[original] = accuracy\n",
    "\n",
    "# Display results\n",
    "for dimension, accuracy in comparison_results.items():\n",
    "    print(f\"Accuracy for {dimension}: {accuracy:.2%}\")"
   ]
  },
  {
   "cell_type": "code",
   "execution_count": 49,
   "metadata": {},
   "outputs": [
    {
     "data": {
      "image/png": "[encoded data removed]",
      "text/plain": [
       "<Figure size 864x720 with 4 Axes>"
      ]
     },
     "metadata": {
      "needs_background": "light"
     },
     "output_type": "display_data"
    }
   ],
   "source": [
    "# Compare models before and after tuning\n",
    "columns_to_compare = [('E_I', 'e_i'), ('S_N', 's_n'), ('T_F', 't_f'), ('J_P', 'j_p')]\n",
    "\n",
    "fig, axes = plt.subplots(2, 2, figsize=(12, 10))\n",
    "\n",
    "for (orig_col, class_col), ax in zip(columns_to_compare, axes.flatten()):\n",
    "    # Count the occurrences of 0 and 1 for both original and classified columns\n",
    "    counts_orig = df_t[orig_col].value_counts().sort_index()\n",
    "    counts_class = df_t[class_col].value_counts().sort_index()\n",
    "    \n",
    "    counts_df = pd.DataFrame({'Original': counts_orig, 'Classified': counts_class}).fillna(0)\n",
    "    \n",
    "    # Plot the counts as side-by-side bars\n",
    "    counts_df.plot(kind='bar', ax=ax, color=['skyblue', 'salmon'])\n",
    "    ax.set_title(f'Comparison of {orig_col} and {class_col}')\n",
    "    ax.set_xlabel('Class (0 or 1)')\n",
    "    ax.set_ylabel('Count')\n",
    "    ax.legend(loc='upper right')\n",
    "\n",
    "# Adjust layout to prevent overlap\n",
    "plt.tight_layout(rect=[0, 0.03, 1, 0.95])\n",
    "plt.show()"
   ]
  },
  {
   "cell_type": "code",
   "execution_count": 50,
   "metadata": {},
   "outputs": [
    {
     "name": "stdout",
     "output_type": "stream",
     "text": [
      "+--------------+-------------+----------+------------+-----------+\n",
      "|              |   Precision |   Recall |   F1-Score |   Support |\n",
      "+==============+=============+==========+============+===========+\n",
      "| ENFJ         |        0.76 |     0.88 |       0.81 |    190.00 |\n",
      "+--------------+-------------+----------+------------+-----------+\n",
      "| ENFP         |        0.89 |     0.87 |       0.88 |    675.00 |\n",
      "+--------------+-------------+----------+------------+-----------+\n",
      "| ENTJ         |        0.85 |     0.73 |       0.79 |    231.00 |\n",
      "+--------------+-------------+----------+------------+-----------+\n",
      "| ENTP         |        0.91 |     0.85 |       0.88 |    685.00 |\n",
      "+--------------+-------------+----------+------------+-----------+\n",
      "| ESFJ         |        0.82 |     0.88 |       0.85 |     42.00 |\n",
      "+--------------+-------------+----------+------------+-----------+\n",
      "| ESFP         |        0.79 |     0.77 |       0.78 |     48.00 |\n",
      "+--------------+-------------+----------+------------+-----------+\n",
      "| ESTJ         |        0.75 |     0.69 |       0.72 |     39.00 |\n",
      "+--------------+-------------+----------+------------+-----------+\n",
      "| ESTP         |        0.87 |     0.84 |       0.86 |     89.00 |\n",
      "+--------------+-------------+----------+------------+-----------+\n",
      "| INFJ         |        0.87 |     0.84 |       0.86 |   1470.00 |\n",
      "+--------------+-------------+----------+------------+-----------+\n",
      "| INFP         |        0.86 |     0.90 |       0.88 |   1832.00 |\n",
      "+--------------+-------------+----------+------------+-----------+\n",
      "| INTJ         |        0.85 |     0.80 |       0.82 |   1091.00 |\n",
      "+--------------+-------------+----------+------------+-----------+\n",
      "| INTP         |        0.82 |     0.89 |       0.85 |   1304.00 |\n",
      "+--------------+-------------+----------+------------+-----------+\n",
      "| ISFJ         |        0.75 |     0.84 |       0.79 |    166.00 |\n",
      "+--------------+-------------+----------+------------+-----------+\n",
      "| ISFP         |        0.84 |     0.89 |       0.87 |    271.00 |\n",
      "+--------------+-------------+----------+------------+-----------+\n",
      "| ISTJ         |        0.88 |     0.72 |       0.79 |    205.00 |\n",
      "+--------------+-------------+----------+------------+-----------+\n",
      "| ISTP         |        0.88 |     0.88 |       0.88 |    337.00 |\n",
      "+--------------+-------------+----------+------------+-----------+\n",
      "| accuracy     |        0.86 |     0.86 |       0.86 |      0.86 |\n",
      "+--------------+-------------+----------+------------+-----------+\n",
      "| macro avg    |        0.84 |     0.83 |       0.83 |   8675.00 |\n",
      "+--------------+-------------+----------+------------+-----------+\n",
      "| weighted avg |        0.86 |     0.86 |       0.86 |   8675.00 |\n",
      "+--------------+-------------+----------+------------+-----------+\n"
     ]
    }
   ],
   "source": [
    "# Generate the classification report\n",
    "report = classification_report(df_t['type'], df_t['mbti'], zero_division=0, output_dict=True)\n",
    "\n",
    "df_report = pd.DataFrame(report).transpose()\n",
    "df_report = df_report.rename(columns={\"precision\": \"Precision\", \"recall\": \"Recall\", \"f1-score\": \"F1-Score\", \"support\": \"Support\"})\n",
    "\n",
    "table = tabulate(df_report, headers=\"keys\", tablefmt=\"grid\", floatfmt=\".2f\")\n",
    "\n",
    "print(table)"
   ]
  },
  {
   "cell_type": "code",
   "execution_count": 45,
   "metadata": {},
   "outputs": [
    {
     "data": {
      "image/png": "[encoded data removed]",
      "text/plain": [
       "<Figure size 936x792 with 2 Axes>"
      ]
     },
     "metadata": {
      "needs_background": "light"
     },
     "output_type": "display_data"
    }
   ],
   "source": [
    "# Generate and display confusion matrix\n",
    "cm = confusion_matrix(df_t['type'], df_t['mbti'], labels=df['type'].unique())\n",
    "disp = ConfusionMatrixDisplay(confusion_matrix=cm, display_labels=df['type'].unique())\n",
    "\n",
    "fig, ax = plt.subplots(figsize=(13, 11))\n",
    "\n",
    "disp.plot(cmap=plt.cm.Blues, xticks_rotation='vertical', ax=ax, colorbar=True)\n",
    "\n",
    "plt.xlabel(\"Predicted Label\", fontsize=14, labelpad=15)\n",
    "plt.ylabel(\"True Label\", fontsize=14, labelpad=15)\n",
    "\n",
    "# Adjust the font size of annotations inside the confusion matrix cells\n",
    "for text in disp.text_.ravel():\n",
    "    text.set_fontsize(12)\n",
    "\n",
    "plt.show()"
   ]
  }
 ],
 "metadata": {
  "kernelspec": {
   "display_name": "mbti_01",
   "language": "python",
   "name": "python3"
  },
  "language_info": {
   "codemirror_mode": {
    "name": "ipython",
    "version": 3
   },
   "file_extension": ".py",
   "mimetype": "text/x-python",
   "name": "python",
   "nbconvert_exporter": "python",
   "pygments_lexer": "ipython3",
   "version": "3.9.4"
  },
  "metadata": {
   "interpreter": {
    "hash": "cb2a74056668a37b1e70d58465c542cd41f068be1a294d62341136952e9c6170"
   }
  },
  "orig_nbformat": 2
 },
 "nbformat": 4,
 "nbformat_minor": 2
}
